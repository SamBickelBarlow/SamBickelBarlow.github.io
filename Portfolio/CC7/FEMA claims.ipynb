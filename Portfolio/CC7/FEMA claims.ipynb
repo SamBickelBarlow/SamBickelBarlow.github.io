{
 "cells": [
  {
   "cell_type": "code",
   "execution_count": 1,
   "metadata": {},
   "outputs": [],
   "source": [
    "# Install packages\n",
    "import pandas as pd\n",
    "import numpy as np"
   ]
  },
  {
   "cell_type": "code",
   "execution_count": 143,
   "metadata": {},
   "outputs": [],
   "source": [
    "subapps = pd.read_csv('/Users/sambickel-barlow/Desktop/PP434/Portfolio/CC7/HmaSubapplications.csv')\n",
    "crosswalk = pd.read_csv('/Users/sambickel-barlow/Desktop/PP434/Portfolio/CC7/COUNTY_ZIP_122017.csv')"
   ]
  },
  {
   "cell_type": "code",
   "execution_count": 144,
   "metadata": {},
   "outputs": [],
   "source": [
    "# Crosswalk from zip code to county code\n",
    "subapps_df = subapps.merge(crosswalk , left_on='subapplicantZipCode' , right_on='zip')"
   ]
  },
  {
   "cell_type": "code",
   "execution_count": 145,
   "metadata": {},
   "outputs": [],
   "source": [
    "# Define a function to determine the Hazard type\n",
    "def hazard(row):\n",
    "    if (pd.isna(row['primaryHazard']) or row['primaryHazard'] == 'Uncategorized') and (pd.isna(row['secondaryHazard']) or row['secondaryHazard'] == 'Uncategorized'):\n",
    "        return row['tertiaryHazard']\n",
    "    elif (pd.isna(row['primaryHazard']) or row['primaryHazard'] == 'Uncategorized') and (not pd.isna(row['secondaryHazard']) and row['secondaryHazard'] != 'Uncategorized'):\n",
    "        return row['secondaryHazard']\n",
    "    else:\n",
    "        return row['primaryHazard']\n",
    "\n",
    "# Apply the hazard function to create Hazard column\n",
    "subapps_df['Hazard'] = subapps_df.apply(hazard, axis=1)"
   ]
  },
  {
   "cell_type": "code",
   "execution_count": 116,
   "metadata": {},
   "outputs": [],
   "source": [
    "# Aggregate claims to the county-Hazard level sum subapplication claims. Remove extraneous columns\n",
    "FEMA_county_haz = subapps_df[['Hazard' , 'totalSubapplicationAmount' , 'county']].groupby(by = ['county' , 'Hazard']).sum('totalSubapplicationAmount').reset_index()"
   ]
  },
  {
   "cell_type": "code",
   "execution_count": 146,
   "metadata": {},
   "outputs": [],
   "source": [
    "# Ensure 5 digit county code has leading zeros\n",
    "FEMA_county_haz['county'] = FEMA_county_haz['county'].apply(lambda x: str(x).zfill(5))"
   ]
  },
  {
   "cell_type": "code",
   "execution_count": 136,
   "metadata": {},
   "outputs": [],
   "source": [
    "# Crate a dictionary to map Hazard to colors\n",
    "hazard_colors = {\n",
    "    'Flooding': '00AAFF',\n",
    "    'Severe storm': 'FFFF00',\n",
    "    'Infrastructure failure': '884DFF',\n",
    "    'Tornado': '4F666A',\n",
    "    'Fire': 'FF1919',\n",
    "    'Winter storm': 'A0E6FF',\n",
    "    'Tropical cyclone (Hurricane/Typhoon)': '00AAFF',\n",
    "    'Drought': 'CC5500',\n",
    "    'Dam/Levee break': '00AAFF',\n",
    "    'Landslide/Debris flow': '644117',\n",
    "    'Extreme temperature': 'CC5500',\n",
    "    'Tsunami': '00AAFF'\n",
    "}\n"
   ]
  },
  {
   "cell_type": "code",
   "execution_count": 137,
   "metadata": {},
   "outputs": [],
   "source": [
    "# Create new column mapping hazards to colors\n",
    "FEMA_county_haz['Hazard_color'] = FEMA_county_haz['Hazard'].apply(lambda x: hazard_colors.get(x, 'FFFFFF'))"
   ]
  },
  {
   "cell_type": "code",
   "execution_count": 142,
   "metadata": {},
   "outputs": [],
   "source": [
    "# Output to csv\n",
    "FEMA_county_haz.to_csv('/Users/sambickel-barlow/Desktop/PP434/Portfolio/CC7/FEMA_county_haz.csv' , index=False)"
   ]
  }
 ],
 "metadata": {
  "kernelspec": {
   "display_name": "base",
   "language": "python",
   "name": "python3"
  },
  "language_info": {
   "codemirror_mode": {
    "name": "ipython",
    "version": 3
   },
   "file_extension": ".py",
   "mimetype": "text/x-python",
   "name": "python",
   "nbconvert_exporter": "python",
   "pygments_lexer": "ipython3",
   "version": "3.12.4"
  }
 },
 "nbformat": 4,
 "nbformat_minor": 2
}
