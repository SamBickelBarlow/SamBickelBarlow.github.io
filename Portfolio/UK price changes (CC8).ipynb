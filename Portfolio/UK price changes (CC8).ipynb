{
 "cells": [
  {
   "cell_type": "code",
   "execution_count": 57,
   "metadata": {},
   "outputs": [
    {
     "name": "stderr",
     "output_type": "stream",
     "text": [
      "python(10930) MallocStackLogging: can't turn off malloc stack logging because it was not enabled.\n"
     ]
    }
   ],
   "source": [
    "# importing packages\n",
    "import pandas as pd\n",
    "import numpy as np\n",
    "import altair as alt\n",
    "import statsmodels.formula.api as smf"
   ]
  },
  {
   "cell_type": "code",
   "execution_count": 34,
   "metadata": {},
   "outputs": [],
   "source": [
    "# Loading pricing data\n",
    "prices_df = pd.read_csv('https://eco-prices-scrapes.s3.eu-west-2.amazonaws.com/teaching/davies_price_data/db_prices.csv')\n",
    "items_df = pd.read_csv('https://eco-prices-scrapes.s3.eu-west-2.amazonaws.com/teaching/davies_price_data/db_item_clean.csv')"
   ]
  },
  {
   "cell_type": "code",
   "execution_count": 35,
   "metadata": {},
   "outputs": [],
   "source": [
    "# Identifying target descriptions\n",
    "targets = ['HOME CARE ASSISTANT HRLY RATE' , 'RESIDENTIAL HOME' , 'NURSING HOME']"
   ]
  },
  {
   "cell_type": "code",
   "execution_count": 36,
   "metadata": {},
   "outputs": [],
   "source": [
    "# Getting the target items with codes\n",
    "target_items = items_df[items_df['description'].isin(targets)]"
   ]
  },
  {
   "cell_type": "code",
   "execution_count": 37,
   "metadata": {},
   "outputs": [],
   "source": [
    "# Getting the pricing data for target items\n",
    "care_prices_df = prices_df[prices_df['item_id'].isin(target_items['item_id'])]"
   ]
  },
  {
   "cell_type": "code",
   "execution_count": 38,
   "metadata": {},
   "outputs": [],
   "source": [
    "# Delete pricing data that takes up too much memory\n",
    "del prices_df"
   ]
  },
  {
   "cell_type": "code",
   "execution_count": 47,
   "metadata": {},
   "outputs": [],
   "source": [
    "# Merge in items data frame for descriptions along with prices\n",
    "care_prices = care_prices_df.merge(items_df , how='left' , on='item_id')"
   ]
  },
  {
   "cell_type": "code",
   "execution_count": 48,
   "metadata": {},
   "outputs": [],
   "source": [
    " # convert quote_date to datetime, format is yearmonth\n",
    "care_prices['quote_date'] = pd.to_datetime(care_prices['quote_date'], format='%Y%m')"
   ]
  },
  {
   "cell_type": "code",
   "execution_count": 49,
   "metadata": {},
   "outputs": [],
   "source": [
    "# Aggregate to the median prices by month for each target item\n",
    "care_prices = care_prices.groupby(['description','quote_date']).agg({'price': 'median'}).reset_index()"
   ]
  },
  {
   "cell_type": "code",
   "execution_count": 50,
   "metadata": {},
   "outputs": [],
   "source": [
    "#Subset data so that the first observation for eeach description type starts on the same date\n",
    "care_prices = care_prices[care_prices['quote_date'] >= '2014-09-01']"
   ]
  },
  {
   "cell_type": "code",
   "execution_count": 58,
   "metadata": {},
   "outputs": [],
   "source": [
    "care_prices['months_since_start'] = (care_prices['quote_date'] - care_prices['quote_date'].min()).dt.days"
   ]
  },
  {
   "cell_type": "code",
   "execution_count": 59,
   "metadata": {},
   "outputs": [],
   "source": [
    "hc_care_prices = care_prices[care_prices['description'] == 'HOME CARE ASSISTANT HRLY RATE']\n",
    "nh_care_prices = care_prices[care_prices['description'] == 'NURSING HOME']\n",
    "rh_care_prices = care_prices[care_prices['description'] == 'RESIDENTIAL HOME']"
   ]
  },
  {
   "cell_type": "code",
   "execution_count": 60,
   "metadata": {},
   "outputs": [],
   "source": [
    "hc_care_prices_sub = hc_care_prices[hc_care_prices['quote_date'] <= '2022-04-01']\n",
    "nh_care_prices_sub = nh_care_prices[nh_care_prices['quote_date'] <= '2022-04-01']\n",
    "rh_care_prices_sub = rh_care_prices[rh_care_prices['quote_date'] <= '2022-04-01']"
   ]
  },
  {
   "cell_type": "code",
   "execution_count": 61,
   "metadata": {},
   "outputs": [],
   "source": [
    "hc_reg = smf.ols('price ~ months_since_start', data=hc_care_prices_sub).fit()\n",
    "nh_reg = smf.ols('price ~ months_since_start', data=nh_care_prices_sub).fit()\n",
    "rh_reg = smf.ols('price ~ months_since_start', data=rh_care_prices_sub).fit()"
   ]
  },
  {
   "cell_type": "code",
   "execution_count": 66,
   "metadata": {},
   "outputs": [
    {
     "name": "stderr",
     "output_type": "stream",
     "text": [
      "/var/folders/qz/pj0lh7817m3c9ydwgfrtbtf00000gn/T/ipykernel_8093/3326192353.py:2: SettingWithCopyWarning: \n",
      "A value is trying to be set on a copy of a slice from a DataFrame.\n",
      "Try using .loc[row_indexer,col_indexer] = value instead\n",
      "\n",
      "See the caveats in the documentation: https://pandas.pydata.org/pandas-docs/stable/user_guide/indexing.html#returning-a-view-versus-a-copy\n",
      "  nh_care_prices['price_trend'] = nh_reg.predict(nh_care_prices['months_since_start'])\n",
      "/var/folders/qz/pj0lh7817m3c9ydwgfrtbtf00000gn/T/ipykernel_8093/3326192353.py:3: SettingWithCopyWarning: \n",
      "A value is trying to be set on a copy of a slice from a DataFrame.\n",
      "Try using .loc[row_indexer,col_indexer] = value instead\n",
      "\n",
      "See the caveats in the documentation: https://pandas.pydata.org/pandas-docs/stable/user_guide/indexing.html#returning-a-view-versus-a-copy\n",
      "  rh_care_prices['price_trend'] = rh_reg.predict(rh_care_prices['months_since_start'])\n"
     ]
    }
   ],
   "source": [
    "hc_care_prices['price_trend'] = hc_reg.predict(hc_care_prices['months_since_start'])\n",
    "nh_care_prices['price_trend'] = nh_reg.predict(nh_care_prices['months_since_start'])\n",
    "rh_care_prices['price_trend'] = rh_reg.predict(rh_care_prices['months_since_start'])"
   ]
  },
  {
   "cell_type": "code",
   "execution_count": 70,
   "metadata": {},
   "outputs": [],
   "source": [
    "care_prices_rejoin = pd.concat([hc_care_prices , nh_care_prices , rh_care_prices])"
   ]
  },
  {
   "cell_type": "code",
   "execution_count": 72,
   "metadata": {},
   "outputs": [],
   "source": [
    "care_prices_rejoin.to_csv('/Users/sambickel-barlow/Desktop/PP434/Portfolio/CC8/care_prices.csv')"
   ]
  }
 ],
 "metadata": {
  "kernelspec": {
   "display_name": "base",
   "language": "python",
   "name": "python3"
  },
  "language_info": {
   "codemirror_mode": {
    "name": "ipython",
    "version": 3
   },
   "file_extension": ".py",
   "mimetype": "text/x-python",
   "name": "python",
   "nbconvert_exporter": "python",
   "pygments_lexer": "ipython3",
   "version": "3.12.4"
  }
 },
 "nbformat": 4,
 "nbformat_minor": 2
}
