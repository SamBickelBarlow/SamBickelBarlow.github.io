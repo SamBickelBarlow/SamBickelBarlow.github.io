{
 "cells": [
  {
   "cell_type": "code",
   "execution_count": 1,
   "metadata": {},
   "outputs": [],
   "source": [
    "import pandas as pd\n",
    "import numpy as np"
   ]
  },
  {
   "cell_type": "code",
   "execution_count": 37,
   "metadata": {},
   "outputs": [],
   "source": [
    "gini = pd.read_csv('/Users/sambickel-barlow/Desktop/PP434/Portfolio/CC3/API_SI.POV.GINI_DS2_en_csv_v2_165/API_SI.POV.GINI_DS2_en_csv_v2_165.csv' , skiprows=4)\n",
    "growth = pd.read_csv('/Users/sambickel-barlow/Desktop/PP434/Portfolio/CC3/API_NY.GDP.MKTP.KD.ZG_DS2_en_csv_v2_11/API_NY.GDP.MKTP.KD.ZG_DS2_en_csv_v2_11.csv' , skiprows=4)"
   ]
  },
  {
   "cell_type": "code",
   "execution_count": 38,
   "metadata": {},
   "outputs": [],
   "source": [
    "uk_gini = gini[gini['Country Name'] == 'United Kingdom']\n",
    "uk_growth = growth[growth['Country Name'] == 'United Kingdom']"
   ]
  },
  {
   "cell_type": "code",
   "execution_count": 34,
   "metadata": {},
   "outputs": [],
   "source": [
    "years = []\n",
    "for i in range(2023 - 1960 + 1):\n",
    "    years.append(str(1960 + i))"
   ]
  },
  {
   "cell_type": "code",
   "execution_count": 39,
   "metadata": {},
   "outputs": [],
   "source": [
    "uk_gini = uk_gini.melt(id_vars=['Country Name'] , value_vars= years , var_name='year' , value_name='gini')\n",
    "uk_growth = uk_growth.melt(id_vars=['Country Name'] , value_vars= years , var_name='year' , value_name='gini')\n"
   ]
  },
  {
   "cell_type": "code",
   "execution_count": 40,
   "metadata": {},
   "outputs": [],
   "source": [
    "uk_gini.to_csv('/Users/sambickel-barlow/Desktop/PP434/Portfolio/CC3/uk_gini.csv')\n",
    "uk_growth.to_csv('/Users/sambickel-barlow/Desktop/PP434/Portfolio/CC3/uk_growth.csv')"
   ]
  }
 ],
 "metadata": {
  "kernelspec": {
   "display_name": "base",
   "language": "python",
   "name": "python3"
  },
  "language_info": {
   "codemirror_mode": {
    "name": "ipython",
    "version": 3
   },
   "file_extension": ".py",
   "mimetype": "text/x-python",
   "name": "python",
   "nbconvert_exporter": "python",
   "pygments_lexer": "ipython3",
   "version": "3.12.4"
  }
 },
 "nbformat": 4,
 "nbformat_minor": 2
}
