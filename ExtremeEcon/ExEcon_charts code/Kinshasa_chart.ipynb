{
 "cells": [
  {
   "cell_type": "code",
   "execution_count": 1,
   "id": "b6d95394",
   "metadata": {},
   "outputs": [],
   "source": [
    "import pandas as pd\n",
    "import altair as alt"
   ]
  },
  {
   "cell_type": "code",
   "execution_count": 3,
   "id": "c0d9019a",
   "metadata": {},
   "outputs": [],
   "source": [
    "ilo = pd.read_csv('/Users/sambickel-barlow/Downloads/COD_A-filtered-2025-08-11.csv')"
   ]
  },
  {
   "cell_type": "code",
   "execution_count": 5,
   "id": "43c95e8b",
   "metadata": {},
   "outputs": [
    {
     "data": {
      "text/plain": [
       "array(['Occupation (Skill level): Total',\n",
       "       'Occupation (Skill level): Skill levels 3 and 4 ~ high',\n",
       "       'Occupation (Skill level): Skill level 2 ~ medium',\n",
       "       'Occupation (Skill level): Skill level 1 ~ low',\n",
       "       'Occupation (Skill level): Not elsewhere classified',\n",
       "       'Occupation (ISCO-08): Total', 'Occupation (ISCO-08): 1. Managers',\n",
       "       'Occupation (ISCO-08): 2. Professionals',\n",
       "       'Occupation (ISCO-08): 3. Technicians and associate professionals',\n",
       "       'Occupation (ISCO-08): 4. Clerical support workers',\n",
       "       'Occupation (ISCO-08): 5. Service and sales workers',\n",
       "       'Occupation (ISCO-08): 6. Skilled agricultural, forestry and fishery workers',\n",
       "       'Occupation (ISCO-08): 7. Craft and related trades workers',\n",
       "       'Occupation (ISCO-08): 8. Plant and machine operators, and assemblers',\n",
       "       'Occupation (ISCO-08): 9. Elementary occupations',\n",
       "       'Occupation (ISCO-08): 0. Armed forces occupations',\n",
       "       'Occupation (ISCO-08): X. Not elsewhere classified'], dtype=object)"
      ]
     },
     "execution_count": 5,
     "metadata": {},
     "output_type": "execute_result"
    }
   ],
   "source": [
    "ilo['classif1.label'].unique()"
   ]
  },
  {
   "cell_type": "code",
   "execution_count": 11,
   "id": "390ce61c",
   "metadata": {},
   "outputs": [],
   "source": [
    "occs = ilo['classif1.label'].unique()[6:]"
   ]
  },
  {
   "cell_type": "code",
   "execution_count": 6,
   "id": "ac379561",
   "metadata": {},
   "outputs": [
    {
     "data": {
      "text/plain": [
       "array(['Establishment size (Aggregate): Total',\n",
       "       'Establishment size (Aggregate): 1-4 persons',\n",
       "       'Establishment size (Aggregate): 5-49 persons',\n",
       "       'Establishment size (Aggregate): 50+ persons',\n",
       "       'Establishment size (Aggregate): Not stated',\n",
       "       'Establishment size (Detailed): Total',\n",
       "       'Establishment size (Detailed): 1 person',\n",
       "       'Establishment size (Detailed): 2-4 persons',\n",
       "       'Establishment size (Detailed): 5-9 persons',\n",
       "       'Establishment size (Detailed): 10-19 persons',\n",
       "       'Establishment size (Detailed): 20-49 persons',\n",
       "       'Establishment size (Detailed): 50+ persons',\n",
       "       'Establishment size (Detailed): Not stated'], dtype=object)"
      ]
     },
     "execution_count": 6,
     "metadata": {},
     "output_type": "execute_result"
    }
   ],
   "source": [
    "ilo['classif2.label'].unique()"
   ]
  },
  {
   "cell_type": "code",
   "execution_count": 7,
   "id": "a951edd5",
   "metadata": {},
   "outputs": [
    {
     "data": {
      "text/plain": [
       "array(['Total', 'Male', 'Female'], dtype=object)"
      ]
     },
     "execution_count": 7,
     "metadata": {},
     "output_type": "execute_result"
    }
   ],
   "source": [
    "ilo['sex.label'].unique()"
   ]
  },
  {
   "cell_type": "code",
   "execution_count": 8,
   "id": "a208cfa0",
   "metadata": {},
   "outputs": [
    {
     "data": {
      "text/plain": [
       "array([2020, 2012])"
      ]
     },
     "execution_count": 8,
     "metadata": {},
     "output_type": "execute_result"
    }
   ],
   "source": [
    "ilo['time'].unique()"
   ]
  },
  {
   "cell_type": "code",
   "execution_count": 16,
   "id": "d25a6419",
   "metadata": {},
   "outputs": [],
   "source": [
    "ilo_filt = ilo[ilo['classif1.label'].isin(occs)]\n",
    "ilo_filt = ilo_filt[ilo_filt['classif2.label'] == 'Establishment size (Aggregate): Total']\n",
    "ilo_filt = ilo_filt[ilo_filt['sex.label'] == 'Total']\n",
    "ilo_filt = ilo_filt[ilo_filt['time'] == 2020]"
   ]
  },
  {
   "cell_type": "code",
   "execution_count": 40,
   "id": "528b527a",
   "metadata": {},
   "outputs": [
    {
     "data": {
      "application/vnd.microsoft.datawrangler.viewer.v0+json": {
       "columns": [
        {
         "name": "index",
         "rawType": "int64",
         "type": "integer"
        },
        {
         "name": "ref_area.label",
         "rawType": "object",
         "type": "string"
        },
        {
         "name": "source.label",
         "rawType": "object",
         "type": "string"
        },
        {
         "name": "indicator.label",
         "rawType": "object",
         "type": "string"
        },
        {
         "name": "sex.label",
         "rawType": "object",
         "type": "string"
        },
        {
         "name": "classif1.label",
         "rawType": "object",
         "type": "string"
        },
        {
         "name": "classif2.label",
         "rawType": "object",
         "type": "string"
        },
        {
         "name": "time",
         "rawType": "int64",
         "type": "integer"
        },
        {
         "name": "obs_value",
         "rawType": "float64",
         "type": "float"
        },
        {
         "name": "obs_status.label",
         "rawType": "object",
         "type": "unknown"
        },
        {
         "name": "note_classif.label",
         "rawType": "float64",
         "type": "float"
        },
        {
         "name": "note_indicator.label",
         "rawType": "object",
         "type": "unknown"
        },
        {
         "name": "note_source.label",
         "rawType": "object",
         "type": "string"
        },
        {
         "name": "occupation",
         "rawType": "object",
         "type": "string"
        }
       ],
       "ref": "df01dcf0-9c96-4cd5-ac32-682a9ebf44e3",
       "rows": [
        [
         "70",
         "Congo, Democratic Republic of the",
         "HIES - Indicator Cluster Survey",
         "Informal employment rate by sex, occupation and establishment size (%)",
         "Total",
         "Occupation (ISCO-08): 1. Managers",
         "Establishment size (Aggregate): Total",
         "2020",
         "92.602",
         null,
         null,
         null,
         "Repository: ILO-STATISTICS - Micro data processing",
         "Occupation (ISCO-08): 1. Managers"
        ],
        [
         "75",
         "Congo, Democratic Republic of the",
         "HIES - Indicator Cluster Survey",
         "Informal employment rate by sex, occupation and establishment size (%)",
         "Total",
         "Occupation (ISCO-08): 2. Professionals",
         "Establishment size (Aggregate): Total",
         "2020",
         "87.043",
         null,
         null,
         null,
         "Repository: ILO-STATISTICS - Micro data processing",
         "Occupation (ISCO-08): 2. Professionals"
        ],
        [
         "80",
         "Congo, Democratic Republic of the",
         "HIES - Indicator Cluster Survey",
         "Informal employment rate by sex, occupation and establishment size (%)",
         "Total",
         "Occupation (ISCO-08): 3. Technicians and associate professionals",
         "Establishment size (Aggregate): Total",
         "2020",
         "93.948",
         null,
         null,
         null,
         "Repository: ILO-STATISTICS - Micro data processing",
         "Occupation (ISCO-08): 3. Technicians and associate professionals"
        ],
        [
         "85",
         "Congo, Democratic Republic of the",
         "HIES - Indicator Cluster Survey",
         "Informal employment rate by sex, occupation and establishment size (%)",
         "Total",
         "Occupation (ISCO-08): 4. Clerical support workers",
         "Establishment size (Aggregate): Total",
         "2020",
         "76.801",
         null,
         null,
         null,
         "Repository: ILO-STATISTICS - Micro data processing",
         "Occupation (ISCO-08): 4. Clerical support workers"
        ],
        [
         "90",
         "Congo, Democratic Republic of the",
         "HIES - Indicator Cluster Survey",
         "Informal employment rate by sex, occupation and establishment size (%)",
         "Total",
         "Occupation (ISCO-08): 5. Service and sales workers",
         "Establishment size (Aggregate): Total",
         "2020",
         "92.779",
         null,
         null,
         null,
         "Repository: ILO-STATISTICS - Micro data processing",
         "Occupation (ISCO-08): 5. Service and sales workers"
        ],
        [
         "95",
         "Congo, Democratic Republic of the",
         "HIES - Indicator Cluster Survey",
         "Informal employment rate by sex, occupation and establishment size (%)",
         "Total",
         "Occupation (ISCO-08): 6. Skilled agricultural, forestry and fishery workers",
         "Establishment size (Aggregate): Total",
         "2020",
         "98.286",
         null,
         null,
         null,
         "Repository: ILO-STATISTICS - Micro data processing",
         "Occupation (ISCO-08): 6. Skilled agricultural, forestry and fishery workers"
        ],
        [
         "100",
         "Congo, Democratic Republic of the",
         "HIES - Indicator Cluster Survey",
         "Informal employment rate by sex, occupation and establishment size (%)",
         "Total",
         "Occupation (ISCO-08): 7. Craft and related trades workers",
         "Establishment size (Aggregate): Total",
         "2020",
         "96.481",
         null,
         null,
         null,
         "Repository: ILO-STATISTICS - Micro data processing",
         "Occupation (ISCO-08): 7. Craft and related trades workers"
        ],
        [
         "105",
         "Congo, Democratic Republic of the",
         "HIES - Indicator Cluster Survey",
         "Informal employment rate by sex, occupation and establishment size (%)",
         "Total",
         "Occupation (ISCO-08): 8. Plant and machine operators, and assemblers",
         "Establishment size (Aggregate): Total",
         "2020",
         "93.563",
         null,
         null,
         null,
         "Repository: ILO-STATISTICS - Micro data processing",
         "Occupation (ISCO-08): 8. Plant and machine operators, and assemblers"
        ],
        [
         "110",
         "Congo, Democratic Republic of the",
         "HIES - Indicator Cluster Survey",
         "Informal employment rate by sex, occupation and establishment size (%)",
         "Total",
         "Occupation (ISCO-08): 9. Elementary occupations",
         "Establishment size (Aggregate): Total",
         "2020",
         "98.132",
         null,
         null,
         null,
         "Repository: ILO-STATISTICS - Micro data processing",
         "Occupation (ISCO-08): 9. Elementary occupations"
        ],
        [
         "115",
         "Congo, Democratic Republic of the",
         "HIES - Indicator Cluster Survey",
         "Informal employment rate by sex, occupation and establishment size (%)",
         "Total",
         "Occupation (ISCO-08): 0. Armed forces occupations",
         "Establishment size (Aggregate): Total",
         "2020",
         "48.179",
         "Unreliable",
         null,
         null,
         "Repository: ILO-STATISTICS - Micro data processing",
         "Occupation (ISCO-08): 0. Armed forces occupations"
        ],
        [
         "117",
         "Congo, Democratic Republic of the",
         "HIES - Indicator Cluster Survey",
         "Informal employment rate by sex, occupation and establishment size (%)",
         "Total",
         "Occupation (ISCO-08): X. Not elsewhere classified",
         "Establishment size (Aggregate): Total",
         "2020",
         "99.831",
         null,
         null,
         null,
         "Repository: ILO-STATISTICS - Micro data processing",
         "Occupation (ISCO-08): X. Not elsewhere classified"
        ]
       ],
       "shape": {
        "columns": 13,
        "rows": 11
       }
      },
      "text/html": [
       "<div>\n",
       "<style scoped>\n",
       "    .dataframe tbody tr th:only-of-type {\n",
       "        vertical-align: middle;\n",
       "    }\n",
       "\n",
       "    .dataframe tbody tr th {\n",
       "        vertical-align: top;\n",
       "    }\n",
       "\n",
       "    .dataframe thead th {\n",
       "        text-align: right;\n",
       "    }\n",
       "</style>\n",
       "<table border=\"1\" class=\"dataframe\">\n",
       "  <thead>\n",
       "    <tr style=\"text-align: right;\">\n",
       "      <th></th>\n",
       "      <th>ref_area.label</th>\n",
       "      <th>source.label</th>\n",
       "      <th>indicator.label</th>\n",
       "      <th>sex.label</th>\n",
       "      <th>classif1.label</th>\n",
       "      <th>classif2.label</th>\n",
       "      <th>time</th>\n",
       "      <th>obs_value</th>\n",
       "      <th>obs_status.label</th>\n",
       "      <th>note_classif.label</th>\n",
       "      <th>note_indicator.label</th>\n",
       "      <th>note_source.label</th>\n",
       "      <th>occupation</th>\n",
       "    </tr>\n",
       "  </thead>\n",
       "  <tbody>\n",
       "    <tr>\n",
       "      <th>70</th>\n",
       "      <td>Congo, Democratic Republic of the</td>\n",
       "      <td>HIES - Indicator Cluster Survey</td>\n",
       "      <td>Informal employment rate by sex, occupation an...</td>\n",
       "      <td>Total</td>\n",
       "      <td>Occupation (ISCO-08): 1. Managers</td>\n",
       "      <td>Establishment size (Aggregate): Total</td>\n",
       "      <td>2020</td>\n",
       "      <td>92.602</td>\n",
       "      <td>NaN</td>\n",
       "      <td>NaN</td>\n",
       "      <td>NaN</td>\n",
       "      <td>Repository: ILO-STATISTICS - Micro data proces...</td>\n",
       "      <td>Occupation (ISCO-08): 1. Managers</td>\n",
       "    </tr>\n",
       "    <tr>\n",
       "      <th>75</th>\n",
       "      <td>Congo, Democratic Republic of the</td>\n",
       "      <td>HIES - Indicator Cluster Survey</td>\n",
       "      <td>Informal employment rate by sex, occupation an...</td>\n",
       "      <td>Total</td>\n",
       "      <td>Occupation (ISCO-08): 2. Professionals</td>\n",
       "      <td>Establishment size (Aggregate): Total</td>\n",
       "      <td>2020</td>\n",
       "      <td>87.043</td>\n",
       "      <td>NaN</td>\n",
       "      <td>NaN</td>\n",
       "      <td>NaN</td>\n",
       "      <td>Repository: ILO-STATISTICS - Micro data proces...</td>\n",
       "      <td>Occupation (ISCO-08): 2. Professionals</td>\n",
       "    </tr>\n",
       "    <tr>\n",
       "      <th>80</th>\n",
       "      <td>Congo, Democratic Republic of the</td>\n",
       "      <td>HIES - Indicator Cluster Survey</td>\n",
       "      <td>Informal employment rate by sex, occupation an...</td>\n",
       "      <td>Total</td>\n",
       "      <td>Occupation (ISCO-08): 3. Technicians and assoc...</td>\n",
       "      <td>Establishment size (Aggregate): Total</td>\n",
       "      <td>2020</td>\n",
       "      <td>93.948</td>\n",
       "      <td>NaN</td>\n",
       "      <td>NaN</td>\n",
       "      <td>NaN</td>\n",
       "      <td>Repository: ILO-STATISTICS - Micro data proces...</td>\n",
       "      <td>Occupation (ISCO-08): 3. Technicians and assoc...</td>\n",
       "    </tr>\n",
       "    <tr>\n",
       "      <th>85</th>\n",
       "      <td>Congo, Democratic Republic of the</td>\n",
       "      <td>HIES - Indicator Cluster Survey</td>\n",
       "      <td>Informal employment rate by sex, occupation an...</td>\n",
       "      <td>Total</td>\n",
       "      <td>Occupation (ISCO-08): 4. Clerical support workers</td>\n",
       "      <td>Establishment size (Aggregate): Total</td>\n",
       "      <td>2020</td>\n",
       "      <td>76.801</td>\n",
       "      <td>NaN</td>\n",
       "      <td>NaN</td>\n",
       "      <td>NaN</td>\n",
       "      <td>Repository: ILO-STATISTICS - Micro data proces...</td>\n",
       "      <td>Occupation (ISCO-08): 4. Clerical support workers</td>\n",
       "    </tr>\n",
       "    <tr>\n",
       "      <th>90</th>\n",
       "      <td>Congo, Democratic Republic of the</td>\n",
       "      <td>HIES - Indicator Cluster Survey</td>\n",
       "      <td>Informal employment rate by sex, occupation an...</td>\n",
       "      <td>Total</td>\n",
       "      <td>Occupation (ISCO-08): 5. Service and sales wor...</td>\n",
       "      <td>Establishment size (Aggregate): Total</td>\n",
       "      <td>2020</td>\n",
       "      <td>92.779</td>\n",
       "      <td>NaN</td>\n",
       "      <td>NaN</td>\n",
       "      <td>NaN</td>\n",
       "      <td>Repository: ILO-STATISTICS - Micro data proces...</td>\n",
       "      <td>Occupation (ISCO-08): 5. Service and sales wor...</td>\n",
       "    </tr>\n",
       "    <tr>\n",
       "      <th>95</th>\n",
       "      <td>Congo, Democratic Republic of the</td>\n",
       "      <td>HIES - Indicator Cluster Survey</td>\n",
       "      <td>Informal employment rate by sex, occupation an...</td>\n",
       "      <td>Total</td>\n",
       "      <td>Occupation (ISCO-08): 6. Skilled agricultural,...</td>\n",
       "      <td>Establishment size (Aggregate): Total</td>\n",
       "      <td>2020</td>\n",
       "      <td>98.286</td>\n",
       "      <td>NaN</td>\n",
       "      <td>NaN</td>\n",
       "      <td>NaN</td>\n",
       "      <td>Repository: ILO-STATISTICS - Micro data proces...</td>\n",
       "      <td>Occupation (ISCO-08): 6. Skilled agricultural,...</td>\n",
       "    </tr>\n",
       "    <tr>\n",
       "      <th>100</th>\n",
       "      <td>Congo, Democratic Republic of the</td>\n",
       "      <td>HIES - Indicator Cluster Survey</td>\n",
       "      <td>Informal employment rate by sex, occupation an...</td>\n",
       "      <td>Total</td>\n",
       "      <td>Occupation (ISCO-08): 7. Craft and related tra...</td>\n",
       "      <td>Establishment size (Aggregate): Total</td>\n",
       "      <td>2020</td>\n",
       "      <td>96.481</td>\n",
       "      <td>NaN</td>\n",
       "      <td>NaN</td>\n",
       "      <td>NaN</td>\n",
       "      <td>Repository: ILO-STATISTICS - Micro data proces...</td>\n",
       "      <td>Occupation (ISCO-08): 7. Craft and related tra...</td>\n",
       "    </tr>\n",
       "    <tr>\n",
       "      <th>105</th>\n",
       "      <td>Congo, Democratic Republic of the</td>\n",
       "      <td>HIES - Indicator Cluster Survey</td>\n",
       "      <td>Informal employment rate by sex, occupation an...</td>\n",
       "      <td>Total</td>\n",
       "      <td>Occupation (ISCO-08): 8. Plant and machine ope...</td>\n",
       "      <td>Establishment size (Aggregate): Total</td>\n",
       "      <td>2020</td>\n",
       "      <td>93.563</td>\n",
       "      <td>NaN</td>\n",
       "      <td>NaN</td>\n",
       "      <td>NaN</td>\n",
       "      <td>Repository: ILO-STATISTICS - Micro data proces...</td>\n",
       "      <td>Occupation (ISCO-08): 8. Plant and machine ope...</td>\n",
       "    </tr>\n",
       "    <tr>\n",
       "      <th>110</th>\n",
       "      <td>Congo, Democratic Republic of the</td>\n",
       "      <td>HIES - Indicator Cluster Survey</td>\n",
       "      <td>Informal employment rate by sex, occupation an...</td>\n",
       "      <td>Total</td>\n",
       "      <td>Occupation (ISCO-08): 9. Elementary occupations</td>\n",
       "      <td>Establishment size (Aggregate): Total</td>\n",
       "      <td>2020</td>\n",
       "      <td>98.132</td>\n",
       "      <td>NaN</td>\n",
       "      <td>NaN</td>\n",
       "      <td>NaN</td>\n",
       "      <td>Repository: ILO-STATISTICS - Micro data proces...</td>\n",
       "      <td>Occupation (ISCO-08): 9. Elementary occupations</td>\n",
       "    </tr>\n",
       "    <tr>\n",
       "      <th>115</th>\n",
       "      <td>Congo, Democratic Republic of the</td>\n",
       "      <td>HIES - Indicator Cluster Survey</td>\n",
       "      <td>Informal employment rate by sex, occupation an...</td>\n",
       "      <td>Total</td>\n",
       "      <td>Occupation (ISCO-08): 0. Armed forces occupations</td>\n",
       "      <td>Establishment size (Aggregate): Total</td>\n",
       "      <td>2020</td>\n",
       "      <td>48.179</td>\n",
       "      <td>Unreliable</td>\n",
       "      <td>NaN</td>\n",
       "      <td>NaN</td>\n",
       "      <td>Repository: ILO-STATISTICS - Micro data proces...</td>\n",
       "      <td>Occupation (ISCO-08): 0. Armed forces occupations</td>\n",
       "    </tr>\n",
       "    <tr>\n",
       "      <th>117</th>\n",
       "      <td>Congo, Democratic Republic of the</td>\n",
       "      <td>HIES - Indicator Cluster Survey</td>\n",
       "      <td>Informal employment rate by sex, occupation an...</td>\n",
       "      <td>Total</td>\n",
       "      <td>Occupation (ISCO-08): X. Not elsewhere classified</td>\n",
       "      <td>Establishment size (Aggregate): Total</td>\n",
       "      <td>2020</td>\n",
       "      <td>99.831</td>\n",
       "      <td>NaN</td>\n",
       "      <td>NaN</td>\n",
       "      <td>NaN</td>\n",
       "      <td>Repository: ILO-STATISTICS - Micro data proces...</td>\n",
       "      <td>Occupation (ISCO-08): X. Not elsewhere classified</td>\n",
       "    </tr>\n",
       "  </tbody>\n",
       "</table>\n",
       "</div>"
      ],
      "text/plain": [
       "                        ref_area.label                     source.label  \\\n",
       "70   Congo, Democratic Republic of the  HIES - Indicator Cluster Survey   \n",
       "75   Congo, Democratic Republic of the  HIES - Indicator Cluster Survey   \n",
       "80   Congo, Democratic Republic of the  HIES - Indicator Cluster Survey   \n",
       "85   Congo, Democratic Republic of the  HIES - Indicator Cluster Survey   \n",
       "90   Congo, Democratic Republic of the  HIES - Indicator Cluster Survey   \n",
       "95   Congo, Democratic Republic of the  HIES - Indicator Cluster Survey   \n",
       "100  Congo, Democratic Republic of the  HIES - Indicator Cluster Survey   \n",
       "105  Congo, Democratic Republic of the  HIES - Indicator Cluster Survey   \n",
       "110  Congo, Democratic Republic of the  HIES - Indicator Cluster Survey   \n",
       "115  Congo, Democratic Republic of the  HIES - Indicator Cluster Survey   \n",
       "117  Congo, Democratic Republic of the  HIES - Indicator Cluster Survey   \n",
       "\n",
       "                                       indicator.label sex.label  \\\n",
       "70   Informal employment rate by sex, occupation an...     Total   \n",
       "75   Informal employment rate by sex, occupation an...     Total   \n",
       "80   Informal employment rate by sex, occupation an...     Total   \n",
       "85   Informal employment rate by sex, occupation an...     Total   \n",
       "90   Informal employment rate by sex, occupation an...     Total   \n",
       "95   Informal employment rate by sex, occupation an...     Total   \n",
       "100  Informal employment rate by sex, occupation an...     Total   \n",
       "105  Informal employment rate by sex, occupation an...     Total   \n",
       "110  Informal employment rate by sex, occupation an...     Total   \n",
       "115  Informal employment rate by sex, occupation an...     Total   \n",
       "117  Informal employment rate by sex, occupation an...     Total   \n",
       "\n",
       "                                        classif1.label  \\\n",
       "70                   Occupation (ISCO-08): 1. Managers   \n",
       "75              Occupation (ISCO-08): 2. Professionals   \n",
       "80   Occupation (ISCO-08): 3. Technicians and assoc...   \n",
       "85   Occupation (ISCO-08): 4. Clerical support workers   \n",
       "90   Occupation (ISCO-08): 5. Service and sales wor...   \n",
       "95   Occupation (ISCO-08): 6. Skilled agricultural,...   \n",
       "100  Occupation (ISCO-08): 7. Craft and related tra...   \n",
       "105  Occupation (ISCO-08): 8. Plant and machine ope...   \n",
       "110    Occupation (ISCO-08): 9. Elementary occupations   \n",
       "115  Occupation (ISCO-08): 0. Armed forces occupations   \n",
       "117  Occupation (ISCO-08): X. Not elsewhere classified   \n",
       "\n",
       "                            classif2.label  time  obs_value obs_status.label  \\\n",
       "70   Establishment size (Aggregate): Total  2020     92.602              NaN   \n",
       "75   Establishment size (Aggregate): Total  2020     87.043              NaN   \n",
       "80   Establishment size (Aggregate): Total  2020     93.948              NaN   \n",
       "85   Establishment size (Aggregate): Total  2020     76.801              NaN   \n",
       "90   Establishment size (Aggregate): Total  2020     92.779              NaN   \n",
       "95   Establishment size (Aggregate): Total  2020     98.286              NaN   \n",
       "100  Establishment size (Aggregate): Total  2020     96.481              NaN   \n",
       "105  Establishment size (Aggregate): Total  2020     93.563              NaN   \n",
       "110  Establishment size (Aggregate): Total  2020     98.132              NaN   \n",
       "115  Establishment size (Aggregate): Total  2020     48.179       Unreliable   \n",
       "117  Establishment size (Aggregate): Total  2020     99.831              NaN   \n",
       "\n",
       "     note_classif.label note_indicator.label  \\\n",
       "70                  NaN                  NaN   \n",
       "75                  NaN                  NaN   \n",
       "80                  NaN                  NaN   \n",
       "85                  NaN                  NaN   \n",
       "90                  NaN                  NaN   \n",
       "95                  NaN                  NaN   \n",
       "100                 NaN                  NaN   \n",
       "105                 NaN                  NaN   \n",
       "110                 NaN                  NaN   \n",
       "115                 NaN                  NaN   \n",
       "117                 NaN                  NaN   \n",
       "\n",
       "                                     note_source.label  \\\n",
       "70   Repository: ILO-STATISTICS - Micro data proces...   \n",
       "75   Repository: ILO-STATISTICS - Micro data proces...   \n",
       "80   Repository: ILO-STATISTICS - Micro data proces...   \n",
       "85   Repository: ILO-STATISTICS - Micro data proces...   \n",
       "90   Repository: ILO-STATISTICS - Micro data proces...   \n",
       "95   Repository: ILO-STATISTICS - Micro data proces...   \n",
       "100  Repository: ILO-STATISTICS - Micro data proces...   \n",
       "105  Repository: ILO-STATISTICS - Micro data proces...   \n",
       "110  Repository: ILO-STATISTICS - Micro data proces...   \n",
       "115  Repository: ILO-STATISTICS - Micro data proces...   \n",
       "117  Repository: ILO-STATISTICS - Micro data proces...   \n",
       "\n",
       "                                            occupation  \n",
       "70                   Occupation (ISCO-08): 1. Managers  \n",
       "75              Occupation (ISCO-08): 2. Professionals  \n",
       "80   Occupation (ISCO-08): 3. Technicians and assoc...  \n",
       "85   Occupation (ISCO-08): 4. Clerical support workers  \n",
       "90   Occupation (ISCO-08): 5. Service and sales wor...  \n",
       "95   Occupation (ISCO-08): 6. Skilled agricultural,...  \n",
       "100  Occupation (ISCO-08): 7. Craft and related tra...  \n",
       "105  Occupation (ISCO-08): 8. Plant and machine ope...  \n",
       "110    Occupation (ISCO-08): 9. Elementary occupations  \n",
       "115  Occupation (ISCO-08): 0. Armed forces occupations  \n",
       "117  Occupation (ISCO-08): X. Not elsewhere classified  "
      ]
     },
     "execution_count": 40,
     "metadata": {},
     "output_type": "execute_result"
    }
   ],
   "source": [
    "ilo_filt"
   ]
  },
  {
   "cell_type": "code",
   "execution_count": 44,
   "id": "6fb5659d",
   "metadata": {},
   "outputs": [],
   "source": [
    "ilo_filt= ilo_filt.drop(['ref_area.label', 'source.label', 'indicator.label', 'sex.label',\n",
    "       'classif2.label', 'time',\n",
    "       'obs_status.label', 'note_classif.label', 'note_indicator.label',\n",
    "       'note_source.label', 'occupation'], axis=1).reset_index(drop=True)"
   ]
  },
  {
   "cell_type": "code",
   "execution_count": 45,
   "id": "f58ad76a",
   "metadata": {},
   "outputs": [
    {
     "data": {
      "application/vnd.microsoft.datawrangler.viewer.v0+json": {
       "columns": [
        {
         "name": "index",
         "rawType": "int64",
         "type": "integer"
        },
        {
         "name": "classif1.label",
         "rawType": "object",
         "type": "string"
        },
        {
         "name": "obs_value",
         "rawType": "float64",
         "type": "float"
        }
       ],
       "ref": "2729b85a-8671-4555-81a3-05c9eb9c2636",
       "rows": [
        [
         "0",
         "Occupation (ISCO-08): 1. Managers",
         "92.602"
        ],
        [
         "1",
         "Occupation (ISCO-08): 2. Professionals",
         "87.043"
        ],
        [
         "2",
         "Occupation (ISCO-08): 3. Technicians and associate professionals",
         "93.948"
        ],
        [
         "3",
         "Occupation (ISCO-08): 4. Clerical support workers",
         "76.801"
        ],
        [
         "4",
         "Occupation (ISCO-08): 5. Service and sales workers",
         "92.779"
        ],
        [
         "5",
         "Occupation (ISCO-08): 6. Skilled agricultural, forestry and fishery workers",
         "98.286"
        ],
        [
         "6",
         "Occupation (ISCO-08): 7. Craft and related trades workers",
         "96.481"
        ],
        [
         "7",
         "Occupation (ISCO-08): 8. Plant and machine operators, and assemblers",
         "93.563"
        ],
        [
         "8",
         "Occupation (ISCO-08): 9. Elementary occupations",
         "98.132"
        ],
        [
         "9",
         "Occupation (ISCO-08): 0. Armed forces occupations",
         "48.179"
        ],
        [
         "10",
         "Occupation (ISCO-08): X. Not elsewhere classified",
         "99.831"
        ]
       ],
       "shape": {
        "columns": 2,
        "rows": 11
       }
      },
      "text/html": [
       "<div>\n",
       "<style scoped>\n",
       "    .dataframe tbody tr th:only-of-type {\n",
       "        vertical-align: middle;\n",
       "    }\n",
       "\n",
       "    .dataframe tbody tr th {\n",
       "        vertical-align: top;\n",
       "    }\n",
       "\n",
       "    .dataframe thead th {\n",
       "        text-align: right;\n",
       "    }\n",
       "</style>\n",
       "<table border=\"1\" class=\"dataframe\">\n",
       "  <thead>\n",
       "    <tr style=\"text-align: right;\">\n",
       "      <th></th>\n",
       "      <th>classif1.label</th>\n",
       "      <th>obs_value</th>\n",
       "    </tr>\n",
       "  </thead>\n",
       "  <tbody>\n",
       "    <tr>\n",
       "      <th>0</th>\n",
       "      <td>Occupation (ISCO-08): 1. Managers</td>\n",
       "      <td>92.602</td>\n",
       "    </tr>\n",
       "    <tr>\n",
       "      <th>1</th>\n",
       "      <td>Occupation (ISCO-08): 2. Professionals</td>\n",
       "      <td>87.043</td>\n",
       "    </tr>\n",
       "    <tr>\n",
       "      <th>2</th>\n",
       "      <td>Occupation (ISCO-08): 3. Technicians and assoc...</td>\n",
       "      <td>93.948</td>\n",
       "    </tr>\n",
       "    <tr>\n",
       "      <th>3</th>\n",
       "      <td>Occupation (ISCO-08): 4. Clerical support workers</td>\n",
       "      <td>76.801</td>\n",
       "    </tr>\n",
       "    <tr>\n",
       "      <th>4</th>\n",
       "      <td>Occupation (ISCO-08): 5. Service and sales wor...</td>\n",
       "      <td>92.779</td>\n",
       "    </tr>\n",
       "    <tr>\n",
       "      <th>5</th>\n",
       "      <td>Occupation (ISCO-08): 6. Skilled agricultural,...</td>\n",
       "      <td>98.286</td>\n",
       "    </tr>\n",
       "    <tr>\n",
       "      <th>6</th>\n",
       "      <td>Occupation (ISCO-08): 7. Craft and related tra...</td>\n",
       "      <td>96.481</td>\n",
       "    </tr>\n",
       "    <tr>\n",
       "      <th>7</th>\n",
       "      <td>Occupation (ISCO-08): 8. Plant and machine ope...</td>\n",
       "      <td>93.563</td>\n",
       "    </tr>\n",
       "    <tr>\n",
       "      <th>8</th>\n",
       "      <td>Occupation (ISCO-08): 9. Elementary occupations</td>\n",
       "      <td>98.132</td>\n",
       "    </tr>\n",
       "    <tr>\n",
       "      <th>9</th>\n",
       "      <td>Occupation (ISCO-08): 0. Armed forces occupations</td>\n",
       "      <td>48.179</td>\n",
       "    </tr>\n",
       "    <tr>\n",
       "      <th>10</th>\n",
       "      <td>Occupation (ISCO-08): X. Not elsewhere classified</td>\n",
       "      <td>99.831</td>\n",
       "    </tr>\n",
       "  </tbody>\n",
       "</table>\n",
       "</div>"
      ],
      "text/plain": [
       "                                       classif1.label  obs_value\n",
       "0                   Occupation (ISCO-08): 1. Managers     92.602\n",
       "1              Occupation (ISCO-08): 2. Professionals     87.043\n",
       "2   Occupation (ISCO-08): 3. Technicians and assoc...     93.948\n",
       "3   Occupation (ISCO-08): 4. Clerical support workers     76.801\n",
       "4   Occupation (ISCO-08): 5. Service and sales wor...     92.779\n",
       "5   Occupation (ISCO-08): 6. Skilled agricultural,...     98.286\n",
       "6   Occupation (ISCO-08): 7. Craft and related tra...     96.481\n",
       "7   Occupation (ISCO-08): 8. Plant and machine ope...     93.563\n",
       "8     Occupation (ISCO-08): 9. Elementary occupations     98.132\n",
       "9   Occupation (ISCO-08): 0. Armed forces occupations     48.179\n",
       "10  Occupation (ISCO-08): X. Not elsewhere classified     99.831"
      ]
     },
     "execution_count": 45,
     "metadata": {},
     "output_type": "execute_result"
    }
   ],
   "source": [
    "ilo_filt"
   ]
  },
  {
   "cell_type": "code",
   "execution_count": null,
   "id": "5eb1193d",
   "metadata": {},
   "outputs": [],
   "source": [
    "ilo_filt['occupation'] = ilo_filt['classif1.label'].str"
   ]
  },
  {
   "cell_type": "code",
   "execution_count": 36,
   "id": "5598d46e",
   "metadata": {},
   "outputs": [
    {
     "data": {
      "text/html": [
       "\n",
       "<style>\n",
       "  #altair-viz-d2467e04baaa4dee998b44c8b352cb02.vega-embed {\n",
       "    width: 100%;\n",
       "    display: flex;\n",
       "  }\n",
       "\n",
       "  #altair-viz-d2467e04baaa4dee998b44c8b352cb02.vega-embed details,\n",
       "  #altair-viz-d2467e04baaa4dee998b44c8b352cb02.vega-embed details summary {\n",
       "    position: relative;\n",
       "  }\n",
       "</style>\n",
       "<div id=\"altair-viz-d2467e04baaa4dee998b44c8b352cb02\"></div>\n",
       "<script type=\"text/javascript\">\n",
       "  var VEGA_DEBUG = (typeof VEGA_DEBUG == \"undefined\") ? {} : VEGA_DEBUG;\n",
       "  (function(spec, embedOpt){\n",
       "    let outputDiv = document.currentScript.previousElementSibling;\n",
       "    if (outputDiv.id !== \"altair-viz-d2467e04baaa4dee998b44c8b352cb02\") {\n",
       "      outputDiv = document.getElementById(\"altair-viz-d2467e04baaa4dee998b44c8b352cb02\");\n",
       "    }\n",
       "\n",
       "    const paths = {\n",
       "      \"vega\": \"https://cdn.jsdelivr.net/npm/vega@5?noext\",\n",
       "      \"vega-lib\": \"https://cdn.jsdelivr.net/npm/vega-lib?noext\",\n",
       "      \"vega-lite\": \"https://cdn.jsdelivr.net/npm/vega-lite@5.20.1?noext\",\n",
       "      \"vega-embed\": \"https://cdn.jsdelivr.net/npm/vega-embed@6?noext\",\n",
       "    };\n",
       "\n",
       "    function maybeLoadScript(lib, version) {\n",
       "      var key = `${lib.replace(\"-\", \"\")}_version`;\n",
       "      return (VEGA_DEBUG[key] == version) ?\n",
       "        Promise.resolve(paths[lib]) :\n",
       "        new Promise(function(resolve, reject) {\n",
       "          var s = document.createElement('script');\n",
       "          document.getElementsByTagName(\"head\")[0].appendChild(s);\n",
       "          s.async = true;\n",
       "          s.onload = () => {\n",
       "            VEGA_DEBUG[key] = version;\n",
       "            return resolve(paths[lib]);\n",
       "          };\n",
       "          s.onerror = () => reject(`Error loading script: ${paths[lib]}`);\n",
       "          s.src = paths[lib];\n",
       "        });\n",
       "    }\n",
       "\n",
       "    function showError(err) {\n",
       "      outputDiv.innerHTML = `<div class=\"error\" style=\"color:red;\">${err}</div>`;\n",
       "      throw err;\n",
       "    }\n",
       "\n",
       "    function displayChart(vegaEmbed) {\n",
       "      vegaEmbed(outputDiv, spec, embedOpt)\n",
       "        .catch(err => showError(`Javascript Error: ${err.message}<br>This usually means there's a typo in your chart specification. See the javascript console for the full traceback.`));\n",
       "    }\n",
       "\n",
       "    if(typeof define === \"function\" && define.amd) {\n",
       "      requirejs.config({paths});\n",
       "      let deps = [\"vega-embed\"];\n",
       "      require(deps, displayChart, err => showError(`Error loading script: ${err.message}`));\n",
       "    } else {\n",
       "      maybeLoadScript(\"vega\", \"5\")\n",
       "        .then(() => maybeLoadScript(\"vega-lite\", \"5.20.1\"))\n",
       "        .then(() => maybeLoadScript(\"vega-embed\", \"6\"))\n",
       "        .catch(showError)\n",
       "        .then(() => displayChart(vegaEmbed));\n",
       "    }\n",
       "  })({\"config\": {\"view\": {\"continuousWidth\": 300, \"continuousHeight\": 300}}, \"data\": {\"name\": \"data-66c77acbb17ff4f4c383c799dc39804c\"}, \"mark\": {\"type\": \"bar\"}, \"encoding\": {\"x\": {\"field\": \"occupation\", \"type\": \"nominal\"}, \"y\": {\"field\": \"obs_value\", \"type\": \"quantitative\"}}, \"$schema\": \"https://vega.github.io/schema/vega-lite/v5.20.1.json\", \"datasets\": {\"data-66c77acbb17ff4f4c383c799dc39804c\": [{\"ref_area.label\": \"Congo, Democratic Republic of the\", \"source.label\": \"HIES - Indicator Cluster Survey\", \"indicator.label\": \"Informal employment rate by sex, occupation and establishment size (%)\", \"sex.label\": \"Total\", \"classif1.label\": \"Occupation (ISCO-08): 1. Managers\", \"classif2.label\": \"Establishment size (Aggregate): Total\", \"time\": 2020, \"obs_value\": 92.602, \"obs_status.label\": null, \"note_classif.label\": null, \"note_indicator.label\": NaN, \"note_source.label\": \"Repository: ILO-STATISTICS - Micro data processing\", \"occupation\": \"Occupation (ISCO-08): 1. Managers\"}, {\"ref_area.label\": \"Congo, Democratic Republic of the\", \"source.label\": \"HIES - Indicator Cluster Survey\", \"indicator.label\": \"Informal employment rate by sex, occupation and establishment size (%)\", \"sex.label\": \"Total\", \"classif1.label\": \"Occupation (ISCO-08): 2. Professionals\", \"classif2.label\": \"Establishment size (Aggregate): Total\", \"time\": 2020, \"obs_value\": 87.043, \"obs_status.label\": null, \"note_classif.label\": null, \"note_indicator.label\": NaN, \"note_source.label\": \"Repository: ILO-STATISTICS - Micro data processing\", \"occupation\": \"Occupation (ISCO-08): 2. Professionals\"}, {\"ref_area.label\": \"Congo, Democratic Republic of the\", \"source.label\": \"HIES - Indicator Cluster Survey\", \"indicator.label\": \"Informal employment rate by sex, occupation and establishment size (%)\", \"sex.label\": \"Total\", \"classif1.label\": \"Occupation (ISCO-08): 3. Technicians and associate professionals\", \"classif2.label\": \"Establishment size (Aggregate): Total\", \"time\": 2020, \"obs_value\": 93.948, \"obs_status.label\": null, \"note_classif.label\": null, \"note_indicator.label\": NaN, \"note_source.label\": \"Repository: ILO-STATISTICS - Micro data processing\", \"occupation\": \"Occupation (ISCO-08): 3. Technicians and associate professionals\"}, {\"ref_area.label\": \"Congo, Democratic Republic of the\", \"source.label\": \"HIES - Indicator Cluster Survey\", \"indicator.label\": \"Informal employment rate by sex, occupation and establishment size (%)\", \"sex.label\": \"Total\", \"classif1.label\": \"Occupation (ISCO-08): 4. Clerical support workers\", \"classif2.label\": \"Establishment size (Aggregate): Total\", \"time\": 2020, \"obs_value\": 76.801, \"obs_status.label\": null, \"note_classif.label\": null, \"note_indicator.label\": NaN, \"note_source.label\": \"Repository: ILO-STATISTICS - Micro data processing\", \"occupation\": \"Occupation (ISCO-08): 4. Clerical support workers\"}, {\"ref_area.label\": \"Congo, Democratic Republic of the\", \"source.label\": \"HIES - Indicator Cluster Survey\", \"indicator.label\": \"Informal employment rate by sex, occupation and establishment size (%)\", \"sex.label\": \"Total\", \"classif1.label\": \"Occupation (ISCO-08): 5. Service and sales workers\", \"classif2.label\": \"Establishment size (Aggregate): Total\", \"time\": 2020, \"obs_value\": 92.779, \"obs_status.label\": null, \"note_classif.label\": null, \"note_indicator.label\": NaN, \"note_source.label\": \"Repository: ILO-STATISTICS - Micro data processing\", \"occupation\": \"Occupation (ISCO-08): 5. Service and sales workers\"}, {\"ref_area.label\": \"Congo, Democratic Republic of the\", \"source.label\": \"HIES - Indicator Cluster Survey\", \"indicator.label\": \"Informal employment rate by sex, occupation and establishment size (%)\", \"sex.label\": \"Total\", \"classif1.label\": \"Occupation (ISCO-08): 6. Skilled agricultural, forestry and fishery workers\", \"classif2.label\": \"Establishment size (Aggregate): Total\", \"time\": 2020, \"obs_value\": 98.286, \"obs_status.label\": null, \"note_classif.label\": null, \"note_indicator.label\": NaN, \"note_source.label\": \"Repository: ILO-STATISTICS - Micro data processing\", \"occupation\": \"Occupation (ISCO-08): 6. Skilled agricultural, forestry and fishery workers\"}, {\"ref_area.label\": \"Congo, Democratic Republic of the\", \"source.label\": \"HIES - Indicator Cluster Survey\", \"indicator.label\": \"Informal employment rate by sex, occupation and establishment size (%)\", \"sex.label\": \"Total\", \"classif1.label\": \"Occupation (ISCO-08): 7. Craft and related trades workers\", \"classif2.label\": \"Establishment size (Aggregate): Total\", \"time\": 2020, \"obs_value\": 96.481, \"obs_status.label\": null, \"note_classif.label\": null, \"note_indicator.label\": NaN, \"note_source.label\": \"Repository: ILO-STATISTICS - Micro data processing\", \"occupation\": \"Occupation (ISCO-08): 7. Craft and related trades workers\"}, {\"ref_area.label\": \"Congo, Democratic Republic of the\", \"source.label\": \"HIES - Indicator Cluster Survey\", \"indicator.label\": \"Informal employment rate by sex, occupation and establishment size (%)\", \"sex.label\": \"Total\", \"classif1.label\": \"Occupation (ISCO-08): 8. Plant and machine operators, and assemblers\", \"classif2.label\": \"Establishment size (Aggregate): Total\", \"time\": 2020, \"obs_value\": 93.563, \"obs_status.label\": null, \"note_classif.label\": null, \"note_indicator.label\": NaN, \"note_source.label\": \"Repository: ILO-STATISTICS - Micro data processing\", \"occupation\": \"Occupation (ISCO-08): 8. Plant and machine operators, and assemblers\"}, {\"ref_area.label\": \"Congo, Democratic Republic of the\", \"source.label\": \"HIES - Indicator Cluster Survey\", \"indicator.label\": \"Informal employment rate by sex, occupation and establishment size (%)\", \"sex.label\": \"Total\", \"classif1.label\": \"Occupation (ISCO-08): 9. Elementary occupations\", \"classif2.label\": \"Establishment size (Aggregate): Total\", \"time\": 2020, \"obs_value\": 98.132, \"obs_status.label\": null, \"note_classif.label\": null, \"note_indicator.label\": NaN, \"note_source.label\": \"Repository: ILO-STATISTICS - Micro data processing\", \"occupation\": \"Occupation (ISCO-08): 9. Elementary occupations\"}, {\"ref_area.label\": \"Congo, Democratic Republic of the\", \"source.label\": \"HIES - Indicator Cluster Survey\", \"indicator.label\": \"Informal employment rate by sex, occupation and establishment size (%)\", \"sex.label\": \"Total\", \"classif1.label\": \"Occupation (ISCO-08): 0. Armed forces occupations\", \"classif2.label\": \"Establishment size (Aggregate): Total\", \"time\": 2020, \"obs_value\": 48.179, \"obs_status.label\": \"Unreliable\", \"note_classif.label\": null, \"note_indicator.label\": NaN, \"note_source.label\": \"Repository: ILO-STATISTICS - Micro data processing\", \"occupation\": \"Occupation (ISCO-08): 0. Armed forces occupations\"}, {\"ref_area.label\": \"Congo, Democratic Republic of the\", \"source.label\": \"HIES - Indicator Cluster Survey\", \"indicator.label\": \"Informal employment rate by sex, occupation and establishment size (%)\", \"sex.label\": \"Total\", \"classif1.label\": \"Occupation (ISCO-08): X. Not elsewhere classified\", \"classif2.label\": \"Establishment size (Aggregate): Total\", \"time\": 2020, \"obs_value\": 99.831, \"obs_status.label\": null, \"note_classif.label\": null, \"note_indicator.label\": NaN, \"note_source.label\": \"Repository: ILO-STATISTICS - Micro data processing\", \"occupation\": \"Occupation (ISCO-08): X. Not elsewhere classified\"}]}}, {\"mode\": \"vega-lite\"});\n",
       "</script>"
      ],
      "text/plain": [
       "alt.Chart(...)"
      ]
     },
     "execution_count": 36,
     "metadata": {},
     "output_type": "execute_result"
    }
   ],
   "source": [
    "alt.Chart(ilo_filt).mark_bar().encode(\n",
    "    x='occupation:N',\n",
    "    y='obs_value:Q'\n",
    ")"
   ]
  }
 ],
 "metadata": {
  "kernelspec": {
   "display_name": "charts",
   "language": "python",
   "name": "python3"
  },
  "language_info": {
   "codemirror_mode": {
    "name": "ipython",
    "version": 3
   },
   "file_extension": ".py",
   "mimetype": "text/x-python",
   "name": "python",
   "nbconvert_exporter": "python",
   "pygments_lexer": "ipython3",
   "version": "3.12.11"
  }
 },
 "nbformat": 4,
 "nbformat_minor": 5
}
