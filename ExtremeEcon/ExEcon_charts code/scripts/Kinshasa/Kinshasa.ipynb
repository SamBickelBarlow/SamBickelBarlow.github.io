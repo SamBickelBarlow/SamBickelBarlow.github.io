{
 "cells": [
  {
   "cell_type": "code",
   "execution_count": 2,
   "id": "063e0429",
   "metadata": {},
   "outputs": [],
   "source": [
    "import pandas as pd\n",
    "import altair as alt\n",
    "import os"
   ]
  },
  {
   "cell_type": "code",
   "execution_count": 3,
   "id": "fc4d6b75",
   "metadata": {},
   "outputs": [],
   "source": [
    "os.chdir('/Users/sambickel-barlow/Desktop/ExEcon_charts code')"
   ]
  },
  {
   "cell_type": "code",
   "execution_count": 16,
   "id": "1997b26b",
   "metadata": {},
   "outputs": [],
   "source": [
    "kinshasa = pd.read_csv('data/Kinshasa/Congo ex. rate World Bank.csv')"
   ]
  },
  {
   "cell_type": "code",
   "execution_count": 18,
   "id": "a9ceaf2c",
   "metadata": {},
   "outputs": [],
   "source": [
    "# Convert Series Code (e.g., '1997M03') to last day of month (e.g., '1997-03-31')\n",
    "kinshasa['date'] = pd.to_datetime(kinshasa['Series Code'], format='%YM%m') + pd.offsets.MonthEnd(0)"
   ]
  },
  {
   "cell_type": "code",
   "execution_count": 57,
   "id": "818a63af",
   "metadata": {},
   "outputs": [
    {
     "data": {
      "text/html": [
       "\n",
       "<style>\n",
       "  #altair-viz-fdd8090a8a814afa910c092ccea1db66.vega-embed {\n",
       "    width: 100%;\n",
       "    display: flex;\n",
       "  }\n",
       "\n",
       "  #altair-viz-fdd8090a8a814afa910c092ccea1db66.vega-embed details,\n",
       "  #altair-viz-fdd8090a8a814afa910c092ccea1db66.vega-embed details summary {\n",
       "    position: relative;\n",
       "  }\n",
       "</style>\n",
       "<div id=\"altair-viz-fdd8090a8a814afa910c092ccea1db66\"></div>\n",
       "<script type=\"text/javascript\">\n",
       "  var VEGA_DEBUG = (typeof VEGA_DEBUG == \"undefined\") ? {} : VEGA_DEBUG;\n",
       "  (function(spec, embedOpt){\n",
       "    let outputDiv = document.currentScript.previousElementSibling;\n",
       "    if (outputDiv.id !== \"altair-viz-fdd8090a8a814afa910c092ccea1db66\") {\n",
       "      outputDiv = document.getElementById(\"altair-viz-fdd8090a8a814afa910c092ccea1db66\");\n",
       "    }\n",
       "\n",
       "    const paths = {\n",
       "      \"vega\": \"https://cdn.jsdelivr.net/npm/vega@5?noext\",\n",
       "      \"vega-lib\": \"https://cdn.jsdelivr.net/npm/vega-lib?noext\",\n",
       "      \"vega-lite\": \"https://cdn.jsdelivr.net/npm/vega-lite@5.20.1?noext\",\n",
       "      \"vega-embed\": \"https://cdn.jsdelivr.net/npm/vega-embed@6?noext\",\n",
       "    };\n",
       "\n",
       "    function maybeLoadScript(lib, version) {\n",
       "      var key = `${lib.replace(\"-\", \"\")}_version`;\n",
       "      return (VEGA_DEBUG[key] == version) ?\n",
       "        Promise.resolve(paths[lib]) :\n",
       "        new Promise(function(resolve, reject) {\n",
       "          var s = document.createElement('script');\n",
       "          document.getElementsByTagName(\"head\")[0].appendChild(s);\n",
       "          s.async = true;\n",
       "          s.onload = () => {\n",
       "            VEGA_DEBUG[key] = version;\n",
       "            return resolve(paths[lib]);\n",
       "          };\n",
       "          s.onerror = () => reject(`Error loading script: ${paths[lib]}`);\n",
       "          s.src = paths[lib];\n",
       "        });\n",
       "    }\n",
       "\n",
       "    function showError(err) {\n",
       "      outputDiv.innerHTML = `<div class=\"error\" style=\"color:red;\">${err}</div>`;\n",
       "      throw err;\n",
       "    }\n",
       "\n",
       "    function displayChart(vegaEmbed) {\n",
       "      vegaEmbed(outputDiv, spec, embedOpt)\n",
       "        .catch(err => showError(`Javascript Error: ${err.message}<br>This usually means there's a typo in your chart specification. See the javascript console for the full traceback.`));\n",
       "    }\n",
       "\n",
       "    if(typeof define === \"function\" && define.amd) {\n",
       "      requirejs.config({paths});\n",
       "      let deps = [\"vega-embed\"];\n",
       "      require(deps, displayChart, err => showError(`Error loading script: ${err.message}`));\n",
       "    } else {\n",
       "      maybeLoadScript(\"vega\", \"5\")\n",
       "        .then(() => maybeLoadScript(\"vega-lite\", \"5.20.1\"))\n",
       "        .then(() => maybeLoadScript(\"vega-embed\", \"6\"))\n",
       "        .catch(showError)\n",
       "        .then(() => displayChart(vegaEmbed));\n",
       "    }\n",
       "  })({\"config\": {\"view\": {\"continuousWidth\": 300, \"continuousHeight\": 300, \"stroke\": \"transparent\"}, \"background\": \"#fbfbfb\", \"font\": \"Newcastle Basic Clean, Arial, sans-serif\"}, \"data\": {\"name\": \"data-e2b2c23a30783ad7edea4fb8192fb78a\"}, \"mark\": {\"type\": \"line\", \"color\": \"#002fa7\", \"opacity\": 1, \"point\": false, \"strokeWidth\": 2}, \"encoding\": {\"tooltip\": [{\"field\": \"date\", \"format\": \"%B %Y\", \"title\": \"Date\", \"type\": \"temporal\"}, {\"field\": \"DPANUSSPB\", \"format\": \",.0f\", \"title\": \"Exchange Rate (CDF/USD)\", \"type\": \"quantitative\"}], \"x\": {\"axis\": {\"domainColor\": \"dimgrey\", \"format\": \"%Y\", \"labelAngle\": 0, \"labelColor\": \"#333333\", \"labelFontSize\": 13, \"labelFontWeight\": \"bold\", \"tickColor\": \"#333333\", \"tickCount\": \"year\"}, \"field\": \"date\", \"title\": null, \"type\": \"temporal\"}, \"y\": {\"axis\": {\"domainColor\": \"dimgrey\", \"grid\": false, \"labelColor\": \"#333333\", \"labelExpr\": \"datum.value / 1000 + 'K'\", \"labelFontSize\": 12, \"labelFontWeight\": \"bold\", \"tickColor\": \"#333333\", \"titleAngle\": 0, \"titleX\": -20, \"titleY\": -15}, \"field\": \"DPANUSSPB\", \"title\": \"CDF/USD\", \"type\": \"quantitative\"}}, \"height\": 250, \"title\": {\"text\": \"Congolese currency to US Dollars monthly exchange rate\", \"anchor\": \"start\", \"color\": \"#333333\", \"font\": \"Newcastle Basic Clean, Arial, sans-serif\", \"fontSize\": 15, \"subtitle\": [\"Source: World Bank - Series: DPANUSSPB\", \"\"], \"subtitleColor\": \"#333333\", \"subtitleFontSize\": 13, \"subtitleFontStyle\": \"italic\"}, \"width\": 600, \"$schema\": \"https://vega.github.io/schema/vega-lite/v5.20.1.json\", \"datasets\": {\"data-e2b2c23a30783ad7edea4fb8192fb78a\": [{\"Series Code\": \"1997M01\", \"DPANUSSPB\": 4.258147265, \"date\": \"1997-01-31T00:00:00\"}, {\"Series Code\": \"1997M02\", \"DPANUSSPB\": 4.463548387, \"date\": \"1997-02-28T00:00:00\"}, {\"Series Code\": \"1997M03\", \"DPANUSSPB\": 4.57085023, \"date\": \"1997-03-31T00:00:00\"}, {\"Series Code\": \"1997M04\", \"DPANUSSPB\": 5.225485795, \"date\": \"1997-04-30T00:00:00\"}, {\"Series Code\": \"1997M05\", \"DPANUSSPB\": 3.17071875, \"date\": \"1997-05-31T00:00:00\"}, {\"Series Code\": \"1997M06\", \"DPANUSSPB\": 3.494552381, \"date\": \"1997-06-30T00:00:00\"}, {\"Series Code\": \"1997M07\", \"DPANUSSPB\": 3.351930435, \"date\": \"1997-07-31T00:00:00\"}, {\"Series Code\": \"1997M08\", \"DPANUSSPB\": 3.344, \"date\": \"1997-08-31T00:00:00\"}, {\"Series Code\": \"1997M09\", \"DPANUSSPB\": 3.344, \"date\": \"1997-09-30T00:00:00\"}, {\"Series Code\": \"1997M10\", \"DPANUSSPB\": 3.38126087, \"date\": \"1997-10-31T00:00:00\"}, {\"Series Code\": \"1997M11\", \"DPANUSSPB\": 3.565313187, \"date\": \"1997-11-30T00:00:00\"}, {\"Series Code\": \"1997M12\", \"DPANUSSPB\": 3.767791209, \"date\": \"1997-12-31T00:00:00\"}, {\"Series Code\": \"1998M01\", \"DPANUSSPB\": 3.979686813, \"date\": \"1998-01-31T00:00:00\"}, {\"Series Code\": \"1998M02\", \"DPANUSSPB\": 4.164271429, \"date\": \"1998-02-28T00:00:00\"}, {\"Series Code\": \"1998M03\", \"DPANUSSPB\": 4.167, \"date\": \"1998-03-31T00:00:00\"}, {\"Series Code\": \"1998M04\", \"DPANUSSPB\": 4.129045455, \"date\": \"1998-04-30T00:00:00\"}, {\"Series Code\": \"1998M05\", \"DPANUSSPB\": 3.811380952, \"date\": \"1998-05-31T00:00:00\"}, {\"Series Code\": \"1998M06\", \"DPANUSSPB\": 4.009545455, \"date\": \"1998-06-30T00:00:00\"}, {\"Series Code\": \"1998M07\", \"DPANUSSPB\": 4.11, \"date\": \"1998-07-31T00:00:00\"}, {\"Series Code\": \"1998M08\", \"DPANUSSPB\": 4.180285714, \"date\": \"1998-08-31T00:00:00\"}, {\"Series Code\": \"1998M09\", \"DPANUSSPB\": 4.183272727, \"date\": \"1998-09-30T00:00:00\"}, {\"Series Code\": \"1998M10\", \"DPANUSSPB\": 4.184318182, \"date\": \"1998-10-31T00:00:00\"}, {\"Series Code\": \"1998M11\", \"DPANUSSPB\": 4.187952381, \"date\": \"1998-11-30T00:00:00\"}, {\"Series Code\": \"1998M12\", \"DPANUSSPB\": 4.16126087, \"date\": \"1998-12-31T00:00:00\"}, {\"Series Code\": \"1999M01\", \"DPANUSSPB\": 4.185714286, \"date\": \"1999-01-31T00:00:00\"}, {\"Series Code\": \"1999M02\", \"DPANUSSPB\": 4.191, \"date\": \"1999-02-28T00:00:00\"}, {\"Series Code\": \"1999M03\", \"DPANUSSPB\": 4.164, \"date\": \"1999-03-31T00:00:00\"}, {\"Series Code\": \"1999M04\", \"DPANUSSPB\": 4.14625, \"date\": \"1999-04-30T00:00:00\"}, {\"Series Code\": \"1999M05\", \"DPANUSSPB\": 4.177291667, \"date\": \"1999-05-31T00:00:00\"}, {\"Series Code\": \"1999M06\", \"DPANUSSPB\": 4.3503125, \"date\": \"1999-06-30T00:00:00\"}, {\"Series Code\": \"1999M07\", \"DPANUSSPB\": 4.537272727, \"date\": \"1999-07-31T00:00:00\"}, {\"Series Code\": \"1999M08\", \"DPANUSSPB\": 4.48, \"date\": \"1999-08-31T00:00:00\"}, {\"Series Code\": \"1999M09\", \"DPANUSSPB\": 4.5, \"date\": \"1999-09-30T00:00:00\"}, {\"Series Code\": \"1999M10\", \"DPANUSSPB\": 4.46, \"date\": \"1999-10-31T00:00:00\"}, {\"Series Code\": \"1999M11\", \"DPANUSSPB\": 4.51, \"date\": \"1999-11-30T00:00:00\"}, {\"Series Code\": \"1999M12\", \"DPANUSSPB\": 4.493, \"date\": \"1999-12-31T00:00:00\"}, {\"Series Code\": \"2000M01\", \"DPANUSSPB\": 5.654428571, \"date\": \"2000-01-31T00:00:00\"}, {\"Series Code\": \"2000M02\", \"DPANUSSPB\": 8.506666667, \"date\": \"2000-02-29T00:00:00\"}, {\"Series Code\": \"2000M03\", \"DPANUSSPB\": 8.507, \"date\": \"2000-03-31T00:00:00\"}, {\"Series Code\": \"2000M04\", \"DPANUSSPB\": 8.507, \"date\": \"2000-04-30T00:00:00\"}, {\"Series Code\": \"2000M05\", \"DPANUSSPB\": 8.507, \"date\": \"2000-05-31T00:00:00\"}, {\"Series Code\": \"2000M06\", \"DPANUSSPB\": 15.67881818, \"date\": \"2000-06-30T00:00:00\"}, {\"Series Code\": \"2000M07\", \"DPANUSSPB\": 22.213, \"date\": \"2000-07-31T00:00:00\"}, {\"Series Code\": \"2000M08\", \"DPANUSSPB\": 22.213, \"date\": \"2000-08-31T00:00:00\"}, {\"Series Code\": \"2000M09\", \"DPANUSSPB\": 22.213, \"date\": \"2000-09-30T00:00:00\"}, {\"Series Code\": \"2000M10\", \"DPANUSSPB\": 22.21286364, \"date\": \"2000-10-31T00:00:00\"}, {\"Series Code\": \"2000M11\", \"DPANUSSPB\": 47.26204545, \"date\": \"2000-11-30T00:00:00\"}, {\"Series Code\": \"2000M12\", \"DPANUSSPB\": 47.1552381, \"date\": \"2000-12-31T00:00:00\"}, {\"Series Code\": \"2001M01\", \"DPANUSSPB\": 47.06621739, \"date\": \"2001-01-31T00:00:00\"}, {\"Series Code\": \"2001M02\", \"DPANUSSPB\": 47.263, \"date\": \"2001-02-28T00:00:00\"}, {\"Series Code\": \"2001M03\", \"DPANUSSPB\": 47.263, \"date\": \"2001-03-31T00:00:00\"}, {\"Series Code\": \"2001M04\", \"DPANUSSPB\": 47.263, \"date\": \"2001-04-30T00:00:00\"}, {\"Series Code\": \"2001M05\", \"DPANUSSPB\": 74.33336957, \"date\": \"2001-05-31T00:00:00\"}, {\"Series Code\": \"2001M06\", \"DPANUSSPB\": 330.1334762, \"date\": \"2001-06-30T00:00:00\"}, {\"Series Code\": \"2001M07\", \"DPANUSSPB\": 265.71575, \"date\": \"2001-07-31T00:00:00\"}, {\"Series Code\": \"2001M08\", \"DPANUSSPB\": 265.7293478, \"date\": \"2001-08-31T00:00:00\"}, {\"Series Code\": \"2001M09\", \"DPANUSSPB\": 293.78255, \"date\": \"2001-09-30T00:00:00\"}, {\"Series Code\": \"2001M10\", \"DPANUSSPB\": 307.2941522, \"date\": \"2001-10-31T00:00:00\"}, {\"Series Code\": \"2001M11\", \"DPANUSSPB\": 313.6509545, \"date\": \"2001-11-30T00:00:00\"}, {\"Series Code\": \"2001M12\", \"DPANUSSPB\": 316.8619524, \"date\": \"2001-12-31T00:00:00\"}, {\"Series Code\": \"2002M01\", \"DPANUSSPB\": 323.1395652, \"date\": \"2002-01-31T00:00:00\"}, {\"Series Code\": \"2002M02\", \"DPANUSSPB\": 330.51175, \"date\": \"2002-02-28T00:00:00\"}, {\"Series Code\": \"2002M03\", \"DPANUSSPB\": 327.8746667, \"date\": \"2002-03-31T00:00:00\"}, {\"Series Code\": \"2002M04\", \"DPANUSSPB\": 316.4897727, \"date\": \"2002-04-30T00:00:00\"}, {\"Series Code\": \"2002M05\", \"DPANUSSPB\": 310.2669565, \"date\": \"2002-05-31T00:00:00\"}, {\"Series Code\": \"2002M06\", \"DPANUSSPB\": 332.155875, \"date\": \"2002-06-30T00:00:00\"}, {\"Series Code\": \"2002M07\", \"DPANUSSPB\": 335.8666522, \"date\": \"2002-07-31T00:00:00\"}, {\"Series Code\": \"2002M08\", \"DPANUSSPB\": 343.9307955, \"date\": \"2002-08-31T00:00:00\"}, {\"Series Code\": \"2002M09\", \"DPANUSSPB\": 352.8222619, \"date\": \"2002-09-30T00:00:00\"}, {\"Series Code\": \"2002M10\", \"DPANUSSPB\": 367.1333696, \"date\": \"2002-10-31T00:00:00\"}, {\"Series Code\": \"2002M11\", \"DPANUSSPB\": 396.6259524, \"date\": \"2002-11-30T00:00:00\"}, {\"Series Code\": \"2002M12\", \"DPANUSSPB\": 369.7975649, \"date\": \"2002-12-31T00:00:00\"}, {\"Series Code\": \"2003M01\", \"DPANUSSPB\": 371.1481843, \"date\": \"2003-01-31T00:00:00\"}, {\"Series Code\": \"2003M02\", \"DPANUSSPB\": 415.9730167, \"date\": \"2003-02-28T00:00:00\"}, {\"Series Code\": \"2003M03\", \"DPANUSSPB\": 405.5478571, \"date\": \"2003-03-31T00:00:00\"}, {\"Series Code\": \"2003M04\", \"DPANUSSPB\": 407.4402273, \"date\": \"2003-04-30T00:00:00\"}, {\"Series Code\": \"2003M05\", \"DPANUSSPB\": 412.3344156, \"date\": \"2003-05-31T00:00:00\"}, {\"Series Code\": \"2003M06\", \"DPANUSSPB\": 417.6734694, \"date\": \"2003-06-30T00:00:00\"}, {\"Series Code\": \"2003M07\", \"DPANUSSPB\": 420.8680435, \"date\": \"2003-07-31T00:00:00\"}, {\"Series Code\": \"2003M08\", \"DPANUSSPB\": 424.4171429, \"date\": \"2003-08-31T00:00:00\"}, {\"Series Code\": \"2003M09\", \"DPANUSSPB\": 412.8225, \"date\": \"2003-09-30T00:00:00\"}, {\"Series Code\": \"2003M10\", \"DPANUSSPB\": 375.9347826, \"date\": \"2003-10-31T00:00:00\"}, {\"Series Code\": \"2003M11\", \"DPANUSSPB\": 372.475, \"date\": \"2003-11-30T00:00:00\"}, {\"Series Code\": \"2003M12\", \"DPANUSSPB\": 373.3768116, \"date\": \"2003-12-31T00:00:00\"}, {\"Series Code\": \"2004M01\", \"DPANUSSPB\": 379.2651515, \"date\": \"2004-01-31T00:00:00\"}, {\"Series Code\": \"2004M02\", \"DPANUSSPB\": 380.75, \"date\": \"2004-02-29T00:00:00\"}, {\"Series Code\": \"2004M03\", \"DPANUSSPB\": 387.0434783, \"date\": \"2004-03-31T00:00:00\"}, {\"Series Code\": \"2004M04\", \"DPANUSSPB\": 390.4090909, \"date\": \"2004-04-30T00:00:00\"}, {\"Series Code\": \"2004M05\", \"DPANUSSPB\": 392.0714286, \"date\": \"2004-05-31T00:00:00\"}, {\"Series Code\": \"2004M06\", \"DPANUSSPB\": 391.5454545, \"date\": \"2004-06-30T00:00:00\"}, {\"Series Code\": \"2004M07\", \"DPANUSSPB\": 390.7954545, \"date\": \"2004-07-31T00:00:00\"}, {\"Series Code\": \"2004M08\", \"DPANUSSPB\": 392.4545455, \"date\": \"2004-08-31T00:00:00\"}, {\"Series Code\": \"2004M09\", \"DPANUSSPB\": 403.7045455, \"date\": \"2004-09-30T00:00:00\"}, {\"Series Code\": \"2004M10\", \"DPANUSSPB\": 426.3333333, \"date\": \"2004-10-31T00:00:00\"}, {\"Series Code\": \"2004M11\", \"DPANUSSPB\": 426.2727273, \"date\": \"2004-11-30T00:00:00\"}, {\"Series Code\": \"2004M12\", \"DPANUSSPB\": 439.4130435, \"date\": \"2004-12-31T00:00:00\"}, {\"Series Code\": \"2005M01\", \"DPANUSSPB\": 451.7380952, \"date\": \"2005-01-31T00:00:00\"}, {\"Series Code\": \"2005M02\", \"DPANUSSPB\": 469.4, \"date\": \"2005-02-28T00:00:00\"}, {\"Series Code\": \"2005M03\", \"DPANUSSPB\": 490.2717391, \"date\": \"2005-03-31T00:00:00\"}, {\"Series Code\": \"2005M04\", \"DPANUSSPB\": 510.047619, \"date\": \"2005-04-30T00:00:00\"}, {\"Series Code\": \"2005M05\", \"DPANUSSPB\": 513.8636364, \"date\": \"2005-05-31T00:00:00\"}, {\"Series Code\": \"2005M06\", \"DPANUSSPB\": 473.4318182, \"date\": \"2005-06-30T00:00:00\"}, {\"Series Code\": \"2005M07\", \"DPANUSSPB\": 474.6666667, \"date\": \"2005-07-31T00:00:00\"}, {\"Series Code\": \"2005M08\", \"DPANUSSPB\": 491.8913043, \"date\": \"2005-08-31T00:00:00\"}, {\"Series Code\": \"2005M09\", \"DPANUSSPB\": 470.3181818, \"date\": \"2005-09-30T00:00:00\"}, {\"Series Code\": \"2005M10\", \"DPANUSSPB\": 460.6666667, \"date\": \"2005-10-31T00:00:00\"}, {\"Series Code\": \"2005M11\", \"DPANUSSPB\": 463.1136364, \"date\": \"2005-11-30T00:00:00\"}, {\"Series Code\": \"2005M12\", \"DPANUSSPB\": 446.8863636, \"date\": \"2005-12-31T00:00:00\"}, {\"Series Code\": \"2006M01\", \"DPANUSSPB\": 439.125, \"date\": \"2006-01-31T00:00:00\"}, {\"Series Code\": \"2006M02\", \"DPANUSSPB\": 433.85, \"date\": \"2006-02-28T00:00:00\"}, {\"Series Code\": \"2006M03\", \"DPANUSSPB\": 431.4347826, \"date\": \"2006-03-31T00:00:00\"}, {\"Series Code\": \"2006M04\", \"DPANUSSPB\": 432.125, \"date\": \"2006-04-30T00:00:00\"}, {\"Series Code\": \"2006M05\", \"DPANUSSPB\": 436.9565217, \"date\": \"2006-05-31T00:00:00\"}, {\"Series Code\": \"2006M06\", \"DPANUSSPB\": 445.1818182, \"date\": \"2006-06-30T00:00:00\"}, {\"Series Code\": \"2006M07\", \"DPANUSSPB\": 443.0238095, \"date\": \"2006-07-31T00:00:00\"}, {\"Series Code\": \"2006M08\", \"DPANUSSPB\": 454.4130435, \"date\": \"2006-08-31T00:00:00\"}, {\"Series Code\": \"2006M09\", \"DPANUSSPB\": 467.0, \"date\": \"2006-09-30T00:00:00\"}, {\"Series Code\": \"2006M10\", \"DPANUSSPB\": 516.2272727, \"date\": \"2006-10-31T00:00:00\"}, {\"Series Code\": \"2006M11\", \"DPANUSSPB\": 538.8636364, \"date\": \"2006-11-30T00:00:00\"}, {\"Series Code\": \"2006M12\", \"DPANUSSPB\": 539.5238095, \"date\": \"2006-12-31T00:00:00\"}, {\"Series Code\": \"2007M01\", \"DPANUSSPB\": 530.7173913, \"date\": \"2007-01-31T00:00:00\"}, {\"Series Code\": \"2007M02\", \"DPANUSSPB\": 538.65, \"date\": \"2007-02-28T00:00:00\"}, {\"Series Code\": \"2007M03\", \"DPANUSSPB\": 566.8181818, \"date\": \"2007-03-31T00:00:00\"}, {\"Series Code\": \"2007M04\", \"DPANUSSPB\": 564.7142857, \"date\": \"2007-04-30T00:00:00\"}, {\"Series Code\": \"2007M05\", \"DPANUSSPB\": 555.9021739, \"date\": \"2007-05-31T00:00:00\"}, {\"Series Code\": \"2007M06\", \"DPANUSSPB\": 557.5, \"date\": \"2007-06-30T00:00:00\"}, {\"Series Code\": \"2007M07\", \"DPANUSSPB\": 558.6590909, \"date\": \"2007-07-31T00:00:00\"}, {\"Series Code\": \"2007M08\", \"DPANUSSPB\": 559.7826087, \"date\": \"2007-08-31T00:00:00\"}, {\"Series Code\": \"2007M09\", \"DPANUSSPB\": 560.0, \"date\": \"2007-09-30T00:00:00\"}, {\"Series Code\": \"2007M10\", \"DPANUSSPB\": 560.0, \"date\": \"2007-10-31T00:00:00\"}, {\"Series Code\": \"2007M11\", \"DPANUSSPB\": 557.4545455, \"date\": \"2007-11-30T00:00:00\"}, {\"Series Code\": \"2007M12\", \"DPANUSSPB\": 554.4404762, \"date\": \"2007-12-31T00:00:00\"}, {\"Series Code\": \"2008M01\", \"DPANUSSPB\": 547.7826087, \"date\": \"2008-01-31T00:00:00\"}, {\"Series Code\": \"2008M02\", \"DPANUSSPB\": 550.0595238, \"date\": \"2008-02-29T00:00:00\"}, {\"Series Code\": \"2008M03\", \"DPANUSSPB\": 551.8428571, \"date\": \"2008-03-31T00:00:00\"}, {\"Series Code\": \"2008M04\", \"DPANUSSPB\": 551.4772727, \"date\": \"2008-04-30T00:00:00\"}, {\"Series Code\": \"2008M05\", \"DPANUSSPB\": 551.6818182, \"date\": \"2008-05-31T00:00:00\"}, {\"Series Code\": \"2008M06\", \"DPANUSSPB\": 551.7628571, \"date\": \"2008-06-30T00:00:00\"}, {\"Series Code\": \"2008M07\", \"DPANUSSPB\": 551.6956522, \"date\": \"2008-07-31T00:00:00\"}, {\"Series Code\": \"2008M08\", \"DPANUSSPB\": 553.3095238, \"date\": \"2008-08-31T00:00:00\"}, {\"Series Code\": \"2008M09\", \"DPANUSSPB\": 554.6818182, \"date\": \"2008-09-30T00:00:00\"}, {\"Series Code\": \"2008M10\", \"DPANUSSPB\": 561.6395652, \"date\": \"2008-10-31T00:00:00\"}, {\"Series Code\": \"2008M11\", \"DPANUSSPB\": 581.46645, \"date\": \"2008-11-30T00:00:00\"}, {\"Series Code\": \"2008M12\", \"DPANUSSPB\": 605.1771087, \"date\": \"2008-12-31T00:00:00\"}, {\"Series Code\": \"2009M01\", \"DPANUSSPB\": 672.3034545, \"date\": \"2009-01-31T00:00:00\"}, {\"Series Code\": \"2009M02\", \"DPANUSSPB\": 725.54235, \"date\": \"2009-02-28T00:00:00\"}, {\"Series Code\": \"2009M03\", \"DPANUSSPB\": 788.4602273, \"date\": \"2009-03-31T00:00:00\"}, {\"Series Code\": \"2009M04\", \"DPANUSSPB\": 832.4790909, \"date\": \"2009-04-30T00:00:00\"}, {\"Series Code\": \"2009M05\", \"DPANUSSPB\": 789.7098095, \"date\": \"2009-05-31T00:00:00\"}, {\"Series Code\": \"2009M06\", \"DPANUSSPB\": 765.6799091, \"date\": \"2009-06-30T00:00:00\"}, {\"Series Code\": \"2009M07\", \"DPANUSSPB\": 770.2315217, \"date\": \"2009-07-31T00:00:00\"}, {\"Series Code\": \"2009M08\", \"DPANUSSPB\": 801.828, \"date\": \"2009-08-31T00:00:00\"}, {\"Series Code\": \"2009M09\", \"DPANUSSPB\": 835.6815455, \"date\": \"2009-09-30T00:00:00\"}, {\"Series Code\": \"2009M10\", \"DPANUSSPB\": 869.3994091, \"date\": \"2009-10-31T00:00:00\"}, {\"Series Code\": \"2009M11\", \"DPANUSSPB\": 898.678619, \"date\": \"2009-11-30T00:00:00\"}, {\"Series Code\": \"2009M12\", \"DPANUSSPB\": 904.6665217, \"date\": \"2009-12-31T00:00:00\"}, {\"Series Code\": \"2010M01\", \"DPANUSSPB\": 909.4751429, \"date\": \"2010-01-31T00:00:00\"}, {\"Series Code\": \"2010M02\", \"DPANUSSPB\": 917.97205, \"date\": \"2010-02-28T00:00:00\"}, {\"Series Code\": \"2010M03\", \"DPANUSSPB\": 911.956913, \"date\": \"2010-03-31T00:00:00\"}, {\"Series Code\": \"2010M04\", \"DPANUSSPB\": 897.8372273, \"date\": \"2010-04-30T00:00:00\"}, {\"Series Code\": \"2010M05\", \"DPANUSSPB\": 897.515619, \"date\": \"2010-05-31T00:00:00\"}, {\"Series Code\": \"2010M06\", \"DPANUSSPB\": 898.4375909, \"date\": \"2010-06-30T00:00:00\"}, {\"Series Code\": \"2010M07\", \"DPANUSSPB\": 901.3031818, \"date\": \"2010-07-31T00:00:00\"}, {\"Series Code\": \"2010M08\", \"DPANUSSPB\": 901.4495, \"date\": \"2010-08-31T00:00:00\"}, {\"Series Code\": \"2010M09\", \"DPANUSSPB\": 903.5997273, \"date\": \"2010-09-30T00:00:00\"}, {\"Series Code\": \"2010M10\", \"DPANUSSPB\": 907.4015238, \"date\": \"2010-10-31T00:00:00\"}, {\"Series Code\": \"2010M11\", \"DPANUSSPB\": 910.8576364, \"date\": \"2010-11-30T00:00:00\"}, {\"Series Code\": \"2010M12\", \"DPANUSSPB\": 912.0600435, \"date\": \"2010-12-31T00:00:00\"}, {\"Series Code\": \"2011M01\", \"DPANUSSPB\": 919.5357619, \"date\": \"2011-01-31T00:00:00\"}, {\"Series Code\": \"2011M02\", \"DPANUSSPB\": 925.1563, \"date\": \"2011-02-28T00:00:00\"}, {\"Series Code\": \"2011M03\", \"DPANUSSPB\": 920.710087, \"date\": \"2011-03-31T00:00:00\"}, {\"Series Code\": \"2011M04\", \"DPANUSSPB\": 920.8927619, \"date\": \"2011-04-30T00:00:00\"}, {\"Series Code\": \"2011M05\", \"DPANUSSPB\": 925.4502273, \"date\": \"2011-05-31T00:00:00\"}, {\"Series Code\": \"2011M06\", \"DPANUSSPB\": 923.2307273, \"date\": \"2011-06-30T00:00:00\"}, {\"Series Code\": \"2011M07\", \"DPANUSSPB\": 922.629619, \"date\": \"2011-07-31T00:00:00\"}, {\"Series Code\": \"2011M08\", \"DPANUSSPB\": 920.9111304, \"date\": \"2011-08-31T00:00:00\"}, {\"Series Code\": \"2011M09\", \"DPANUSSPB\": 921.745, \"date\": \"2011-09-30T00:00:00\"}, {\"Series Code\": \"2011M10\", \"DPANUSSPB\": 920.4262857, \"date\": \"2011-10-31T00:00:00\"}, {\"Series Code\": \"2011M11\", \"DPANUSSPB\": 912.2575455, \"date\": \"2011-11-30T00:00:00\"}, {\"Series Code\": \"2011M12\", \"DPANUSSPB\": 898.1259545, \"date\": \"2011-12-31T00:00:00\"}, {\"Series Code\": \"2012M01\", \"DPANUSSPB\": 916.8670455, \"date\": \"2012-01-31T00:00:00\"}, {\"Series Code\": \"2012M02\", \"DPANUSSPB\": 920.5317619, \"date\": \"2012-02-29T00:00:00\"}, {\"Series Code\": \"2012M03\", \"DPANUSSPB\": 921.6395455, \"date\": \"2012-03-31T00:00:00\"}, {\"Series Code\": \"2012M04\", \"DPANUSSPB\": 921.8695238, \"date\": \"2012-04-30T00:00:00\"}, {\"Series Code\": \"2012M05\", \"DPANUSSPB\": 923.1563478, \"date\": \"2012-05-31T00:00:00\"}, {\"Series Code\": \"2012M06\", \"DPANUSSPB\": 921.8378095, \"date\": \"2012-06-30T00:00:00\"}, {\"Series Code\": \"2012M07\", \"DPANUSSPB\": 920.3329091, \"date\": \"2012-07-31T00:00:00\"}, {\"Series Code\": \"2012M08\", \"DPANUSSPB\": 918.8161304, \"date\": \"2012-08-31T00:00:00\"}, {\"Series Code\": \"2012M09\", \"DPANUSSPB\": 918.20435, \"date\": \"2012-09-30T00:00:00\"}, {\"Series Code\": \"2012M10\", \"DPANUSSPB\": 916.8345217, \"date\": \"2012-10-31T00:00:00\"}, {\"Series Code\": \"2012M11\", \"DPANUSSPB\": 915.8568636, \"date\": \"2012-11-30T00:00:00\"}, {\"Series Code\": \"2012M12\", \"DPANUSSPB\": 915.119619, \"date\": \"2012-12-31T00:00:00\"}, {\"Series Code\": \"2013M01\", \"DPANUSSPB\": 916.117913, \"date\": \"2013-01-31T00:00:00\"}, {\"Series Code\": \"2013M02\", \"DPANUSSPB\": 917.8404, \"date\": \"2013-02-28T00:00:00\"}, {\"Series Code\": \"2013M03\", \"DPANUSSPB\": 917.3644762, \"date\": \"2013-03-31T00:00:00\"}, {\"Series Code\": \"2013M04\", \"DPANUSSPB\": 917.5642273, \"date\": \"2013-04-30T00:00:00\"}, {\"Series Code\": \"2013M05\", \"DPANUSSPB\": 918.3735217, \"date\": \"2013-05-31T00:00:00\"}, {\"Series Code\": \"2013M06\", \"DPANUSSPB\": 921.97385, \"date\": \"2013-06-30T00:00:00\"}, {\"Series Code\": \"2013M07\", \"DPANUSSPB\": 920.3162174, \"date\": \"2013-07-31T00:00:00\"}, {\"Series Code\": \"2013M08\", \"DPANUSSPB\": 921.035, \"date\": \"2013-08-31T00:00:00\"}, {\"Series Code\": \"2013M09\", \"DPANUSSPB\": 921.9761905, \"date\": \"2013-09-30T00:00:00\"}, {\"Series Code\": \"2013M10\", \"DPANUSSPB\": 922.5434783, \"date\": \"2013-10-31T00:00:00\"}, {\"Series Code\": \"2013M11\", \"DPANUSSPB\": 922.2671429, \"date\": \"2013-11-30T00:00:00\"}, {\"Series Code\": \"2013M12\", \"DPANUSSPB\": 920.2895455, \"date\": \"2013-12-31T00:00:00\"}, {\"Series Code\": \"2014M01\", \"DPANUSSPB\": 922.0195652, \"date\": \"2014-01-31T00:00:00\"}, {\"Series Code\": \"2014M02\", \"DPANUSSPB\": 922.2375, \"date\": \"2014-02-28T00:00:00\"}, {\"Series Code\": \"2014M03\", \"DPANUSSPB\": 922.7357143, \"date\": \"2014-03-31T00:00:00\"}, {\"Series Code\": \"2014M04\", \"DPANUSSPB\": 922.5556818, \"date\": \"2014-04-30T00:00:00\"}, {\"Series Code\": \"2014M05\", \"DPANUSSPB\": 921.8459091, \"date\": \"2014-05-31T00:00:00\"}, {\"Series Code\": \"2014M06\", \"DPANUSSPB\": 923.0207143, \"date\": \"2014-06-30T00:00:00\"}, {\"Series Code\": \"2014M07\", \"DPANUSSPB\": 922.6889565, \"date\": \"2014-07-31T00:00:00\"}, {\"Series Code\": \"2014M08\", \"DPANUSSPB\": 922.7090476, \"date\": \"2014-08-31T00:00:00\"}, {\"Series Code\": \"2014M09\", \"DPANUSSPB\": 923.3568182, \"date\": \"2014-09-30T00:00:00\"}, {\"Series Code\": \"2014M10\", \"DPANUSSPB\": 922.7413043, \"date\": \"2014-10-31T00:00:00\"}, {\"Series Code\": \"2014M11\", \"DPANUSSPB\": 920.95, \"date\": \"2014-11-30T00:00:00\"}, {\"Series Code\": \"2014M12\", \"DPANUSSPB\": 921.7826087, \"date\": \"2014-12-31T00:00:00\"}, {\"Series Code\": \"2015M01\", \"DPANUSSPB\": 920.5454545, \"date\": \"2015-01-31T00:00:00\"}, {\"Series Code\": \"2015M02\", \"DPANUSSPB\": 921.35, \"date\": \"2015-02-28T00:00:00\"}, {\"Series Code\": \"2015M03\", \"DPANUSSPB\": 918.7045455, \"date\": \"2015-03-31T00:00:00\"}, {\"Series Code\": \"2015M04\", \"DPANUSSPB\": 923.4431818, \"date\": \"2015-04-30T00:00:00\"}, {\"Series Code\": \"2015M05\", \"DPANUSSPB\": 917.1666667, \"date\": \"2015-05-31T00:00:00\"}, {\"Series Code\": \"2015M06\", \"DPANUSSPB\": 921.1704545, \"date\": \"2015-06-30T00:00:00\"}, {\"Series Code\": \"2015M07\", \"DPANUSSPB\": 920.0434783, \"date\": \"2015-07-31T00:00:00\"}, {\"Series Code\": \"2015M08\", \"DPANUSSPB\": 918.9935065, \"date\": \"2015-08-31T00:00:00\"}, {\"Series Code\": \"2015M09\", \"DPANUSSPB\": 921.5743802, \"date\": \"2015-09-30T00:00:00\"}, {\"Series Code\": \"2015M10\", \"DPANUSSPB\": 924.9545455, \"date\": \"2015-10-31T00:00:00\"}, {\"Series Code\": \"2015M11\", \"DPANUSSPB\": 921.9761905, \"date\": \"2015-11-30T00:00:00\"}, {\"Series Code\": \"2015M12\", \"DPANUSSPB\": 923.5543478, \"date\": \"2015-12-31T00:00:00\"}, {\"Series Code\": \"2016M01\", \"DPANUSSPB\": 925.1904762, \"date\": \"2016-01-31T00:00:00\"}, {\"Series Code\": \"2016M02\", \"DPANUSSPB\": 927.3571429, \"date\": \"2016-02-29T00:00:00\"}, {\"Series Code\": \"2016M03\", \"DPANUSSPB\": 925.5782609, \"date\": \"2016-03-31T00:00:00\"}, {\"Series Code\": \"2016M04\", \"DPANUSSPB\": 923.9619048, \"date\": \"2016-04-30T00:00:00\"}, {\"Series Code\": \"2016M05\", \"DPANUSSPB\": 926.8636364, \"date\": \"2016-05-31T00:00:00\"}, {\"Series Code\": \"2016M06\", \"DPANUSSPB\": 937.75, \"date\": \"2016-06-30T00:00:00\"}, {\"Series Code\": \"2016M07\", \"DPANUSSPB\": 950.6428571, \"date\": \"2016-07-31T00:00:00\"}, {\"Series Code\": \"2016M08\", \"DPANUSSPB\": 979.1630435, \"date\": \"2016-08-31T00:00:00\"}, {\"Series Code\": \"2016M09\", \"DPANUSSPB\": 974.1204545, \"date\": \"2016-09-30T00:00:00\"}, {\"Series Code\": \"2016M10\", \"DPANUSSPB\": 972.3809524, \"date\": \"2016-10-31T00:00:00\"}, {\"Series Code\": \"2016M11\", \"DPANUSSPB\": 1011.090909, \"date\": \"2016-11-30T00:00:00\"}, {\"Series Code\": \"2016M12\", \"DPANUSSPB\": 1165.022727, \"date\": \"2016-12-31T00:00:00\"}, {\"Series Code\": \"2017M01\", \"DPANUSSPB\": 1217.477273, \"date\": \"2017-01-31T00:00:00\"}, {\"Series Code\": \"2017M02\", \"DPANUSSPB\": 1278.7875, \"date\": \"2017-02-28T00:00:00\"}, {\"Series Code\": \"2017M03\", \"DPANUSSPB\": 1333.667391, \"date\": \"2017-03-31T00:00:00\"}, {\"Series Code\": \"2017M04\", \"DPANUSSPB\": 1379.17175, \"date\": \"2017-04-30T00:00:00\"}, {\"Series Code\": \"2017M05\", \"DPANUSSPB\": 1411.273261, \"date\": \"2017-05-31T00:00:00\"}, {\"Series Code\": \"2017M06\", \"DPANUSSPB\": 1463.8075, \"date\": \"2017-06-30T00:00:00\"}, {\"Series Code\": \"2017M07\", \"DPANUSSPB\": 1556.540476, \"date\": \"2017-07-31T00:00:00\"}, {\"Series Code\": \"2017M08\", \"DPANUSSPB\": 1592.945652, \"date\": \"2017-08-31T00:00:00\"}, {\"Series Code\": \"2017M09\", \"DPANUSSPB\": 1557.011905, \"date\": \"2017-09-30T00:00:00\"}, {\"Series Code\": \"2017M10\", \"DPANUSSPB\": 1566.397727, \"date\": \"2017-10-31T00:00:00\"}, {\"Series Code\": \"2017M11\", \"DPANUSSPB\": 1575.909091, \"date\": \"2017-11-30T00:00:00\"}, {\"Series Code\": \"2017M12\", \"DPANUSSPB\": 1592.778912, \"date\": \"2017-12-31T00:00:00\"}, {\"Series Code\": \"2018M01\", \"DPANUSSPB\": 1595.434472, \"date\": \"2018-01-31T00:00:00\"}, {\"Series Code\": \"2018M02\", \"DPANUSSPB\": 1606.52, \"date\": \"2018-02-28T00:00:00\"}, {\"Series Code\": \"2018M03\", \"DPANUSSPB\": 1616.852273, \"date\": \"2018-03-31T00:00:00\"}, {\"Series Code\": \"2018M04\", \"DPANUSSPB\": 1615.595238, \"date\": \"2018-04-30T00:00:00\"}, {\"Series Code\": \"2018M05\", \"DPANUSSPB\": 1615.630435, \"date\": \"2018-05-31T00:00:00\"}, {\"Series Code\": \"2018M06\", \"DPANUSSPB\": 1615.642857, \"date\": \"2018-06-30T00:00:00\"}, {\"Series Code\": \"2018M07\", \"DPANUSSPB\": 1619.954545, \"date\": \"2018-07-31T00:00:00\"}, {\"Series Code\": \"2018M08\", \"DPANUSSPB\": 1620.630435, \"date\": \"2018-08-31T00:00:00\"}, {\"Series Code\": \"2018M09\", \"DPANUSSPB\": 1621.375, \"date\": \"2018-09-30T00:00:00\"}, {\"Series Code\": \"2018M10\", \"DPANUSSPB\": 1623.293478, \"date\": \"2018-10-31T00:00:00\"}, {\"Series Code\": \"2018M11\", \"DPANUSSPB\": 1620.568182, \"date\": \"2018-11-30T00:00:00\"}, {\"Series Code\": \"2018M12\", \"DPANUSSPB\": 1625.642857, \"date\": \"2018-12-31T00:00:00\"}, {\"Series Code\": \"2019M01\", \"DPANUSSPB\": 1632.514957, \"date\": \"2019-01-31T00:00:00\"}, {\"Series Code\": \"2019M02\", \"DPANUSSPB\": 1637.293325, \"date\": \"2019-02-28T00:00:00\"}, {\"Series Code\": \"2019M03\", \"DPANUSSPB\": 1638.8372, \"date\": \"2019-03-31T00:00:00\"}, {\"Series Code\": \"2019M04\", \"DPANUSSPB\": 1639.276858, \"date\": \"2019-04-30T00:00:00\"}, {\"Series Code\": \"2019M05\", \"DPANUSSPB\": 1640.800932, \"date\": \"2019-05-31T00:00:00\"}, {\"Series Code\": \"2019M06\", \"DPANUSSPB\": 1643.317775, \"date\": \"2019-06-30T00:00:00\"}, {\"Series Code\": \"2019M07\", \"DPANUSSPB\": 1645.7465, \"date\": \"2019-07-31T00:00:00\"}, {\"Series Code\": \"2019M08\", \"DPANUSSPB\": 1651.331136, \"date\": \"2019-08-31T00:00:00\"}, {\"Series Code\": \"2019M09\", \"DPANUSSPB\": 1653.88231, \"date\": \"2019-09-30T00:00:00\"}, {\"Series Code\": \"2019M10\", \"DPANUSSPB\": 1654.090457, \"date\": \"2019-10-31T00:00:00\"}, {\"Series Code\": \"2019M11\", \"DPANUSSPB\": 1658.246905, \"date\": \"2019-11-30T00:00:00\"}, {\"Series Code\": \"2019M12\", \"DPANUSSPB\": 1667.255197, \"date\": \"2019-12-31T00:00:00\"}, {\"Series Code\": \"2020M01\", \"DPANUSSPB\": 1678.596964, \"date\": \"2020-01-31T00:00:00\"}, {\"Series Code\": \"2020M02\", \"DPANUSSPB\": 1686.95205, \"date\": \"2020-02-29T00:00:00\"}, {\"Series Code\": \"2020M03\", \"DPANUSSPB\": 1700.442818, \"date\": \"2020-03-31T00:00:00\"}, {\"Series Code\": \"2020M04\", \"DPANUSSPB\": 1714.628523, \"date\": \"2020-04-30T00:00:00\"}, {\"Series Code\": \"2020M05\", \"DPANUSSPB\": 1767.710619, \"date\": \"2020-05-31T00:00:00\"}, {\"Series Code\": \"2020M06\", \"DPANUSSPB\": 1863.894068, \"date\": \"2020-06-30T00:00:00\"}, {\"Series Code\": \"2020M07\", \"DPANUSSPB\": 1960.794957, \"date\": \"2020-07-31T00:00:00\"}, {\"Series Code\": \"2020M08\", \"DPANUSSPB\": 1955.133738, \"date\": \"2020-08-31T00:00:00\"}, {\"Series Code\": \"2020M09\", \"DPANUSSPB\": 1955.095955, \"date\": \"2020-09-30T00:00:00\"}, {\"Series Code\": \"2020M10\", \"DPANUSSPB\": 1958.547591, \"date\": \"2020-10-31T00:00:00\"}, {\"Series Code\": \"2020M11\", \"DPANUSSPB\": 1959.61719, \"date\": \"2020-11-30T00:00:00\"}, {\"Series Code\": \"2020M12\", \"DPANUSSPB\": 1963.684152, \"date\": \"2020-12-31T00:00:00\"}, {\"Series Code\": \"2021M01\", \"DPANUSSPB\": 1964.020857, \"date\": \"2021-01-31T00:00:00\"}, {\"Series Code\": \"2021M02\", \"DPANUSSPB\": 1970.207625, \"date\": \"2021-02-28T00:00:00\"}, {\"Series Code\": \"2021M03\", \"DPANUSSPB\": 1967.094135, \"date\": \"2021-03-31T00:00:00\"}, {\"Series Code\": \"2021M04\", \"DPANUSSPB\": 1974.469927, \"date\": \"2021-04-30T00:00:00\"}, {\"Series Code\": \"2021M05\", \"DPANUSSPB\": 1983.63031, \"date\": \"2021-05-31T00:00:00\"}, {\"Series Code\": \"2021M06\", \"DPANUSSPB\": 1976.970614, \"date\": \"2021-06-30T00:00:00\"}, {\"Series Code\": \"2021M07\", \"DPANUSSPB\": 1975.294295, \"date\": \"2021-07-31T00:00:00\"}, {\"Series Code\": \"2021M08\", \"DPANUSSPB\": 1972.406705, \"date\": \"2021-08-31T00:00:00\"}, {\"Series Code\": \"2021M09\", \"DPANUSSPB\": 1972.511068, \"date\": \"2021-09-30T00:00:00\"}, {\"Series Code\": \"2021M10\", \"DPANUSSPB\": 1973.131016, \"date\": \"2021-10-31T00:00:00\"}, {\"Series Code\": \"2021M11\", \"DPANUSSPB\": 1982.363182, \"date\": \"2021-11-30T00:00:00\"}, {\"Series Code\": \"2021M12\", \"DPANUSSPB\": 1985.272703, \"date\": \"2021-12-31T00:00:00\"}, {\"Series Code\": \"2022M01\", \"DPANUSSPB\": 1988.643976, \"date\": \"2022-01-31T00:00:00\"}, {\"Series Code\": \"2022M02\", \"DPANUSSPB\": 1993.286475, \"date\": \"2022-02-28T00:00:00\"}, {\"Series Code\": \"2022M03\", \"DPANUSSPB\": 1995.137587, \"date\": \"2022-03-31T00:00:00\"}, {\"Series Code\": \"2022M04\", \"DPANUSSPB\": 1995.26331, \"date\": \"2022-04-30T00:00:00\"}, {\"Series Code\": \"2022M05\", \"DPANUSSPB\": 1994.954636, \"date\": \"2022-05-31T00:00:00\"}, {\"Series Code\": \"2022M06\", \"DPANUSSPB\": 1994.28617, \"date\": \"2022-06-30T00:00:00\"}, {\"Series Code\": \"2022M07\", \"DPANUSSPB\": 1995.97706, \"date\": \"2022-07-31T00:00:00\"}, {\"Series Code\": \"2022M08\", \"DPANUSSPB\": 1999.675065, \"date\": \"2022-08-31T00:00:00\"}, {\"Series Code\": \"2022M09\", \"DPANUSSPB\": 2010.818432, \"date\": \"2022-09-30T00:00:00\"}, {\"Series Code\": \"2022M10\", \"DPANUSSPB\": 2011.9355, \"date\": \"2022-10-31T00:00:00\"}, {\"Series Code\": \"2022M11\", \"DPANUSSPB\": 2015.394386, \"date\": \"2022-11-30T00:00:00\"}, {\"Series Code\": \"2022M12\", \"DPANUSSPB\": 2016.441705, \"date\": \"2022-12-31T00:00:00\"}, {\"Series Code\": \"2023M01\", \"DPANUSSPB\": 2017.80125, \"date\": \"2023-01-31T00:00:00\"}, {\"Series Code\": \"2023M02\", \"DPANUSSPB\": 2034.043975, \"date\": \"2023-02-28T00:00:00\"}, {\"Series Code\": \"2023M03\", \"DPANUSSPB\": 2043.911217, \"date\": \"2023-03-31T00:00:00\"}, {\"Series Code\": \"2023M04\", \"DPANUSSPB\": 2042.609125, \"date\": \"2023-04-30T00:00:00\"}, {\"Series Code\": \"2023M05\", \"DPANUSSPB\": 2163.106326, \"date\": \"2023-05-31T00:00:00\"}, {\"Series Code\": \"2023M06\", \"DPANUSSPB\": 2224.365409, \"date\": \"2023-06-30T00:00:00\"}, {\"Series Code\": \"2023M07\", \"DPANUSSPB\": 2383.659229, \"date\": \"2023-07-31T00:00:00\"}, {\"Series Code\": \"2023M08\", \"DPANUSSPB\": 2429.725829, \"date\": \"2023-08-31T00:00:00\"}, {\"Series Code\": \"2023M09\", \"DPANUSSPB\": 2452.924466, \"date\": \"2023-09-30T00:00:00\"}, {\"Series Code\": \"2023M10\", \"DPANUSSPB\": 2488.42559, \"date\": \"2023-10-31T00:00:00\"}, {\"Series Code\": \"2023M11\", \"DPANUSSPB\": 2481.948289, \"date\": \"2023-11-30T00:00:00\"}, {\"Series Code\": \"2023M12\", \"DPANUSSPB\": 2616.333833, \"date\": \"2023-12-31T00:00:00\"}, {\"Series Code\": \"2024M01\", \"DPANUSSPB\": 2677.953935, \"date\": \"2024-01-31T00:00:00\"}, {\"Series Code\": \"2024M02\", \"DPANUSSPB\": 2717.844381, \"date\": \"2024-02-29T00:00:00\"}, {\"Series Code\": \"2024M03\", \"DPANUSSPB\": 2753.669976, \"date\": \"2024-03-31T00:00:00\"}, {\"Series Code\": \"2024M04\", \"DPANUSSPB\": 2759.781159, \"date\": \"2024-04-30T00:00:00\"}, {\"Series Code\": \"2024M05\", \"DPANUSSPB\": 2765.334848, \"date\": \"2024-05-31T00:00:00\"}, {\"Series Code\": \"2024M06\", \"DPANUSSPB\": 2806.47625, \"date\": \"2024-06-30T00:00:00\"}, {\"Series Code\": \"2024M07\", \"DPANUSSPB\": 2833.837, \"date\": \"2024-07-31T00:00:00\"}, {\"Series Code\": \"2024M08\", \"DPANUSSPB\": 2836.8795, \"date\": \"2024-08-31T00:00:00\"}, {\"Series Code\": \"2024M09\", \"DPANUSSPB\": 2837.504738, \"date\": \"2024-09-30T00:00:00\"}, {\"Series Code\": \"2024M10\", \"DPANUSSPB\": 2842.317163, \"date\": \"2024-10-31T00:00:00\"}, {\"Series Code\": \"2024M11\", \"DPANUSSPB\": 2849.117036, \"date\": \"2024-11-30T00:00:00\"}, {\"Series Code\": \"2024M12\", \"DPANUSSPB\": 2843.710273, \"date\": \"2024-12-31T00:00:00\"}, {\"Series Code\": \"2025M01\", \"DPANUSSPB\": 2845.534652, \"date\": \"2025-01-31T00:00:00\"}, {\"Series Code\": \"2025M02\", \"DPANUSSPB\": 2850.9321, \"date\": \"2025-02-28T00:00:00\"}, {\"Series Code\": \"2025M03\", \"DPANUSSPB\": 2859.219714, \"date\": \"2025-03-31T00:00:00\"}, {\"Series Code\": \"2025M04\", \"DPANUSSPB\": 2886.410295, \"date\": \"2025-04-30T00:00:00\"}, {\"Series Code\": \"2025M05\", \"DPANUSSPB\": 2872.897068, \"date\": \"2025-05-31T00:00:00\"}, {\"Series Code\": \"2025M06\", \"DPANUSSPB\": 2865.814248, \"date\": \"2025-06-30T00:00:00\"}, {\"Series Code\": \"2025M07\", \"DPANUSSPB\": 2870.434664, \"date\": \"2025-07-31T00:00:00\"}]}}, {\"mode\": \"vega-lite\"});\n",
       "</script>"
      ],
      "text/plain": [
       "alt.Chart(...)"
      ]
     },
     "execution_count": 57,
     "metadata": {},
     "output_type": "execute_result"
    }
   ],
   "source": [
    "# Base chart without configuration\n",
    "base = alt.Chart(kinshasa).encode(\n",
    "    x=alt.X('date:T',\n",
    "            title=None,\n",
    "            axis=alt.Axis(\n",
    "                format='%Y',\n",
    "                tickCount='year',\n",
    "                labelAngle=0,\n",
    "                domainColor=\"dimgrey\",\n",
    "                labelColor=\"#333333\",\n",
    "                tickColor=\"#333333\",\n",
    "                labelFontWeight=\"bold\",\n",
    "                labelFontSize=13\n",
    "            ))\n",
    ")\n",
    "\n",
    "# Line layer\n",
    "line = base.mark_line(\n",
    "    color=\"#002fa7\",\n",
    "    strokeWidth=2,\n",
    "    opacity=1,\n",
    "    point=False\n",
    ").encode(\n",
    "    y=alt.Y('DPANUSSPB:Q',\n",
    "            title='CDF/USD',\n",
    "            axis=alt.Axis(\n",
    "                labelExpr=\"datum.value / 1000 + 'K'\",\n",
    "                grid=False,\n",
    "                domainColor=\"dimgrey\",\n",
    "                labelColor=\"#333333\",\n",
    "                tickColor=\"#333333\",\n",
    "                labelFontWeight=\"bold\",\n",
    "                labelFontSize=12,\n",
    "                titleAngle=0,\n",
    "                titleY=-15,\n",
    "                titleX=-20\n",
    "            )),\n",
    "    tooltip=[\n",
    "        alt.Tooltip('date:T', title='Date', format='%B %Y'),\n",
    "        alt.Tooltip('DPANUSSPB:Q', title='Exchange Rate (CDF/USD)', format=',.0f')\n",
    "    ]\n",
    ")\n",
    "\n",
    "# Combine layers and apply configuration to the final chart\n",
    "final_chart = line.properties(\n",
    "    title=alt.TitleParams(\n",
    "        text=\"Congolese currency to US Dollars monthly exchange rate\",\n",
    "        fontSize=15,\n",
    "        subtitle=[\"Source: World Bank - Series: DPANUSSPB\", \"\"],\n",
    "        subtitleFontStyle=\"italic\",\n",
    "        subtitleFontSize=13,\n",
    "        anchor=\"start\",\n",
    "        color=\"#333333\",\n",
    "        subtitleColor=\"#333333\",\n",
    "        font=\"Newcastle Basic Clean, Arial, sans-serif\"\n",
    "    ),\n",
    "    width=600,\n",
    "    height=250\n",
    ").configure(\n",
    "    background=\"#fbfbfb\",\n",
    "    view=alt.ViewConfig(stroke=\"transparent\"),\n",
    "    font=\"Newcastle Basic Clean, Arial, sans-serif\"\n",
    ")\n",
    "\n",
    "final_chart"
   ]
  },
  {
   "cell_type": "code",
   "execution_count": 58,
   "id": "ae37f654",
   "metadata": {},
   "outputs": [],
   "source": [
    "# Save to png\n",
    "final_chart.save('Kinshasa.png', scale_factor=2)\n",
    "final_chart.save('Kinshasa.json', scale_factor=2)"
   ]
  }
 ],
 "metadata": {
  "kernelspec": {
   "display_name": "charts",
   "language": "python",
   "name": "python3"
  },
  "language_info": {
   "codemirror_mode": {
    "name": "ipython",
    "version": 3
   },
   "file_extension": ".py",
   "mimetype": "text/x-python",
   "name": "python",
   "nbconvert_exporter": "python",
   "pygments_lexer": "ipython3",
   "version": "3.12.11"
  }
 },
 "nbformat": 4,
 "nbformat_minor": 5
}
