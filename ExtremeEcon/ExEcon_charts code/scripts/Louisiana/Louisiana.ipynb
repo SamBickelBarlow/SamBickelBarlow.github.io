{
 "cells": [
  {
   "cell_type": "code",
   "execution_count": 1,
   "id": "29627bc0",
   "metadata": {},
   "outputs": [],
   "source": [
    "import pandas as pd\n",
    "import altair as alt\n",
    "import os"
   ]
  },
  {
   "cell_type": "code",
   "execution_count": 2,
   "id": "7e02972e",
   "metadata": {},
   "outputs": [],
   "source": [
    "os.chdir('/Users/sambickel-barlow/Desktop/ExEcon_charts code')"
   ]
  },
  {
   "cell_type": "code",
   "execution_count": 4,
   "id": "c10c7efc",
   "metadata": {},
   "outputs": [],
   "source": [
    "louisiana_prisons = pd.read_csv('data/Louisiana/data_USstatesPrisonPay.csv')"
   ]
  },
  {
   "cell_type": "code",
   "execution_count": 5,
   "id": "833ee3f8",
   "metadata": {},
   "outputs": [
    {
     "name": "stdout",
     "output_type": "stream",
     "text": [
      "Data shape: (52, 5)\n",
      "\n",
      "Column names:\n",
      "['State', 'RegularJobLow', 'RegularJobHigh', 'StateOwnedLow', 'StateOwnedHigh']\n",
      "\n",
      "First few rows:\n",
      "        State  RegularJobLow  RegularJobHigh StateOwnedLow  StateOwnedHigh\n",
      "0     Alabama           0.00            0.00          0.25            0.75\n",
      "1      Alaska           0.30            1.25          0.65            4.90\n",
      "2     Arizona           0.15            0.50           0.2            0.80\n",
      "3    Arkansas           0.00            0.00             0            0.00\n",
      "4  California           0.08            0.37           0.3            0.95\n"
     ]
    }
   ],
   "source": [
    "# Examine the data structure\n",
    "print(\"Data shape:\", louisiana_prisons.shape)\n",
    "print(\"\\nColumn names:\")\n",
    "print(louisiana_prisons.columns.tolist())\n",
    "print(\"\\nFirst few rows:\")\n",
    "print(louisiana_prisons.head())"
   ]
  },
  {
   "cell_type": "code",
   "execution_count": 24,
   "id": "a5d04f01",
   "metadata": {},
   "outputs": [
    {
     "data": {
      "text/html": [
       "\n",
       "<style>\n",
       "  #altair-viz-1a72aaecb78343a2a3a5d90bdfcc34e4.vega-embed {\n",
       "    width: 100%;\n",
       "    display: flex;\n",
       "  }\n",
       "\n",
       "  #altair-viz-1a72aaecb78343a2a3a5d90bdfcc34e4.vega-embed details,\n",
       "  #altair-viz-1a72aaecb78343a2a3a5d90bdfcc34e4.vega-embed details summary {\n",
       "    position: relative;\n",
       "  }\n",
       "</style>\n",
       "<div id=\"altair-viz-1a72aaecb78343a2a3a5d90bdfcc34e4\"></div>\n",
       "<script type=\"text/javascript\">\n",
       "  var VEGA_DEBUG = (typeof VEGA_DEBUG == \"undefined\") ? {} : VEGA_DEBUG;\n",
       "  (function(spec, embedOpt){\n",
       "    let outputDiv = document.currentScript.previousElementSibling;\n",
       "    if (outputDiv.id !== \"altair-viz-1a72aaecb78343a2a3a5d90bdfcc34e4\") {\n",
       "      outputDiv = document.getElementById(\"altair-viz-1a72aaecb78343a2a3a5d90bdfcc34e4\");\n",
       "    }\n",
       "\n",
       "    const paths = {\n",
       "      \"vega\": \"https://cdn.jsdelivr.net/npm/vega@5?noext\",\n",
       "      \"vega-lib\": \"https://cdn.jsdelivr.net/npm/vega-lib?noext\",\n",
       "      \"vega-lite\": \"https://cdn.jsdelivr.net/npm/vega-lite@5.20.1?noext\",\n",
       "      \"vega-embed\": \"https://cdn.jsdelivr.net/npm/vega-embed@6?noext\",\n",
       "    };\n",
       "\n",
       "    function maybeLoadScript(lib, version) {\n",
       "      var key = `${lib.replace(\"-\", \"\")}_version`;\n",
       "      return (VEGA_DEBUG[key] == version) ?\n",
       "        Promise.resolve(paths[lib]) :\n",
       "        new Promise(function(resolve, reject) {\n",
       "          var s = document.createElement('script');\n",
       "          document.getElementsByTagName(\"head\")[0].appendChild(s);\n",
       "          s.async = true;\n",
       "          s.onload = () => {\n",
       "            VEGA_DEBUG[key] = version;\n",
       "            return resolve(paths[lib]);\n",
       "          };\n",
       "          s.onerror = () => reject(`Error loading script: ${paths[lib]}`);\n",
       "          s.src = paths[lib];\n",
       "        });\n",
       "    }\n",
       "\n",
       "    function showError(err) {\n",
       "      outputDiv.innerHTML = `<div class=\"error\" style=\"color:red;\">${err}</div>`;\n",
       "      throw err;\n",
       "    }\n",
       "\n",
       "    function displayChart(vegaEmbed) {\n",
       "      vegaEmbed(outputDiv, spec, embedOpt)\n",
       "        .catch(err => showError(`Javascript Error: ${err.message}<br>This usually means there's a typo in your chart specification. See the javascript console for the full traceback.`));\n",
       "    }\n",
       "\n",
       "    if(typeof define === \"function\" && define.amd) {\n",
       "      requirejs.config({paths});\n",
       "      let deps = [\"vega-embed\"];\n",
       "      require(deps, displayChart, err => showError(`Error loading script: ${err.message}`));\n",
       "    } else {\n",
       "      maybeLoadScript(\"vega\", \"5\")\n",
       "        .then(() => maybeLoadScript(\"vega-lite\", \"5.20.1\"))\n",
       "        .then(() => maybeLoadScript(\"vega-embed\", \"6\"))\n",
       "        .catch(showError)\n",
       "        .then(() => displayChart(vegaEmbed));\n",
       "    }\n",
       "  })({\"config\": {\"view\": {\"continuousWidth\": 300, \"continuousHeight\": 300, \"stroke\": \"transparent\"}, \"background\": \"#fbfbfb\", \"font\": \"Newcastle Basic Clean, Arial, sans-serif\"}, \"data\": {\"name\": \"data-f3993925193f4dac9a1ddde9399ce16f\"}, \"mark\": {\"type\": \"bar\", \"color\": \"#002fa7\", \"strokeWidth\": 2}, \"encoding\": {\"opacity\": {\"condition\": {\"param\": \"param_11\", \"value\": 1.0, \"empty\": true}, \"value\": 0.5}, \"stroke\": {\"condition\": {\"param\": \"param_11\", \"value\": \"#000000\", \"empty\": true}, \"value\": \"transparent\"}, \"strokeWidth\": {\"condition\": {\"param\": \"param_11\", \"value\": 1, \"empty\": true}, \"value\": 0}, \"tooltip\": [{\"field\": \"State\", \"title\": \"State\", \"type\": \"nominal\"}, {\"field\": \"RegularJobLow\", \"format\": \"$.2f\", \"title\": \"Minimum Hourly Pay\", \"type\": \"quantitative\"}], \"x\": {\"axis\": {\"domainColor\": \"dimgrey\", \"format\": \"$.2f\", \"grid\": false, \"labelColor\": \"#333333\", \"labelFontSize\": 12, \"labelFontWeight\": \"bold\", \"tickColor\": \"#333333\"}, \"field\": \"RegularJobLow\", \"title\": null, \"type\": \"quantitative\"}, \"y\": {\"axis\": {\"domainColor\": \"dimgrey\", \"labelColor\": \"#333333\", \"labelFontSize\": 13, \"labelFontWeight\": \"bold\", \"tickColor\": \"#333333\"}, \"field\": \"State\", \"sort\": {\"field\": \"RegularJobLow\", \"order\": \"ascending\"}, \"title\": null, \"type\": \"ordinal\"}}, \"height\": 600, \"params\": [{\"name\": \"param_11\", \"select\": {\"type\": \"point\", \"on\": \"mouseover\"}}], \"title\": {\"text\": \"Pay in US prisons\", \"anchor\": \"start\", \"color\": \"#333333\", \"font\": \"Newcastle Basic Clean, Arial, sans-serif\", \"fontSize\": 15, \"subtitle\": [\"Hourly pay Source: PrisonPolicy.org\", \"\"], \"subtitleColor\": \"#333333\", \"subtitleFontSize\": 13, \"subtitleFontStyle\": \"italic\"}, \"width\": 300, \"$schema\": \"https://vega.github.io/schema/vega-lite/v5.20.1.json\", \"datasets\": {\"data-f3993925193f4dac9a1ddde9399ce16f\": [{\"State\": \"Alabama\", \"RegularJobLow\": 0.0, \"RegularJobHigh\": 0.0, \"StateOwnedLow\": \"0.25\", \"StateOwnedHigh\": 0.75}, {\"State\": \"Alaska\", \"RegularJobLow\": 0.3, \"RegularJobHigh\": 1.25, \"StateOwnedLow\": \"0.65\", \"StateOwnedHigh\": 4.9}, {\"State\": \"Arizona\", \"RegularJobLow\": 0.15, \"RegularJobHigh\": 0.5, \"StateOwnedLow\": \"0.2\", \"StateOwnedHigh\": 0.8}, {\"State\": \"Arkansas\", \"RegularJobLow\": 0.0, \"RegularJobHigh\": 0.0, \"StateOwnedLow\": \"0\", \"StateOwnedHigh\": 0.0}, {\"State\": \"California\", \"RegularJobLow\": 0.08, \"RegularJobHigh\": 0.37, \"StateOwnedLow\": \"0.3\", \"StateOwnedHigh\": 0.95}, {\"State\": \"Colorado\", \"RegularJobLow\": 0.13, \"RegularJobHigh\": 0.38, \"StateOwnedLow\": null, \"StateOwnedHigh\": null}, {\"State\": \"Connecticut\", \"RegularJobLow\": 0.13, \"RegularJobHigh\": 1.0, \"StateOwnedLow\": \"0.3\", \"StateOwnedHigh\": 1.5}, {\"State\": \"Delaware\", \"RegularJobLow\": null, \"RegularJobHigh\": null, \"StateOwnedLow\": \"0.25\", \"StateOwnedHigh\": 2.0}, {\"State\": \"Florida\", \"RegularJobLow\": 0.0, \"RegularJobHigh\": 0.32, \"StateOwnedLow\": \"0.2\", \"StateOwnedHigh\": 0.55}, {\"State\": \"Georgia\", \"RegularJobLow\": 0.0, \"RegularJobHigh\": 0.0, \"StateOwnedLow\": \"0\", \"StateOwnedHigh\": 0.0}, {\"State\": \"Hawaii\", \"RegularJobLow\": 0.25, \"RegularJobHigh\": 0.25, \"StateOwnedLow\": \"0.5\", \"StateOwnedHigh\": 2.5}, {\"State\": \"Idaho\", \"RegularJobLow\": 0.1, \"RegularJobHigh\": 0.9, \"StateOwnedLow\": null, \"StateOwnedHigh\": null}, {\"State\": \"Illinois\", \"RegularJobLow\": 0.09, \"RegularJobHigh\": 0.89, \"StateOwnedLow\": \"0.3\", \"StateOwnedHigh\": 2.25}, {\"State\": \"Indiana\", \"RegularJobLow\": 0.12, \"RegularJobHigh\": 0.25, \"StateOwnedLow\": null, \"StateOwnedHigh\": null}, {\"State\": \"Iowa\", \"RegularJobLow\": 0.27, \"RegularJobHigh\": 0.68, \"StateOwnedLow\": \"0.58\", \"StateOwnedHigh\": 0.87}, {\"State\": \"Kansas\", \"RegularJobLow\": 0.09, \"RegularJobHigh\": 0.16, \"StateOwnedLow\": \"0.25\", \"StateOwnedHigh\": 3.0}, {\"State\": \"Kentucky\", \"RegularJobLow\": 0.13, \"RegularJobHigh\": 0.33, \"StateOwnedLow\": null, \"StateOwnedHigh\": null}, {\"State\": \"Louisiana\", \"RegularJobLow\": 0.04, \"RegularJobHigh\": 1.0, \"StateOwnedLow\": null, \"StateOwnedHigh\": 0.4}, {\"State\": \"Maine\", \"RegularJobLow\": null, \"RegularJobHigh\": null, \"StateOwnedLow\": \"0.58\", \"StateOwnedHigh\": 3.5}, {\"State\": \"Maryland\", \"RegularJobLow\": 0.15, \"RegularJobHigh\": 0.46, \"StateOwnedLow\": \"0.2\", \"StateOwnedHigh\": 0.82}, {\"State\": \"Massachusetts\", \"RegularJobLow\": 0.14, \"RegularJobHigh\": 1.0, \"StateOwnedLow\": null, \"StateOwnedHigh\": null}, {\"State\": \"Michigan\", \"RegularJobLow\": 0.14, \"RegularJobHigh\": 0.56, \"StateOwnedLow\": null, \"StateOwnedHigh\": null}, {\"State\": \"Minnesota\", \"RegularJobLow\": 0.25, \"RegularJobHigh\": 2.0, \"StateOwnedLow\": \"0.5\", \"StateOwnedHigh\": 2.0}, {\"State\": \"Mississippi\", \"RegularJobLow\": 0.0, \"RegularJobHigh\": null, \"StateOwnedLow\": \"0.2\", \"StateOwnedHigh\": 1.3}, {\"State\": \"Missouri\", \"RegularJobLow\": 0.05, \"RegularJobHigh\": null, \"StateOwnedLow\": \"0.3\", \"StateOwnedHigh\": 1.25}, {\"State\": \"Montana\", \"RegularJobLow\": 0.16, \"RegularJobHigh\": 1.25, \"StateOwnedLow\": null, \"StateOwnedHigh\": null}, {\"State\": \"Nebraska\", \"RegularJobLow\": 0.16, \"RegularJobHigh\": 1.08, \"StateOwnedLow\": \"0.38\", \"StateOwnedHigh\": 1.08}, {\"State\": \"Nevada\", \"RegularJobLow\": null, \"RegularJobHigh\": null, \"StateOwnedLow\": \"0.25\", \"StateOwnedHigh\": 5.15}, {\"State\": \"New Hampshire\", \"RegularJobLow\": 0.25, \"RegularJobHigh\": 1.5, \"StateOwnedLow\": \"0.5\", \"StateOwnedHigh\": 1.5}, {\"State\": \"New Jersey\", \"RegularJobLow\": 0.26, \"RegularJobHigh\": 2.0, \"StateOwnedLow\": \"0.38\", \"StateOwnedHigh\": 2.0}, {\"State\": \"New Mexico\", \"RegularJobLow\": 0.1, \"RegularJobHigh\": 1.0, \"StateOwnedLow\": \"0.3\", \"StateOwnedHigh\": 1.1}, {\"State\": \"New York\", \"RegularJobLow\": 0.1, \"RegularJobHigh\": 0.33, \"StateOwnedLow\": \"Average 0.62\", \"StateOwnedHigh\": null}, {\"State\": \"North Carolina\", \"RegularJobLow\": 0.05, \"RegularJobHigh\": 0.38, \"StateOwnedLow\": \"0.05\", \"StateOwnedHigh\": 0.38}, {\"State\": \"North Dakota\", \"RegularJobLow\": 0.19, \"RegularJobHigh\": 0.88, \"StateOwnedLow\": \"0.45\", \"StateOwnedHigh\": 1.69}, {\"State\": \"Ohio\", \"RegularJobLow\": 0.1, \"RegularJobHigh\": 0.17, \"StateOwnedLow\": \"0.21\", \"StateOwnedHigh\": 1.23}, {\"State\": \"Oklahoma\", \"RegularJobLow\": 0.05, \"RegularJobHigh\": 0.54, \"StateOwnedLow\": \"0\", \"StateOwnedHigh\": 0.43}, {\"State\": \"Oregon\", \"RegularJobLow\": 0.05, \"RegularJobHigh\": 0.47, \"StateOwnedLow\": \"0.05\", \"StateOwnedHigh\": 0.47}, {\"State\": \"Pennsylvania\", \"RegularJobLow\": 0.19, \"RegularJobHigh\": 1.0, \"StateOwnedLow\": \"0.19\", \"StateOwnedHigh\": 0.42}, {\"State\": \"Rhode Island\", \"RegularJobLow\": 0.29, \"RegularJobHigh\": 0.86, \"StateOwnedLow\": null, \"StateOwnedHigh\": null}, {\"State\": \"South Carolina\", \"RegularJobLow\": 0.0, \"RegularJobHigh\": 0.0, \"StateOwnedLow\": \"0.35\", \"StateOwnedHigh\": 1.8}, {\"State\": \"South Dakota\", \"RegularJobLow\": 0.25, \"RegularJobHigh\": 0.38, \"StateOwnedLow\": \"0.25\", \"StateOwnedHigh\": 0.25}, {\"State\": \"Tennessee\", \"RegularJobLow\": 0.17, \"RegularJobHigh\": 0.75, \"StateOwnedLow\": null, \"StateOwnedHigh\": null}, {\"State\": \"Texas\", \"RegularJobLow\": 0.0, \"RegularJobHigh\": 0.0, \"StateOwnedLow\": \"0\", \"StateOwnedHigh\": 0.0}, {\"State\": \"Utah\", \"RegularJobLow\": 0.4, \"RegularJobHigh\": null, \"StateOwnedLow\": \"0.6\", \"StateOwnedHigh\": 1.75}, {\"State\": \"Vermont\", \"RegularJobLow\": 0.25, \"RegularJobHigh\": 0.4, \"StateOwnedLow\": \"0.25\", \"StateOwnedHigh\": 1.25}, {\"State\": \"Virginia\", \"RegularJobLow\": 0.27, \"RegularJobHigh\": 0.45, \"StateOwnedLow\": \"0.55\", \"StateOwnedHigh\": 0.8}, {\"State\": \"Washington\", \"RegularJobLow\": null, \"RegularJobHigh\": 0.36, \"StateOwnedLow\": \"0.7\", \"StateOwnedHigh\": 2.7}, {\"State\": \"West Virginia\", \"RegularJobLow\": 0.04, \"RegularJobHigh\": 0.58, \"StateOwnedLow\": null, \"StateOwnedHigh\": null}, {\"State\": \"Wisconsin\", \"RegularJobLow\": 0.09, \"RegularJobHigh\": 0.42, \"StateOwnedLow\": \"0.79\", \"StateOwnedHigh\": 1.41}, {\"State\": \"Wyoming\", \"RegularJobLow\": 0.35, \"RegularJobHigh\": 1.0, \"StateOwnedLow\": \"0.5\", \"StateOwnedHigh\": 1.2}, {\"State\": \"Federal Prisons\", \"RegularJobLow\": 0.12, \"RegularJobHigh\": 0.4, \"StateOwnedLow\": \"0.23\", \"StateOwnedHigh\": 1.15}, {\"State\": \"Average\", \"RegularJobLow\": 0.14, \"RegularJobHigh\": 0.63, \"StateOwnedLow\": \"0.33\", \"StateOwnedHigh\": 1.41}]}}, {\"mode\": \"vega-lite\"});\n",
       "</script>"
      ],
      "text/plain": [
       "alt.Chart(...)"
      ]
     },
     "execution_count": 24,
     "metadata": {},
     "output_type": "execute_result"
    }
   ],
   "source": [
    "# Create the chart with Aceh chart aesthetics\n",
    "# Transform the data - keep original dollar values for proper formatting\n",
    "chart_data = louisiana_prisons.copy()\n",
    "\n",
    "# Create a selection for hover interaction\n",
    "hover = alt.selection_point(on='mouseover', empty=True)\n",
    "\n",
    "# Create the bar chart with improved styling and hover interaction\n",
    "chart = alt.Chart(chart_data).add_params(\n",
    "    hover\n",
    ").mark_bar(\n",
    "    color=\"#002fa7\",\n",
    "    strokeWidth=2\n",
    ").encode(\n",
    "    x=alt.X('RegularJobLow:Q', \n",
    "            title=None,\n",
    "            axis=alt.Axis(\n",
    "                format='$.2f',\n",
    "                grid=False,\n",
    "                domainColor=\"dimgrey\",\n",
    "                labelColor=\"#333333\",\n",
    "                tickColor=\"#333333\",\n",
    "                labelFontWeight=\"bold\",\n",
    "                labelFontSize=12\n",
    "            )),\n",
    "    y=alt.Y('State:O', \n",
    "            sort=alt.EncodingSortField(field='RegularJobLow', order='ascending'),\n",
    "            title=None,\n",
    "            axis=alt.Axis(\n",
    "                domainColor=\"dimgrey\",\n",
    "                labelColor=\"#333333\",\n",
    "                tickColor=\"#333333\",\n",
    "                labelFontWeight=\"bold\",\n",
    "                labelFontSize=13\n",
    "            )),\n",
    "    opacity=alt.condition(hover, alt.value(1.0), alt.value(0.5)),\n",
    "    stroke=alt.condition(hover, alt.value(\"#000000\"), alt.value(\"transparent\")),\n",
    "    strokeWidth=alt.condition(hover, alt.value(1), alt.value(0)),\n",
    "    tooltip=[\n",
    "        alt.Tooltip('State:N', title='State'),\n",
    "        alt.Tooltip('RegularJobLow:Q', title='Minimum Hourly Pay', format='$.2f')\n",
    "    ]\n",
    ").properties(\n",
    "    title=alt.TitleParams(\n",
    "        text=\"Pay in US prisons\",\n",
    "        fontSize=15,\n",
    "        subtitle=[\"Hourly pay Source: PrisonPolicy.org\", \"\"],\n",
    "        subtitleFontStyle=\"italic\",\n",
    "        subtitleFontSize=13,\n",
    "        anchor=\"start\",\n",
    "        color=\"#333333\",\n",
    "        subtitleColor=\"#333333\",\n",
    "        font=\"Newcastle Basic Clean, Arial, sans-serif\"\n",
    "    ),\n",
    "    width=300, \n",
    "    height=600\n",
    ").configure(\n",
    "    background=\"#fbfbfb\",\n",
    "    view=alt.ViewConfig(stroke=\"transparent\"),\n",
    "    font=\"Newcastle Basic Clean, Arial, sans-serif\"\n",
    ")\n",
    "\n",
    "chart"
   ]
  },
  {
   "cell_type": "code",
   "execution_count": 25,
   "id": "17fd6332",
   "metadata": {},
   "outputs": [],
   "source": [
    "# Save to png\n",
    "chart.save('Louisiana.png', scale_factor=2)\n",
    "chart.save('Louisiana.json', scale_factor=2)"
   ]
  }
 ],
 "metadata": {
  "kernelspec": {
   "display_name": "charts",
   "language": "python",
   "name": "python3"
  },
  "language_info": {
   "codemirror_mode": {
    "name": "ipython",
    "version": 3
   },
   "file_extension": ".py",
   "mimetype": "text/x-python",
   "name": "python",
   "nbconvert_exporter": "python",
   "pygments_lexer": "ipython3",
   "version": "3.12.11"
  }
 },
 "nbformat": 4,
 "nbformat_minor": 5
}
