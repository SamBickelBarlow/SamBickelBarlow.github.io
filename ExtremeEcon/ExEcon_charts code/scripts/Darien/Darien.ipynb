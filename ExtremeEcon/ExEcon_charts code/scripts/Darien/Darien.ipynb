{
 "cells": [
  {
   "cell_type": "code",
   "execution_count": 2,
   "id": "83670773",
   "metadata": {},
   "outputs": [],
   "source": [
    "import pandas as pd\n",
    "import altair as alt\n",
    "import os"
   ]
  },
  {
   "cell_type": "code",
   "execution_count": 3,
   "id": "8910ab5e",
   "metadata": {},
   "outputs": [],
   "source": [
    "os.chdir('/Users/sambickel-barlow/Desktop/ExEcon_charts code')"
   ]
  },
  {
   "cell_type": "code",
   "execution_count": 4,
   "id": "f064a8d6",
   "metadata": {},
   "outputs": [],
   "source": [
    "darien = pd.read_csv('data/Darien/Darien_irregular_migration.csv')"
   ]
  },
  {
   "cell_type": "code",
   "execution_count": 7,
   "id": "0296b46f",
   "metadata": {},
   "outputs": [],
   "source": [
    "darien_melt = darien.melt(id_vars=['Country'], var_name='Year', value_name='Count')"
   ]
  },
  {
   "cell_type": "code",
   "execution_count": 14,
   "id": "aa4c3887",
   "metadata": {},
   "outputs": [],
   "source": [
    "darien_melt = darien_melt[(darien_melt['Year'] != '2025') & (darien_melt['Year'] != 'Total')]"
   ]
  },
  {
   "cell_type": "code",
   "execution_count": 24,
   "id": "237d6307",
   "metadata": {},
   "outputs": [
    {
     "data": {
      "text/html": [
       "\n",
       "<style>\n",
       "  #altair-viz-e60045ad004e49799bd8aabafa93428c.vega-embed {\n",
       "    width: 100%;\n",
       "    display: flex;\n",
       "  }\n",
       "\n",
       "  #altair-viz-e60045ad004e49799bd8aabafa93428c.vega-embed details,\n",
       "  #altair-viz-e60045ad004e49799bd8aabafa93428c.vega-embed details summary {\n",
       "    position: relative;\n",
       "  }\n",
       "</style>\n",
       "<div id=\"altair-viz-e60045ad004e49799bd8aabafa93428c\"></div>\n",
       "<script type=\"text/javascript\">\n",
       "  var VEGA_DEBUG = (typeof VEGA_DEBUG == \"undefined\") ? {} : VEGA_DEBUG;\n",
       "  (function(spec, embedOpt){\n",
       "    let outputDiv = document.currentScript.previousElementSibling;\n",
       "    if (outputDiv.id !== \"altair-viz-e60045ad004e49799bd8aabafa93428c\") {\n",
       "      outputDiv = document.getElementById(\"altair-viz-e60045ad004e49799bd8aabafa93428c\");\n",
       "    }\n",
       "\n",
       "    const paths = {\n",
       "      \"vega\": \"https://cdn.jsdelivr.net/npm/vega@5?noext\",\n",
       "      \"vega-lib\": \"https://cdn.jsdelivr.net/npm/vega-lib?noext\",\n",
       "      \"vega-lite\": \"https://cdn.jsdelivr.net/npm/vega-lite@5.20.1?noext\",\n",
       "      \"vega-embed\": \"https://cdn.jsdelivr.net/npm/vega-embed@6?noext\",\n",
       "    };\n",
       "\n",
       "    function maybeLoadScript(lib, version) {\n",
       "      var key = `${lib.replace(\"-\", \"\")}_version`;\n",
       "      return (VEGA_DEBUG[key] == version) ?\n",
       "        Promise.resolve(paths[lib]) :\n",
       "        new Promise(function(resolve, reject) {\n",
       "          var s = document.createElement('script');\n",
       "          document.getElementsByTagName(\"head\")[0].appendChild(s);\n",
       "          s.async = true;\n",
       "          s.onload = () => {\n",
       "            VEGA_DEBUG[key] = version;\n",
       "            return resolve(paths[lib]);\n",
       "          };\n",
       "          s.onerror = () => reject(`Error loading script: ${paths[lib]}`);\n",
       "          s.src = paths[lib];\n",
       "        });\n",
       "    }\n",
       "\n",
       "    function showError(err) {\n",
       "      outputDiv.innerHTML = `<div class=\"error\" style=\"color:red;\">${err}</div>`;\n",
       "      throw err;\n",
       "    }\n",
       "\n",
       "    function displayChart(vegaEmbed) {\n",
       "      vegaEmbed(outputDiv, spec, embedOpt)\n",
       "        .catch(err => showError(`Javascript Error: ${err.message}<br>This usually means there's a typo in your chart specification. See the javascript console for the full traceback.`));\n",
       "    }\n",
       "\n",
       "    if(typeof define === \"function\" && define.amd) {\n",
       "      requirejs.config({paths});\n",
       "      let deps = [\"vega-embed\"];\n",
       "      require(deps, displayChart, err => showError(`Error loading script: ${err.message}`));\n",
       "    } else {\n",
       "      maybeLoadScript(\"vega\", \"5\")\n",
       "        .then(() => maybeLoadScript(\"vega-lite\", \"5.20.1\"))\n",
       "        .then(() => maybeLoadScript(\"vega-embed\", \"6\"))\n",
       "        .catch(showError)\n",
       "        .then(() => displayChart(vegaEmbed));\n",
       "    }\n",
       "  })({\"config\": {\"view\": {\"continuousWidth\": 300, \"continuousHeight\": 300, \"stroke\": \"transparent\"}, \"background\": \"#fbfbfb\", \"font\": \"Newcastle Basic Clean, Arial, sans-serif\"}, \"data\": {\"name\": \"data-7c04806c3a59d3c22134f5f63cd7fba7\"}, \"mark\": {\"type\": \"bar\", \"stroke\": \"transparent\", \"strokeWidth\": 0}, \"encoding\": {\"color\": {\"field\": \"Country\", \"legend\": {\"labelColor\": \"#333333\", \"labelFontSize\": 11, \"labelFontWeight\": \"bold\", \"orient\": \"right\", \"titleColor\": \"#333333\", \"titleFontWeight\": \"bold\"}, \"scale\": {\"scheme\": \"category20\"}, \"title\": null, \"type\": \"nominal\"}, \"opacity\": {\"condition\": {\"param\": \"param_8\", \"value\": 1.0, \"empty\": true}, \"value\": 0.8}, \"tooltip\": [{\"field\": \"Year\", \"title\": \"Year\", \"type\": \"ordinal\"}, {\"field\": \"Country\", \"title\": \"Country\", \"type\": \"nominal\"}, {\"field\": \"Count\", \"format\": \",.0f\", \"title\": \"Migrants\", \"type\": \"quantitative\"}], \"x\": {\"axis\": {\"domainColor\": \"dimgrey\", \"grid\": false, \"labelAngle\": 0, \"labelColor\": \"#333333\", \"labelFontSize\": 12, \"labelFontWeight\": \"bold\", \"tickColor\": \"#333333\"}, \"field\": \"Year\", \"title\": null, \"type\": \"ordinal\"}, \"y\": {\"aggregate\": \"sum\", \"axis\": {\"domainColor\": \"dimgrey\", \"format\": \"~s\", \"grid\": false, \"labelColor\": \"#333333\", \"labelFontSize\": 12, \"labelFontWeight\": \"bold\", \"tickColor\": \"#333333\"}, \"field\": \"Count\", \"title\": null, \"type\": \"quantitative\"}}, \"height\": 300, \"params\": [{\"name\": \"param_8\", \"select\": {\"type\": \"point\", \"on\": \"mouseover\"}}], \"title\": {\"text\": \"Irregular migration through the Darien Gap by country of origin\", \"anchor\": \"start\", \"color\": \"#333333\", \"font\": \"Newcastle Basic Clean, Arial, sans-serif\", \"fontSize\": 15, \"subtitle\": [\"Source: Migraci\\u00f3n Panam\\u00e1\", \"\"], \"subtitleColor\": \"#333333\", \"subtitleFontSize\": 13, \"subtitleFontStyle\": \"italic\"}, \"width\": 600, \"$schema\": \"https://vega.github.io/schema/vega-lite/v5.20.1.json\", \"datasets\": {\"data-7c04806c3a59d3c22134f5f63cd7fba7\": [{\"Country\": \"Venezuela\", \"Year\": \"2010\", \"Count\": 0}, {\"Country\": \"Haiti\", \"Year\": \"2010\", \"Count\": 0}, {\"Country\": \"Ecuador\", \"Year\": \"2010\", \"Count\": 0}, {\"Country\": \"Cuba\", \"Year\": \"2010\", \"Count\": 79}, {\"Country\": \"Colombia\", \"Year\": \"2010\", \"Count\": 0}, {\"Country\": \"China\", \"Year\": \"2010\", \"Count\": 268}, {\"Country\": \"Chile\", \"Year\": \"2010\", \"Count\": 0}, {\"Country\": \"India\", \"Year\": \"2010\", \"Count\": 12}, {\"Country\": \"Brazil\", \"Year\": \"2010\", \"Count\": 0}, {\"Country\": \"Nepal\", \"Year\": \"2010\", \"Count\": 29}, {\"Country\": \"Bangladesh\", \"Year\": \"2010\", \"Count\": 53}, {\"Country\": \"Peru\", \"Year\": \"2010\", \"Count\": 0}, {\"Country\": \"Cameroon\", \"Year\": \"2010\", \"Count\": 2}, {\"Country\": \"Afghanistan\", \"Year\": \"2010\", \"Count\": 17}, {\"Country\": \"Angola\", \"Year\": \"2010\", \"Count\": 0}, {\"Country\": \"Ghana\", \"Year\": \"2010\", \"Count\": 2}, {\"Country\": \"Congo\", \"Year\": \"2010\", \"Count\": 1}, {\"Country\": \"Vietnam\", \"Year\": \"2010\", \"Count\": 0}, {\"Country\": \"Somalia\", \"Year\": \"2010\", \"Count\": 4}, {\"Country\": \"Other Countries\", \"Year\": \"2010\", \"Count\": 92}, {\"Country\": \"Venezuela\", \"Year\": \"2011\", \"Count\": 0}, {\"Country\": \"Haiti\", \"Year\": \"2011\", \"Count\": 1}, {\"Country\": \"Ecuador\", \"Year\": \"2011\", \"Count\": 15}, {\"Country\": \"Cuba\", \"Year\": \"2011\", \"Count\": 18}, {\"Country\": \"Colombia\", \"Year\": \"2011\", \"Count\": 65}, {\"Country\": \"China\", \"Year\": \"2011\", \"Count\": 9}, {\"Country\": \"Chile\", \"Year\": \"2011\", \"Count\": 0}, {\"Country\": \"India\", \"Year\": \"2011\", \"Count\": 11}, {\"Country\": \"Brazil\", \"Year\": \"2011\", \"Count\": 0}, {\"Country\": \"Nepal\", \"Year\": \"2011\", \"Count\": 9}, {\"Country\": \"Bangladesh\", \"Year\": \"2011\", \"Count\": 45}, {\"Country\": \"Peru\", \"Year\": \"2011\", \"Count\": 17}, {\"Country\": \"Cameroon\", \"Year\": \"2011\", \"Count\": 1}, {\"Country\": \"Afghanistan\", \"Year\": \"2011\", \"Count\": 0}, {\"Country\": \"Angola\", \"Year\": \"2011\", \"Count\": 0}, {\"Country\": \"Ghana\", \"Year\": \"2011\", \"Count\": 1}, {\"Country\": \"Congo\", \"Year\": \"2011\", \"Count\": 0}, {\"Country\": \"Vietnam\", \"Year\": \"2011\", \"Count\": 2}, {\"Country\": \"Somalia\", \"Year\": \"2011\", \"Count\": 20}, {\"Country\": \"Other Countries\", \"Year\": \"2011\", \"Count\": 69}, {\"Country\": \"Venezuela\", \"Year\": \"2012\", \"Count\": 0}, {\"Country\": \"Haiti\", \"Year\": \"2012\", \"Count\": 0}, {\"Country\": \"Ecuador\", \"Year\": \"2012\", \"Count\": 18}, {\"Country\": \"Cuba\", \"Year\": \"2012\", \"Count\": 1154}, {\"Country\": \"Colombia\", \"Year\": \"2012\", \"Count\": 24}, {\"Country\": \"China\", \"Year\": \"2012\", \"Count\": 11}, {\"Country\": \"Chile\", \"Year\": \"2012\", \"Count\": 0}, {\"Country\": \"India\", \"Year\": \"2012\", \"Count\": 48}, {\"Country\": \"Brazil\", \"Year\": \"2012\", \"Count\": 0}, {\"Country\": \"Nepal\", \"Year\": \"2012\", \"Count\": 213}, {\"Country\": \"Bangladesh\", \"Year\": \"2012\", \"Count\": 89}, {\"Country\": \"Peru\", \"Year\": \"2012\", \"Count\": 0}, {\"Country\": \"Cameroon\", \"Year\": \"2012\", \"Count\": 0}, {\"Country\": \"Afghanistan\", \"Year\": \"2012\", \"Count\": 3}, {\"Country\": \"Angola\", \"Year\": \"2012\", \"Count\": 0}, {\"Country\": \"Ghana\", \"Year\": \"2012\", \"Count\": 7}, {\"Country\": \"Congo\", \"Year\": \"2012\", \"Count\": 0}, {\"Country\": \"Vietnam\", \"Year\": \"2012\", \"Count\": 0}, {\"Country\": \"Somalia\", \"Year\": \"2012\", \"Count\": 112}, {\"Country\": \"Other Countries\", \"Year\": \"2012\", \"Count\": 98}, {\"Country\": \"Venezuela\", \"Year\": \"2013\", \"Count\": 0}, {\"Country\": \"Haiti\", \"Year\": \"2013\", \"Count\": 2}, {\"Country\": \"Ecuador\", \"Year\": \"2013\", \"Count\": 4}, {\"Country\": \"Cuba\", \"Year\": \"2013\", \"Count\": 2010}, {\"Country\": \"Colombia\", \"Year\": \"2013\", \"Count\": 26}, {\"Country\": \"China\", \"Year\": \"2013\", \"Count\": 1}, {\"Country\": \"Chile\", \"Year\": \"2013\", \"Count\": 0}, {\"Country\": \"India\", \"Year\": \"2013\", \"Count\": 0}, {\"Country\": \"Brazil\", \"Year\": \"2013\", \"Count\": 0}, {\"Country\": \"Nepal\", \"Year\": \"2013\", \"Count\": 297}, {\"Country\": \"Bangladesh\", \"Year\": \"2013\", \"Count\": 398}, {\"Country\": \"Peru\", \"Year\": \"2013\", \"Count\": 0}, {\"Country\": \"Cameroon\", \"Year\": \"2013\", \"Count\": 0}, {\"Country\": \"Afghanistan\", \"Year\": \"2013\", \"Count\": 4}, {\"Country\": \"Angola\", \"Year\": \"2013\", \"Count\": 0}, {\"Country\": \"Ghana\", \"Year\": \"2013\", \"Count\": 8}, {\"Country\": \"Congo\", \"Year\": \"2013\", \"Count\": 0}, {\"Country\": \"Vietnam\", \"Year\": \"2013\", \"Count\": 0}, {\"Country\": \"Somalia\", \"Year\": \"2013\", \"Count\": 174}, {\"Country\": \"Other Countries\", \"Year\": \"2013\", \"Count\": 127}, {\"Country\": \"Venezuela\", \"Year\": \"2014\", \"Count\": 0}, {\"Country\": \"Haiti\", \"Year\": \"2014\", \"Count\": 1}, {\"Country\": \"Ecuador\", \"Year\": \"2014\", \"Count\": 1}, {\"Country\": \"Cuba\", \"Year\": \"2014\", \"Count\": 5026}, {\"Country\": \"Colombia\", \"Year\": \"2014\", \"Count\": 9}, {\"Country\": \"China\", \"Year\": \"2014\", \"Count\": 0}, {\"Country\": \"Chile\", \"Year\": \"2014\", \"Count\": 0}, {\"Country\": \"India\", \"Year\": \"2014\", \"Count\": 1}, {\"Country\": \"Brazil\", \"Year\": \"2014\", \"Count\": 1}, {\"Country\": \"Nepal\", \"Year\": \"2014\", \"Count\": 468}, {\"Country\": \"Bangladesh\", \"Year\": \"2014\", \"Count\": 377}, {\"Country\": \"Peru\", \"Year\": \"2014\", \"Count\": 1}, {\"Country\": \"Cameroon\", \"Year\": \"2014\", \"Count\": 6}, {\"Country\": \"Afghanistan\", \"Year\": \"2014\", \"Count\": 0}, {\"Country\": \"Angola\", \"Year\": \"2014\", \"Count\": 0}, {\"Country\": \"Ghana\", \"Year\": \"2014\", \"Count\": 38}, {\"Country\": \"Congo\", \"Year\": \"2014\", \"Count\": 1}, {\"Country\": \"Vietnam\", \"Year\": \"2014\", \"Count\": 0}, {\"Country\": \"Somalia\", \"Year\": \"2014\", \"Count\": 161}, {\"Country\": \"Other Countries\", \"Year\": \"2014\", \"Count\": 84}, {\"Country\": \"Venezuela\", \"Year\": \"2015\", \"Count\": 2}, {\"Country\": \"Haiti\", \"Year\": \"2015\", \"Count\": 7}, {\"Country\": \"Ecuador\", \"Year\": \"2015\", \"Count\": 14}, {\"Country\": \"Cuba\", \"Year\": \"2015\", \"Count\": 24623}, {\"Country\": \"Colombia\", \"Year\": \"2015\", \"Count\": 32}, {\"Country\": \"China\", \"Year\": \"2015\", \"Count\": 1}, {\"Country\": \"Chile\", \"Year\": \"2015\", \"Count\": 0}, {\"Country\": \"India\", \"Year\": \"2015\", \"Count\": 1}, {\"Country\": \"Brazil\", \"Year\": \"2015\", \"Count\": 1}, {\"Country\": \"Nepal\", \"Year\": \"2015\", \"Count\": 2426}, {\"Country\": \"Bangladesh\", \"Year\": \"2015\", \"Count\": 559}, {\"Country\": \"Peru\", \"Year\": \"2015\", \"Count\": 1}, {\"Country\": \"Cameroon\", \"Year\": \"2015\", \"Count\": 39}, {\"Country\": \"Afghanistan\", \"Year\": \"2015\", \"Count\": 19}, {\"Country\": \"Angola\", \"Year\": \"2015\", \"Count\": 0}, {\"Country\": \"Ghana\", \"Year\": \"2015\", \"Count\": 498}, {\"Country\": \"Congo\", \"Year\": \"2015\", \"Count\": 5}, {\"Country\": \"Vietnam\", \"Year\": \"2015\", \"Count\": 0}, {\"Country\": \"Somalia\", \"Year\": \"2015\", \"Count\": 527}, {\"Country\": \"Other Countries\", \"Year\": \"2015\", \"Count\": 534}, {\"Country\": \"Venezuela\", \"Year\": \"2016\", \"Count\": 6}, {\"Country\": \"Haiti\", \"Year\": \"2016\", \"Count\": 16742}, {\"Country\": \"Ecuador\", \"Year\": \"2016\", \"Count\": 93}, {\"Country\": \"Cuba\", \"Year\": \"2016\", \"Count\": 7383}, {\"Country\": \"Colombia\", \"Year\": \"2016\", \"Count\": 16}, {\"Country\": \"China\", \"Year\": \"2016\", \"Count\": 0}, {\"Country\": \"Chile\", \"Year\": \"2016\", \"Count\": 0}, {\"Country\": \"India\", \"Year\": \"2016\", \"Count\": 20}, {\"Country\": \"Brazil\", \"Year\": \"2016\", \"Count\": 0}, {\"Country\": \"Nepal\", \"Year\": \"2016\", \"Count\": 1619}, {\"Country\": \"Bangladesh\", \"Year\": \"2016\", \"Count\": 580}, {\"Country\": \"Peru\", \"Year\": \"2016\", \"Count\": 9}, {\"Country\": \"Cameroon\", \"Year\": \"2016\", \"Count\": 168}, {\"Country\": \"Afghanistan\", \"Year\": \"2016\", \"Count\": 18}, {\"Country\": \"Angola\", \"Year\": \"2016\", \"Count\": 133}, {\"Country\": \"Ghana\", \"Year\": \"2016\", \"Count\": 412}, {\"Country\": \"Congo\", \"Year\": \"2016\", \"Count\": 764}, {\"Country\": \"Vietnam\", \"Year\": \"2016\", \"Count\": 0}, {\"Country\": \"Somalia\", \"Year\": \"2016\", \"Count\": 192}, {\"Country\": \"Other Countries\", \"Year\": \"2016\", \"Count\": 1905}, {\"Country\": \"Venezuela\", \"Year\": \"2017\", \"Count\": 18}, {\"Country\": \"Haiti\", \"Year\": \"2017\", \"Count\": 40}, {\"Country\": \"Ecuador\", \"Year\": \"2017\", \"Count\": 50}, {\"Country\": \"Cuba\", \"Year\": \"2017\", \"Count\": 736}, {\"Country\": \"Colombia\", \"Year\": \"2017\", \"Count\": 36}, {\"Country\": \"China\", \"Year\": \"2017\", \"Count\": 6}, {\"Country\": \"Chile\", \"Year\": \"2017\", \"Count\": 0}, {\"Country\": \"India\", \"Year\": \"2017\", \"Count\": 1127}, {\"Country\": \"Brazil\", \"Year\": \"2017\", \"Count\": 0}, {\"Country\": \"Nepal\", \"Year\": \"2017\", \"Count\": 2138}, {\"Country\": \"Bangladesh\", \"Year\": \"2017\", \"Count\": 506}, {\"Country\": \"Peru\", \"Year\": \"2017\", \"Count\": 4}, {\"Country\": \"Cameroon\", \"Year\": \"2017\", \"Count\": 330}, {\"Country\": \"Afghanistan\", \"Year\": \"2017\", \"Count\": 14}, {\"Country\": \"Angola\", \"Year\": \"2017\", \"Count\": 59}, {\"Country\": \"Ghana\", \"Year\": \"2017\", \"Count\": 73}, {\"Country\": \"Congo\", \"Year\": \"2017\", \"Count\": 275}, {\"Country\": \"Vietnam\", \"Year\": \"2017\", \"Count\": 0}, {\"Country\": \"Somalia\", \"Year\": \"2017\", \"Count\": 81}, {\"Country\": \"Other Countries\", \"Year\": \"2017\", \"Count\": 1283}, {\"Country\": \"Venezuela\", \"Year\": \"2018\", \"Count\": 65}, {\"Country\": \"Haiti\", \"Year\": \"2018\", \"Count\": 420}, {\"Country\": \"Ecuador\", \"Year\": \"2018\", \"Count\": 51}, {\"Country\": \"Cuba\", \"Year\": \"2018\", \"Count\": 329}, {\"Country\": \"Colombia\", \"Year\": \"2018\", \"Count\": 13}, {\"Country\": \"China\", \"Year\": \"2018\", \"Count\": 0}, {\"Country\": \"Chile\", \"Year\": \"2018\", \"Count\": 0}, {\"Country\": \"India\", \"Year\": \"2018\", \"Count\": 2962}, {\"Country\": \"Brazil\", \"Year\": \"2018\", \"Count\": 0}, {\"Country\": \"Nepal\", \"Year\": \"2018\", \"Count\": 868}, {\"Country\": \"Bangladesh\", \"Year\": \"2018\", \"Count\": 1525}, {\"Country\": \"Peru\", \"Year\": \"2018\", \"Count\": 3}, {\"Country\": \"Cameroon\", \"Year\": \"2018\", \"Count\": 883}, {\"Country\": \"Afghanistan\", \"Year\": \"2018\", \"Count\": 10}, {\"Country\": \"Angola\", \"Year\": \"2018\", \"Count\": 237}, {\"Country\": \"Ghana\", \"Year\": \"2018\", \"Count\": 108}, {\"Country\": \"Congo\", \"Year\": \"2018\", \"Count\": 615}, {\"Country\": \"Vietnam\", \"Year\": \"2018\", \"Count\": 0}, {\"Country\": \"Somalia\", \"Year\": \"2018\", \"Count\": 32}, {\"Country\": \"Other Countries\", \"Year\": \"2018\", \"Count\": 1100}, {\"Country\": \"Venezuela\", \"Year\": \"2019\", \"Count\": 78}, {\"Country\": \"Haiti\", \"Year\": \"2019\", \"Count\": 10490}, {\"Country\": \"Ecuador\", \"Year\": \"2019\", \"Count\": 31}, {\"Country\": \"Cuba\", \"Year\": \"2019\", \"Count\": 2691}, {\"Country\": \"Colombia\", \"Year\": \"2019\", \"Count\": 23}, {\"Country\": \"China\", \"Year\": \"2019\", \"Count\": 0}, {\"Country\": \"Chile\", \"Year\": \"2019\", \"Count\": 0}, {\"Country\": \"India\", \"Year\": \"2019\", \"Count\": 1920}, {\"Country\": \"Brazil\", \"Year\": \"2019\", \"Count\": 0}, {\"Country\": \"Nepal\", \"Year\": \"2019\", \"Count\": 254}, {\"Country\": \"Bangladesh\", \"Year\": \"2019\", \"Count\": 911}, {\"Country\": \"Peru\", \"Year\": \"2019\", \"Count\": 3}, {\"Country\": \"Cameroon\", \"Year\": \"2019\", \"Count\": 2186}, {\"Country\": \"Afghanistan\", \"Year\": \"2019\", \"Count\": 13}, {\"Country\": \"Angola\", \"Year\": \"2019\", \"Count\": 556}, {\"Country\": \"Ghana\", \"Year\": \"2019\", \"Count\": 122}, {\"Country\": \"Congo\", \"Year\": \"2019\", \"Count\": 1274}, {\"Country\": \"Vietnam\", \"Year\": \"2019\", \"Count\": 5}, {\"Country\": \"Somalia\", \"Year\": \"2019\", \"Count\": 9}, {\"Country\": \"Other Countries\", \"Year\": \"2019\", \"Count\": 1536}, {\"Country\": \"Venezuela\", \"Year\": \"2020\", \"Count\": 69}, {\"Country\": \"Haiti\", \"Year\": \"2020\", \"Count\": 4538}, {\"Country\": \"Ecuador\", \"Year\": \"2020\", \"Count\": 40}, {\"Country\": \"Cuba\", \"Year\": \"2020\", \"Count\": 245}, {\"Country\": \"Colombia\", \"Year\": \"2020\", \"Count\": 21}, {\"Country\": \"China\", \"Year\": \"2020\", \"Count\": 3}, {\"Country\": \"Chile\", \"Year\": \"2020\", \"Count\": 531}, {\"Country\": \"India\", \"Year\": \"2020\", \"Count\": 39}, {\"Country\": \"Brazil\", \"Year\": \"2020\", \"Count\": 262}, {\"Country\": \"Nepal\", \"Year\": \"2020\", \"Count\": 56}, {\"Country\": \"Bangladesh\", \"Year\": \"2020\", \"Count\": 123}, {\"Country\": \"Peru\", \"Year\": \"2020\", \"Count\": 4}, {\"Country\": \"Cameroon\", \"Year\": \"2020\", \"Count\": 39}, {\"Country\": \"Afghanistan\", \"Year\": \"2020\", \"Count\": 0}, {\"Country\": \"Angola\", \"Year\": \"2020\", \"Count\": 31}, {\"Country\": \"Ghana\", \"Year\": \"2020\", \"Count\": 13}, {\"Country\": \"Congo\", \"Year\": \"2020\", \"Count\": 115}, {\"Country\": \"Vietnam\", \"Year\": \"2020\", \"Count\": 1}, {\"Country\": \"Somalia\", \"Year\": \"2020\", \"Count\": 3}, {\"Country\": \"Other Countries\", \"Year\": \"2020\", \"Count\": 332}, {\"Country\": \"Venezuela\", \"Year\": \"2021\", \"Count\": 2819}, {\"Country\": \"Haiti\", \"Year\": \"2021\", \"Count\": 82952}, {\"Country\": \"Ecuador\", \"Year\": \"2021\", \"Count\": 387}, {\"Country\": \"Cuba\", \"Year\": \"2021\", \"Count\": 18600}, {\"Country\": \"Colombia\", \"Year\": \"2021\", \"Count\": 169}, {\"Country\": \"China\", \"Year\": \"2021\", \"Count\": 77}, {\"Country\": \"Chile\", \"Year\": \"2021\", \"Count\": 9587}, {\"Country\": \"India\", \"Year\": \"2021\", \"Count\": 592}, {\"Country\": \"Brazil\", \"Year\": \"2021\", \"Count\": 8533}, {\"Country\": \"Nepal\", \"Year\": \"2021\", \"Count\": 523}, {\"Country\": \"Bangladesh\", \"Year\": \"2021\", \"Count\": 1657}, {\"Country\": \"Peru\", \"Year\": \"2021\", \"Count\": 0}, {\"Country\": \"Cameroon\", \"Year\": \"2021\", \"Count\": 354}, {\"Country\": \"Afghanistan\", \"Year\": \"2021\", \"Count\": 0}, {\"Country\": \"Angola\", \"Year\": \"2021\", \"Count\": 479}, {\"Country\": \"Ghana\", \"Year\": \"2021\", \"Count\": 1289}, {\"Country\": \"Congo\", \"Year\": \"2021\", \"Count\": 315}, {\"Country\": \"Vietnam\", \"Year\": \"2021\", \"Count\": 0}, {\"Country\": \"Somalia\", \"Year\": \"2021\", \"Count\": 120}, {\"Country\": \"Other Countries\", \"Year\": \"2021\", \"Count\": 5273}, {\"Country\": \"Venezuela\", \"Year\": \"2022\", \"Count\": 150327}, {\"Country\": \"Haiti\", \"Year\": \"2022\", \"Count\": 22435}, {\"Country\": \"Ecuador\", \"Year\": \"2022\", \"Count\": 29356}, {\"Country\": \"Cuba\", \"Year\": \"2022\", \"Count\": 5961}, {\"Country\": \"Colombia\", \"Year\": \"2022\", \"Count\": 5064}, {\"Country\": \"China\", \"Year\": \"2022\", \"Count\": 2005}, {\"Country\": \"Chile\", \"Year\": \"2022\", \"Count\": 1805}, {\"Country\": \"India\", \"Year\": \"2022\", \"Count\": 4094}, {\"Country\": \"Brazil\", \"Year\": \"2022\", \"Count\": 3047}, {\"Country\": \"Nepal\", \"Year\": \"2022\", \"Count\": 1631}, {\"Country\": \"Bangladesh\", \"Year\": \"2022\", \"Count\": 1884}, {\"Country\": \"Peru\", \"Year\": \"2022\", \"Count\": 1543}, {\"Country\": \"Cameroon\", \"Year\": \"2022\", \"Count\": 1469}, {\"Country\": \"Afghanistan\", \"Year\": \"2022\", \"Count\": 2220}, {\"Country\": \"Angola\", \"Year\": \"2022\", \"Count\": 1402}, {\"Country\": \"Ghana\", \"Year\": \"2022\", \"Count\": 1337}, {\"Country\": \"Congo\", \"Year\": \"2022\", \"Count\": 737}, {\"Country\": \"Vietnam\", \"Year\": \"2022\", \"Count\": 0}, {\"Country\": \"Somalia\", \"Year\": \"2022\", \"Count\": 1442}, {\"Country\": \"Other Countries\", \"Year\": \"2022\", \"Count\": 10525}, {\"Country\": \"Venezuela\", \"Year\": \"2023\", \"Count\": 328650}, {\"Country\": \"Haiti\", \"Year\": \"2023\", \"Count\": 46422}, {\"Country\": \"Ecuador\", \"Year\": \"2023\", \"Count\": 57250}, {\"Country\": \"Cuba\", \"Year\": \"2023\", \"Count\": 1124}, {\"Country\": \"Colombia\", \"Year\": \"2023\", \"Count\": 18841}, {\"Country\": \"China\", \"Year\": \"2023\", \"Count\": 25565}, {\"Country\": \"Chile\", \"Year\": \"2023\", \"Count\": 5877}, {\"Country\": \"India\", \"Year\": \"2023\", \"Count\": 3736}, {\"Country\": \"Brazil\", \"Year\": \"2023\", \"Count\": 3838}, {\"Country\": \"Nepal\", \"Year\": \"2023\", \"Count\": 2252}, {\"Country\": \"Bangladesh\", \"Year\": \"2023\", \"Count\": 1931}, {\"Country\": \"Peru\", \"Year\": \"2023\", \"Count\": 4093}, {\"Country\": \"Cameroon\", \"Year\": \"2023\", \"Count\": 1636}, {\"Country\": \"Afghanistan\", \"Year\": \"2023\", \"Count\": 4267}, {\"Country\": \"Angola\", \"Year\": \"2023\", \"Count\": 1157}, {\"Country\": \"Ghana\", \"Year\": \"2023\", \"Count\": 790}, {\"Country\": \"Congo\", \"Year\": \"2023\", \"Count\": 622}, {\"Country\": \"Vietnam\", \"Year\": \"2023\", \"Count\": 2102}, {\"Country\": \"Somalia\", \"Year\": \"2023\", \"Count\": 1124}, {\"Country\": \"Other Countries\", \"Year\": \"2023\", \"Count\": 8808}, {\"Country\": \"Venezuela\", \"Year\": \"2024\", \"Count\": 209897}, {\"Country\": \"Haiti\", \"Year\": \"2024\", \"Count\": 11954}, {\"Country\": \"Ecuador\", \"Year\": \"2024\", \"Count\": 16576}, {\"Country\": \"Cuba\", \"Year\": \"2024\", \"Count\": 760}, {\"Country\": \"Colombia\", \"Year\": \"2024\", \"Count\": 17529}, {\"Country\": \"China\", \"Year\": \"2024\", \"Count\": 12398}, {\"Country\": \"Chile\", \"Year\": \"2024\", \"Count\": 1997}, {\"Country\": \"India\", \"Year\": \"2024\", \"Count\": 4073}, {\"Country\": \"Brazil\", \"Year\": \"2024\", \"Count\": 1075}, {\"Country\": \"Nepal\", \"Year\": \"2024\", \"Count\": 2344}, {\"Country\": \"Bangladesh\", \"Year\": \"2024\", \"Count\": 2635}, {\"Country\": \"Peru\", \"Year\": \"2024\", \"Count\": 3374}, {\"Country\": \"Cameroon\", \"Year\": \"2024\", \"Count\": 1608}, {\"Country\": \"Afghanistan\", \"Year\": \"2024\", \"Count\": 1983}, {\"Country\": \"Angola\", \"Year\": \"2024\", \"Count\": 1918}, {\"Country\": \"Ghana\", \"Year\": \"2024\", \"Count\": 768}, {\"Country\": \"Congo\", \"Year\": \"2024\", \"Count\": 677}, {\"Country\": \"Vietnam\", \"Year\": \"2024\", \"Count\": 3113}, {\"Country\": \"Somalia\", \"Year\": \"2024\", \"Count\": 719}, {\"Country\": \"Other Countries\", \"Year\": \"2024\", \"Count\": 6805}]}}, {\"mode\": \"vega-lite\"});\n",
       "</script>"
      ],
      "text/plain": [
       "alt.Chart(...)"
      ]
     },
     "execution_count": 24,
     "metadata": {},
     "output_type": "execute_result"
    }
   ],
   "source": [
    "# Create hover selection for interaction\n",
    "hover = alt.selection_point(on='mouseover', empty=True)\n",
    "\n",
    "# Create the chart with Aceh chart aesthetics\n",
    "chart = alt.Chart(darien_melt).add_params(\n",
    "    hover\n",
    ").mark_bar(\n",
    "    stroke='transparent',\n",
    "    strokeWidth=0\n",
    ").encode(\n",
    "    x=alt.X('Year:O', \n",
    "            title=None,\n",
    "            axis=alt.Axis(\n",
    "                labelAngle=0,\n",
    "                grid=False,\n",
    "                domainColor=\"dimgrey\",\n",
    "                labelColor=\"#333333\",\n",
    "                tickColor=\"#333333\",\n",
    "                labelFontWeight=\"bold\",\n",
    "                labelFontSize=12\n",
    "            )),\n",
    "    y=alt.Y('sum(Count):Q', \n",
    "            title=None,\n",
    "            axis=alt.Axis(\n",
    "                format='~s',\n",
    "                grid=False,\n",
    "                domainColor=\"dimgrey\",\n",
    "                labelColor=\"#333333\",\n",
    "                tickColor=\"#333333\",\n",
    "                labelFontWeight=\"bold\",\n",
    "                labelFontSize=12\n",
    "            )),\n",
    "    color=alt.Color('Country:N', \n",
    "                   title=None,\n",
    "                   scale=alt.Scale(scheme='category20'),\n",
    "                   legend=alt.Legend(\n",
    "                       orient='right',\n",
    "                       labelColor=\"#333333\",\n",
    "                       labelFontWeight=\"bold\",\n",
    "                       labelFontSize=11,\n",
    "                       titleColor=\"#333333\",\n",
    "                       titleFontWeight=\"bold\"\n",
    "                   )),\n",
    "    opacity=alt.condition(hover, alt.value(1.0), alt.value(0.8)),\n",
    "    tooltip=[\n",
    "        alt.Tooltip('Year:O', title='Year'),\n",
    "        alt.Tooltip('Country:N', title='Country'),\n",
    "        alt.Tooltip('Count:Q', title='Migrants', format=',.0f')\n",
    "    ]\n",
    ").properties(\n",
    "    title=alt.TitleParams(\n",
    "        text=\"Irregular migration through the Darien Gap by country of origin\",\n",
    "        fontSize=15,\n",
    "        subtitle=[\"Source: Migración Panamá\", \"\"],\n",
    "        subtitleFontStyle=\"italic\",\n",
    "        subtitleFontSize=13,\n",
    "        anchor=\"start\",\n",
    "        color=\"#333333\",\n",
    "        subtitleColor=\"#333333\",\n",
    "        font=\"Newcastle Basic Clean, Arial, sans-serif\"\n",
    "    ),\n",
    "    width=600,\n",
    "    height=300\n",
    ").configure(\n",
    "    background=\"#fbfbfb\",\n",
    "    view=alt.ViewConfig(stroke=\"transparent\"),\n",
    "    font=\"Newcastle Basic Clean, Arial, sans-serif\"\n",
    ")\n",
    "\n",
    "chart\n"
   ]
  },
  {
   "cell_type": "code",
   "execution_count": 25,
   "id": "b33ff2ca",
   "metadata": {},
   "outputs": [],
   "source": [
    "# Save to png\n",
    "chart.save('Darien.png', scale_factor=2)\n",
    "chart.save('Darien.json', scale_factor=2)"
   ]
  }
 ],
 "metadata": {
  "kernelspec": {
   "display_name": "charts",
   "language": "python",
   "name": "python3"
  },
  "language_info": {
   "codemirror_mode": {
    "name": "ipython",
    "version": 3
   },
   "file_extension": ".py",
   "mimetype": "text/x-python",
   "name": "python",
   "nbconvert_exporter": "python",
   "pygments_lexer": "ipython3",
   "version": "3.12.11"
  }
 },
 "nbformat": 4,
 "nbformat_minor": 5
}
