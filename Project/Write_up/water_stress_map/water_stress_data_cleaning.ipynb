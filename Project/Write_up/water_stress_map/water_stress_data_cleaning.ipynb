{
 "cells": [
  {
   "cell_type": "code",
   "execution_count": 1,
   "metadata": {},
   "outputs": [],
   "source": [
    "# Importing packages\n",
    "import pandas as pd\n",
    "import numpy as np\n",
    "import pycountry"
   ]
  },
  {
   "cell_type": "code",
   "execution_count": 2,
   "metadata": {},
   "outputs": [],
   "source": [
    "# Import data set\n",
    "fao = pd.read_csv('https://raw.githubusercontent.com/SamBickelBarlow/SamBickelBarlow.github.io/refs/heads/main/Project/Write_up/water_stress_map/water_stress_map_raw_data.csv')"
   ]
  },
  {
   "cell_type": "code",
   "execution_count": 4,
   "metadata": {},
   "outputs": [],
   "source": [
    "# Isolate water stress variable\n",
    "ws = fao[fao['Variable'] == 'SDG 6.4.2. Water Stress'].reset_index()"
   ]
  },
  {
   "cell_type": "code",
   "execution_count": 6,
   "metadata": {},
   "outputs": [],
   "source": [
    "# Function to get the ISO3 code for a specific country\n",
    "def get_iso3(area):\n",
    "    if area == 'Bolivia (Plurinational State of)':\n",
    "        return 'BOL'\n",
    "    elif area == 'Democratic Republic of the Congo':\n",
    "        return 'COD'\n",
    "    elif area == 'Iran (Islamic Republic of)':\n",
    "        return 'IRN'\n",
    "    elif area == 'Netherlands (Kingdom of the)':\n",
    "        return 'NLD'\n",
    "    elif area == 'Venezuela (Bolivarian Republic of)':\n",
    "        return 'VEN'\n",
    "    elif area == 'Niger':\n",
    "        return 'NER'\n",
    "    elif area == 'Republic of Korea':\n",
    "        return 'KOR'\n",
    "    elif area == 'Republic of Korea':\n",
    "        return 'KOR'\n",
    "    else:\n",
    "        # Attempt to use pycountry to get the ISO3 code\n",
    "        try:\n",
    "            return pycountry.countries.search_fuzzy(area)[0].alpha_3\n",
    "        except:\n",
    "            return 'Not Found'  # Return 'Not Found' if the country is not found\n",
    "\n",
    "# Applying the function to the 'Area' column and creating the 'ISO3' column\n",
    "ws['ISO3'] = ws['Area'].apply(get_iso3)"
   ]
  },
  {
   "cell_type": "code",
   "execution_count": 12,
   "metadata": {},
   "outputs": [],
   "source": [
    "# Drop extra columns\n",
    "ws2 = ws.drop(['index' , 'VariableGroup' , 'Subgroup' , 'Variable' , 'Unit' , 'Symbol' , 'IsAggregate'], axis=1)"
   ]
  },
  {
   "cell_type": "code",
   "execution_count": 13,
   "metadata": {},
   "outputs": [],
   "source": [
    "# Remove the 'Not Found' ISO3s\n",
    "ws2 = ws2[ws2['ISO3'] != 'Not Found']"
   ]
  },
  {
   "cell_type": "code",
   "execution_count": 14,
   "metadata": {},
   "outputs": [],
   "source": [
    "# Remerge 2002 data back to 2022 data to calculate difference\n",
    "ws2 = ws2[ws2['Year'] == 2022].merge(ws2[ws2['Year'] == 2002] , how='left' , on='ISO3')"
   ]
  },
  {
   "cell_type": "code",
   "execution_count": 15,
   "metadata": {},
   "outputs": [],
   "source": [
    "# Calculate differences (net, pct)\n",
    "ws2['Area'] = ws2['Area_x']\n",
    "ws2['Water Stress net change'] = ws2['Value_x'] - ws2['Value_y']\n",
    "ws2['Water Stress pct change'] = (ws2['Value_x'] - ws2['Value_y']) / ws2['Value_y']\n",
    "ws2['Water Stress 2002'] = ws2['Value_y']\n",
    "ws2['Water Stress 2022'] = ws2['Value_x']"
   ]
  },
  {
   "cell_type": "code",
   "execution_count": 16,
   "metadata": {},
   "outputs": [],
   "source": [
    "# Drop extra columns\n",
    "ws2 = ws2.drop(['Area_x' , 'Year_x' , 'Area_y' , 'Year_y' , 'Value_x' , 'Value_y'], axis=1)"
   ]
  },
  {
   "cell_type": "code",
   "execution_count": 17,
   "metadata": {},
   "outputs": [],
   "source": [
    "# Output to csv\n",
    "ws2.to_csv('https://raw.githubusercontent.com/SamBickelBarlow/SamBickelBarlow.github.io/refs/heads/main/Project/Write_up/water_stress_map/water_stress_map_clean_data.csv')"
   ]
  }
 ],
 "metadata": {
  "kernelspec": {
   "display_name": "base",
   "language": "python",
   "name": "python3"
  },
  "language_info": {
   "codemirror_mode": {
    "name": "ipython",
    "version": 3
   },
   "file_extension": ".py",
   "mimetype": "text/x-python",
   "name": "python",
   "nbconvert_exporter": "python",
   "pygments_lexer": "ipython3",
   "version": "3.12.2"
  }
 },
 "nbformat": 4,
 "nbformat_minor": 2
}
