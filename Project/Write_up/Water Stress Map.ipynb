{
 "cells": [
  {
   "cell_type": "code",
   "execution_count": 16,
   "metadata": {},
   "outputs": [
    {
     "name": "stdout",
     "output_type": "stream",
     "text": [
      "Collecting pycountry\n",
      "  Downloading pycountry-24.6.1-py3-none-any.whl.metadata (12 kB)\n",
      "Downloading pycountry-24.6.1-py3-none-any.whl (6.3 MB)\n",
      "\u001b[2K   \u001b[90m━━━━━━━━━━━━━━━━━━━━━━━━━━━━━━━━━━━━━━━━\u001b[0m \u001b[32m6.3/6.3 MB\u001b[0m \u001b[31m6.0 MB/s\u001b[0m eta \u001b[36m0:00:00\u001b[0m00:01\u001b[0m00:01\u001b[0m\n",
      "\u001b[?25hInstalling collected packages: pycountry\n",
      "Successfully installed pycountry-24.6.1\n",
      "Note: you may need to restart the kernel to use updated packages.\n"
     ]
    }
   ],
   "source": [
    "pip install pycountry"
   ]
  },
  {
   "cell_type": "code",
   "execution_count": 1,
   "metadata": {},
   "outputs": [],
   "source": [
    "import pandas as pd\n",
    "import numpy as np\n",
    "import pycountry"
   ]
  },
  {
   "cell_type": "code",
   "execution_count": 2,
   "metadata": {},
   "outputs": [],
   "source": [
    "fao = pd.read_csv('/Users/sambickel-barlow/Desktop/PP434/Project/AQUASTAT Dissemination System.csv')"
   ]
  },
  {
   "cell_type": "code",
   "execution_count": 3,
   "metadata": {},
   "outputs": [
    {
     "data": {
      "text/plain": [
       "array(['SDG 6.4.2. Water Stress'], dtype=object)"
      ]
     },
     "execution_count": 3,
     "metadata": {},
     "output_type": "execute_result"
    }
   ],
   "source": [
    "fao['Variable'].unique()"
   ]
  },
  {
   "cell_type": "code",
   "execution_count": 4,
   "metadata": {},
   "outputs": [],
   "source": [
    "ws = fao[fao['Variable'] == 'SDG 6.4.2. Water Stress'].reset_index()"
   ]
  },
  {
   "cell_type": "code",
   "execution_count": 5,
   "metadata": {},
   "outputs": [
    {
     "data": {
      "text/plain": [
       "0                                            Afghanistan\n",
       "1                                                Albania\n",
       "2                                                Algeria\n",
       "3                                                 Angola\n",
       "4                                    Antigua and Barbuda\n",
       "5                                              Argentina\n",
       "6                                                Armenia\n",
       "7                                              Australia\n",
       "8                                                Austria\n",
       "9                                             Azerbaijan\n",
       "10                                               Bahrain\n",
       "11                                            Bangladesh\n",
       "12                                              Barbados\n",
       "13                                               Belarus\n",
       "14                                               Belgium\n",
       "15                                                Belize\n",
       "16                                                 Benin\n",
       "17                                                Bhutan\n",
       "18                      Bolivia (Plurinational State of)\n",
       "19                                Bosnia and Herzegovina\n",
       "20                                              Botswana\n",
       "21                                                Brazil\n",
       "22                                     Brunei Darussalam\n",
       "23                                              Bulgaria\n",
       "24                                          Burkina Faso\n",
       "25                                               Burundi\n",
       "26                                            Cabo Verde\n",
       "27                                              Cambodia\n",
       "28                                              Cameroon\n",
       "29                                                Canada\n",
       "30                              Central African Republic\n",
       "31                                                  Chad\n",
       "32                                                 Chile\n",
       "33                                                 China\n",
       "34                                              Colombia\n",
       "35                                               Comoros\n",
       "36                                                 Congo\n",
       "37                                            Costa Rica\n",
       "38                                               Croatia\n",
       "39                                                  Cuba\n",
       "40                                                Cyprus\n",
       "41                                               Czechia\n",
       "42                                         Côte d'Ivoire\n",
       "43                 Democratic People's Republic of Korea\n",
       "44                      Democratic Republic of the Congo\n",
       "45                                               Denmark\n",
       "46                                              Djibouti\n",
       "47                                              Dominica\n",
       "48                                    Dominican Republic\n",
       "49                                               Ecuador\n",
       "50                                                 Egypt\n",
       "51                                           El Salvador\n",
       "52                                     Equatorial Guinea\n",
       "53                                               Eritrea\n",
       "54                                               Estonia\n",
       "55                                              Eswatini\n",
       "56                                              Ethiopia\n",
       "57                                                  Fiji\n",
       "58                                               Finland\n",
       "59                                                France\n",
       "60                                                 Gabon\n",
       "61                                                Gambia\n",
       "62                                               Georgia\n",
       "63                                               Germany\n",
       "64                                                 Ghana\n",
       "65                                                Greece\n",
       "66                                               Grenada\n",
       "67                                             Guatemala\n",
       "68                                                Guinea\n",
       "69                                         Guinea-Bissau\n",
       "70                                                Guyana\n",
       "71                                                 Haiti\n",
       "72                                              Honduras\n",
       "73                                               Hungary\n",
       "74                                               Iceland\n",
       "75                                                 India\n",
       "76                                             Indonesia\n",
       "77                            Iran (Islamic Republic of)\n",
       "78                                                  Iraq\n",
       "79                                               Ireland\n",
       "80                                                Israel\n",
       "81                                                 Italy\n",
       "82                                               Jamaica\n",
       "83                                                 Japan\n",
       "84                                                Jordan\n",
       "85                                            Kazakhstan\n",
       "86                                                 Kenya\n",
       "87                                                Kuwait\n",
       "88                                            Kyrgyzstan\n",
       "89                      Lao People's Democratic Republic\n",
       "90                                                Latvia\n",
       "91                                               Lebanon\n",
       "92                                               Lesotho\n",
       "93                                               Liberia\n",
       "94                                                 Libya\n",
       "95                                             Lithuania\n",
       "96                                            Luxembourg\n",
       "97                                            Madagascar\n",
       "98                                                Malawi\n",
       "99                                              Malaysia\n",
       "100                                             Maldives\n",
       "101                                                 Mali\n",
       "102                                                Malta\n",
       "103                                           Mauritania\n",
       "104                                            Mauritius\n",
       "105                                               Mexico\n",
       "106                                             Mongolia\n",
       "107                                              Morocco\n",
       "108                                           Mozambique\n",
       "109                                              Myanmar\n",
       "110                                              Namibia\n",
       "111                                                Nepal\n",
       "112                         Netherlands (Kingdom of the)\n",
       "113                                          New Zealand\n",
       "114                                            Nicaragua\n",
       "115                                                Niger\n",
       "116                                              Nigeria\n",
       "117                                      North Macedonia\n",
       "118                                               Norway\n",
       "119                                                 Oman\n",
       "120                                             Pakistan\n",
       "121                                            Palestine\n",
       "122                                               Panama\n",
       "123                                     Papua New Guinea\n",
       "124                                             Paraguay\n",
       "125                                                 Peru\n",
       "126                                          Philippines\n",
       "127                                               Poland\n",
       "128                                             Portugal\n",
       "129                                          Puerto Rico\n",
       "130                                                Qatar\n",
       "131                                    Republic of Korea\n",
       "132                                  Republic of Moldova\n",
       "133                                              Romania\n",
       "134                                   Russian Federation\n",
       "135                                               Rwanda\n",
       "136                                Saint Kitts and Nevis\n",
       "137                                          Saint Lucia\n",
       "138                     Saint Vincent and the Grenadines\n",
       "139                                Sao Tome and Principe\n",
       "140                                         Saudi Arabia\n",
       "141                                              Senegal\n",
       "142                                               Serbia\n",
       "143                                         Sierra Leone\n",
       "144                                            Singapore\n",
       "145                                             Slovakia\n",
       "146                                             Slovenia\n",
       "147                                              Somalia\n",
       "148                                         South Africa\n",
       "149                                          South Sudan\n",
       "150                                                Spain\n",
       "151                                            Sri Lanka\n",
       "152                                                Sudan\n",
       "153                                             Suriname\n",
       "154                                               Sweden\n",
       "155                                          Switzerland\n",
       "156                                 Syrian Arab Republic\n",
       "157                                           Tajikistan\n",
       "158                                             Thailand\n",
       "159                                          Timor-Leste\n",
       "160                                                 Togo\n",
       "161                                  Trinidad and Tobago\n",
       "162                                              Tunisia\n",
       "163                                         Turkmenistan\n",
       "164                                              Türkiye\n",
       "165                                               Uganda\n",
       "166                                              Ukraine\n",
       "167                                 United Arab Emirates\n",
       "168    United Kingdom of Great Britain and Northern I...\n",
       "169                          United Republic of Tanzania\n",
       "170                             United States of America\n",
       "171                                              Uruguay\n",
       "172                                           Uzbekistan\n",
       "173                   Venezuela (Bolivarian Republic of)\n",
       "174                                             Viet Nam\n",
       "175                                                Yemen\n",
       "176                                               Zambia\n",
       "177                                             Zimbabwe\n",
       "dtype: object"
      ]
     },
     "execution_count": 5,
     "metadata": {},
     "output_type": "execute_result"
    }
   ],
   "source": [
    "pd.set_option('display.max_rows', None)\n",
    "pd.Series(ws['Area'].unique())"
   ]
  },
  {
   "cell_type": "code",
   "execution_count": 6,
   "metadata": {},
   "outputs": [],
   "source": [
    "# Function to get the ISO3 code for a specific country\n",
    "def get_iso3(area):\n",
    "    if area == 'Bolivia (Plurinational State of)':\n",
    "        return 'BOL'\n",
    "    elif area == 'Democratic Republic of the Congo':\n",
    "        return 'COD'\n",
    "    elif area == 'Iran (Islamic Republic of)':\n",
    "        return 'IRN'\n",
    "    elif area == 'Netherlands (Kingdom of the)':\n",
    "        return 'NLD'\n",
    "    elif area == 'Venezuela (Bolivarian Republic of)':\n",
    "        return 'VEN'\n",
    "    elif area == 'Niger':\n",
    "        return 'NER'\n",
    "    elif area == 'Republic of Korea':\n",
    "        return 'KOR'\n",
    "    elif area == 'Republic of Korea':\n",
    "        return 'KOR'\n",
    "    else:\n",
    "        # Attempt to use pycountry to get the ISO3 code\n",
    "        try:\n",
    "            return pycountry.countries.search_fuzzy(area)[0].alpha_3\n",
    "        except:\n",
    "            return 'Not Found'  # Return 'Not Found' if the country is not found\n",
    "\n",
    "# Applying the function to the 'Area' column and creating the 'ISO3' column\n",
    "ws['ISO3'] = ws['Area'].apply(get_iso3)"
   ]
  },
  {
   "cell_type": "code",
   "execution_count": 7,
   "metadata": {},
   "outputs": [],
   "source": [
    "ws.to_csv('/Users/sambickel-barlow/Desktop/PP434/Project/AQUASTAT_map_data.csv')"
   ]
  },
  {
   "cell_type": "code",
   "execution_count": 12,
   "metadata": {},
   "outputs": [],
   "source": [
    "ws2 = ws.drop(['index' , 'VariableGroup' , 'Subgroup' , 'Variable' , 'Unit' , 'Symbol' , 'IsAggregate'], axis=1)"
   ]
  },
  {
   "cell_type": "code",
   "execution_count": 13,
   "metadata": {},
   "outputs": [],
   "source": [
    "ws2 = ws2[ws2['ISO3'] != 'Not Found']"
   ]
  },
  {
   "cell_type": "code",
   "execution_count": 14,
   "metadata": {},
   "outputs": [],
   "source": [
    "ws2 = ws2[ws2['Year'] == 2022].merge(ws2[ws2['Year'] == 2002] , how='left' , on='ISO3')"
   ]
  },
  {
   "cell_type": "code",
   "execution_count": 15,
   "metadata": {},
   "outputs": [],
   "source": [
    "ws2['Area'] = ws2['Area_x']\n",
    "ws2['Water Stress net change'] = ws2['Value_x'] - ws2['Value_y']\n",
    "ws2['Water Stress pct change'] = (ws2['Value_x'] - ws2['Value_y']) / ws2['Value_y']\n",
    "ws2['Water Stress 2002'] = ws2['Value_y']\n",
    "ws2['Water Stress 2022'] = ws2['Value_x']"
   ]
  },
  {
   "cell_type": "code",
   "execution_count": 16,
   "metadata": {},
   "outputs": [],
   "source": [
    "ws2 = ws2.drop(['Area_x' , 'Year_x' , 'Area_y' , 'Year_y' , 'Value_x' , 'Value_y'], axis=1)"
   ]
  },
  {
   "cell_type": "code",
   "execution_count": 17,
   "metadata": {},
   "outputs": [],
   "source": [
    "ws2.to_csv('/Users/sambickel-barlow/Desktop/PP434/Project/AQUASTAT_delta_update.csv')"
   ]
  }
 ],
 "metadata": {
  "kernelspec": {
   "display_name": "base",
   "language": "python",
   "name": "python3"
  },
  "language_info": {
   "codemirror_mode": {
    "name": "ipython",
    "version": 3
   },
   "file_extension": ".py",
   "mimetype": "text/x-python",
   "name": "python",
   "nbconvert_exporter": "python",
   "pygments_lexer": "ipython3",
   "version": "3.12.2"
  }
 },
 "nbformat": 4,
 "nbformat_minor": 2
}
